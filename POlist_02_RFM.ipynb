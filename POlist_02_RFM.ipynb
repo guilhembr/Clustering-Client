{
  "cells": [
    {
      "cell_type": "markdown",
      "metadata": {
        "id": "view-in-github",
        "colab_type": "text"
      },
      "source": [
        "<a href=\"https://colab.research.google.com/github/guilhembr/Clustering-Client/blob/main/POlist_02_RFM.ipynb\" target=\"_parent\"><img src=\"https://colab.research.google.com/assets/colab-badge.svg\" alt=\"Open In Colab\"/></a>"
      ]
    },
    {
      "cell_type": "markdown",
      "metadata": {
        "id": "yud-0Bg8_yuY"
      },
      "source": [
        "#Clustering on Olist e-commerce Database"
      ]
    },
    {
      "cell_type": "markdown",
      "metadata": {
        "id": "abTAx3PojplU"
      },
      "source": [
        "Data Source : https://www.kaggle.com/olistbr/brazilian-ecommerce/version/7?select=product_category_name_translation.csv"
      ]
    },
    {
      "cell_type": "code",
      "execution_count": null,
      "metadata": {
        "colab": {
          "base_uri": "https://localhost:8080/"
        },
        "id": "4HDAufyj_LOU",
        "outputId": "9ec892de-a848-4bc5-ee7c-1637f9b1b068"
      },
      "outputs": [
        {
          "name": "stdout",
          "output_type": "stream",
          "text": [
            "Found existing installation: scikit-learn 1.0.1\n",
            "Uninstalling scikit-learn-1.0.1:\n",
            "  Successfully uninstalled scikit-learn-1.0.1\n",
            "Collecting scikit-learn==0.23.2\n",
            "  Downloading scikit_learn-0.23.2-cp37-cp37m-manylinux1_x86_64.whl (6.8 MB)\n",
            "\u001b[K     |████████████████████████████████| 6.8 MB 5.0 MB/s \n",
            "\u001b[?25hRequirement already satisfied: numpy>=1.13.3 in /usr/local/lib/python3.7/dist-packages (from scikit-learn==0.23.2) (1.19.5)\n",
            "Requirement already satisfied: joblib>=0.11 in /usr/local/lib/python3.7/dist-packages (from scikit-learn==0.23.2) (1.1.0)\n",
            "Requirement already satisfied: scipy>=0.19.1 in /usr/local/lib/python3.7/dist-packages (from scikit-learn==0.23.2) (1.4.1)\n",
            "Requirement already satisfied: threadpoolctl>=2.0.0 in /usr/local/lib/python3.7/dist-packages (from scikit-learn==0.23.2) (3.0.0)\n",
            "Installing collected packages: scikit-learn\n",
            "\u001b[31mERROR: pip's dependency resolver does not currently take into account all the packages that are installed. This behaviour is the source of the following dependency conflicts.\n",
            "imbalanced-learn 0.8.1 requires scikit-learn>=0.24, but you have scikit-learn 0.23.2 which is incompatible.\u001b[0m\n",
            "Successfully installed scikit-learn-0.23.2\n",
            "Collecting squarify\n",
            "  Downloading squarify-0.4.3-py3-none-any.whl (4.3 kB)\n",
            "Installing collected packages: squarify\n",
            "Successfully installed squarify-0.4.3\n",
            "Requirement already satisfied: yellowbrick in /usr/local/lib/python3.7/dist-packages (1.3.post1)\n",
            "Requirement already satisfied: matplotlib!=3.0.0,>=2.0.2 in /usr/local/lib/python3.7/dist-packages (from yellowbrick) (3.2.2)\n",
            "Requirement already satisfied: scikit-learn>=0.20 in /usr/local/lib/python3.7/dist-packages (from yellowbrick) (0.23.2)\n",
            "Requirement already satisfied: scipy>=1.0.0 in /usr/local/lib/python3.7/dist-packages (from yellowbrick) (1.4.1)\n",
            "Requirement already satisfied: cycler>=0.10.0 in /usr/local/lib/python3.7/dist-packages (from yellowbrick) (0.11.0)\n",
            "Requirement already satisfied: numpy<1.20,>=1.16.0 in /usr/local/lib/python3.7/dist-packages (from yellowbrick) (1.19.5)\n",
            "Requirement already satisfied: kiwisolver>=1.0.1 in /usr/local/lib/python3.7/dist-packages (from matplotlib!=3.0.0,>=2.0.2->yellowbrick) (1.3.2)\n",
            "Requirement already satisfied: pyparsing!=2.0.4,!=2.1.2,!=2.1.6,>=2.0.1 in /usr/local/lib/python3.7/dist-packages (from matplotlib!=3.0.0,>=2.0.2->yellowbrick) (3.0.6)\n",
            "Requirement already satisfied: python-dateutil>=2.1 in /usr/local/lib/python3.7/dist-packages (from matplotlib!=3.0.0,>=2.0.2->yellowbrick) (2.8.2)\n",
            "Requirement already satisfied: six>=1.5 in /usr/local/lib/python3.7/dist-packages (from python-dateutil>=2.1->matplotlib!=3.0.0,>=2.0.2->yellowbrick) (1.15.0)\n",
            "Requirement already satisfied: threadpoolctl>=2.0.0 in /usr/local/lib/python3.7/dist-packages (from scikit-learn>=0.20->yellowbrick) (3.0.0)\n",
            "Requirement already satisfied: joblib>=0.11 in /usr/local/lib/python3.7/dist-packages (from scikit-learn>=0.20->yellowbrick) (1.1.0)\n",
            "Collecting plotly==5.3.1\n",
            "  Downloading plotly-5.3.1-py2.py3-none-any.whl (23.9 MB)\n",
            "\u001b[K     |████████████████████████████████| 23.9 MB 14 kB/s \n",
            "\u001b[?25hCollecting tenacity>=6.2.0\n",
            "  Downloading tenacity-8.0.1-py3-none-any.whl (24 kB)\n",
            "Requirement already satisfied: six in /usr/local/lib/python3.7/dist-packages (from plotly==5.3.1) (1.15.0)\n",
            "Installing collected packages: tenacity, plotly\n",
            "  Attempting uninstall: plotly\n",
            "    Found existing installation: plotly 4.4.1\n",
            "    Uninstalling plotly-4.4.1:\n",
            "      Successfully uninstalled plotly-4.4.1\n",
            "Successfully installed plotly-5.3.1 tenacity-8.0.1\n",
            "Collecting dash\n",
            "  Downloading dash-2.0.0-py3-none-any.whl (7.3 MB)\n",
            "\u001b[K     |████████████████████████████████| 7.3 MB 5.1 MB/s \n",
            "\u001b[?25hCollecting flask-compress\n",
            "  Downloading Flask_Compress-1.10.1-py3-none-any.whl (7.9 kB)\n",
            "Collecting dash-html-components==2.0.0\n",
            "  Downloading dash_html_components-2.0.0.tar.gz (3.8 kB)\n",
            "Collecting dash-table==5.0.0\n",
            "  Downloading dash_table-5.0.0.tar.gz (3.4 kB)\n",
            "Requirement already satisfied: plotly>=5.0.0 in /usr/local/lib/python3.7/dist-packages (from dash) (5.3.1)\n",
            "Requirement already satisfied: Flask>=1.0.4 in /usr/local/lib/python3.7/dist-packages (from dash) (1.1.4)\n",
            "Collecting dash-core-components==2.0.0\n",
            "  Downloading dash_core_components-2.0.0.tar.gz (3.4 kB)\n",
            "Requirement already satisfied: Werkzeug<2.0,>=0.15 in /usr/local/lib/python3.7/dist-packages (from Flask>=1.0.4->dash) (1.0.1)\n",
            "Requirement already satisfied: click<8.0,>=5.1 in /usr/local/lib/python3.7/dist-packages (from Flask>=1.0.4->dash) (7.1.2)\n",
            "Requirement already satisfied: itsdangerous<2.0,>=0.24 in /usr/local/lib/python3.7/dist-packages (from Flask>=1.0.4->dash) (1.1.0)\n",
            "Requirement already satisfied: Jinja2<3.0,>=2.10.1 in /usr/local/lib/python3.7/dist-packages (from Flask>=1.0.4->dash) (2.11.3)\n",
            "Requirement already satisfied: MarkupSafe>=0.23 in /usr/local/lib/python3.7/dist-packages (from Jinja2<3.0,>=2.10.1->Flask>=1.0.4->dash) (2.0.1)\n",
            "Requirement already satisfied: six in /usr/local/lib/python3.7/dist-packages (from plotly>=5.0.0->dash) (1.15.0)\n",
            "Requirement already satisfied: tenacity>=6.2.0 in /usr/local/lib/python3.7/dist-packages (from plotly>=5.0.0->dash) (8.0.1)\n",
            "Collecting brotli\n",
            "  Downloading Brotli-1.0.9-cp37-cp37m-manylinux1_x86_64.whl (357 kB)\n",
            "\u001b[K     |████████████████████████████████| 357 kB 78.3 MB/s \n",
            "\u001b[?25hBuilding wheels for collected packages: dash-core-components, dash-html-components, dash-table\n",
            "  Building wheel for dash-core-components (setup.py) ... \u001b[?25l\u001b[?25hdone\n",
            "  Created wheel for dash-core-components: filename=dash_core_components-2.0.0-py3-none-any.whl size=3821 sha256=a32884485863e2ddfbc7fb4576ce71078c0ab0fe06c6087540f8345474825a2e\n",
            "  Stored in directory: /root/.cache/pip/wheels/00/f9/c7/1a6437d794ed753ea9bc9079e761d4fc803a1f1f5d3697b9ec\n",
            "  Building wheel for dash-html-components (setup.py) ... \u001b[?25l\u001b[?25hdone\n",
            "  Created wheel for dash-html-components: filename=dash_html_components-2.0.0-py3-none-any.whl size=4089 sha256=c89acf8d4d2f61d49e9561eb011bc6035fffd287e52319b0e8c1e7bc3034fe11\n",
            "  Stored in directory: /root/.cache/pip/wheels/ec/6b/81/05aceabd8b27f724e2c96784016287cc1bfbc349ebfda451de\n",
            "  Building wheel for dash-table (setup.py) ... \u001b[?25l\u001b[?25hdone\n",
            "  Created wheel for dash-table: filename=dash_table-5.0.0-py3-none-any.whl size=3911 sha256=df2ee9d77cabd9798b377d63e849ab34a6df8d5f15d1eb6e64cfd3a86d247f6f\n",
            "  Stored in directory: /root/.cache/pip/wheels/85/5d/4e/7c276b57992951dbe770bf5caad6448d0539c510663aefd2e2\n",
            "Successfully built dash-core-components dash-html-components dash-table\n",
            "Installing collected packages: brotli, flask-compress, dash-table, dash-html-components, dash-core-components, dash\n",
            "Successfully installed brotli-1.0.9 dash-2.0.0 dash-core-components-2.0.0 dash-html-components-2.0.0 dash-table-5.0.0 flask-compress-1.10.1\n"
          ]
        }
      ],
      "source": [
        "#Verify latests versions of packages\n",
        "!pip uninstall scikit-learn -y\n",
        "!pip install scikit-learn==0.23.2\n",
        "\n",
        "!pip install squarify\n",
        "!pip install -U yellowbrick\n",
        "!pip install plotly==5.3.1\n",
        "!pip install dash"
      ]
    },
    {
      "cell_type": "code",
      "execution_count": null,
      "metadata": {
        "id": "cVomZYFLaYZe"
      },
      "outputs": [],
      "source": [
        "import pandas as pd\n",
        "import matplotlib\n",
        "import matplotlib.pyplot as plt\n",
        "import seaborn as sns\n",
        "import squarify\n",
        "import numpy as np\n",
        "from scipy import stats\n",
        "\n",
        "#Viz libraries\n",
        "import plotly.express as px\n",
        "import plotly.graph_objects as go\n",
        "\n",
        "#Standard ML librairies import\n",
        "from sklearn.preprocessing import StandardScaler, MinMaxScaler\n",
        "from sklearn.compose import ColumnTransformer, make_column_transformer\n",
        "from sklearn.pipeline import Pipeline, make_pipeline\n",
        "from sklearn.metrics import homogeneity_score, adjusted_rand_score, adjusted_mutual_info_score\n",
        "\n",
        "#Clustering librairies import\n",
        "from sklearn.cluster import KMeans\n",
        "from sklearn.cluster import MeanShift, estimate_bandwidth\n",
        "from sklearn.datasets import make_blobs\n",
        "from yellowbrick.cluster import KElbowVisualizer, SilhouetteVisualizer, InterclusterDistance\n",
        "import scipy.cluster.hierarchy as shc\n",
        "from sklearn.cluster import AgglomerativeClustering\n",
        "\n",
        "matplotlib.rcParams[\"figure.figsize\"] = (12, 8)"
      ]
    },
    {
      "cell_type": "code",
      "execution_count": null,
      "metadata": {
        "colab": {
          "background_save": true,
          "base_uri": "https://localhost:8080/"
        },
        "id": "sZPZmpZAe124",
        "outputId": "088ab527-ec02-4ea8-d017-650ceebddf0a"
      },
      "outputs": [
        {
          "name": "stdout",
          "output_type": "stream",
          "text": [
            "Mounted at /content/drive\n"
          ]
        }
      ],
      "source": [
        "from google.colab import drive\n",
        "drive.mount('/content/drive')"
      ]
    },
    {
      "cell_type": "code",
      "execution_count": null,
      "metadata": {
        "colab": {
          "background_save": true
        },
        "id": "r-dvcJVswVeD"
      },
      "outputs": [],
      "source": [
        "#project custom scripts\n",
        "import sys\n",
        "import os\n",
        "\n",
        "py_file_location = \"/content/drive/MyDrive/Colab Notebooks/3_Projets OC/Projet 5/Notebooks/\"\n",
        "sys.path.append(os.path.abspath(py_file_location))\n",
        "\n",
        "import olist_functions as custom"
      ]
    },
    {
      "cell_type": "markdown",
      "metadata": {
        "id": "PH2I9yB63zJ3"
      },
      "source": [
        "##Import the Data"
      ]
    },
    {
      "cell_type": "code",
      "execution_count": null,
      "metadata": {
        "colab": {
          "background_save": true
        },
        "id": "C5BQna_KaYZi"
      },
      "outputs": [],
      "source": [
        "root_dir = '/content/drive/MyDrive/Colab Notebooks/3_Projets OC/Projet 5/raw data/'\n",
        "\n",
        "# Orders\n",
        "orders_raw = pd.read_csv(root_dir + 'olist_orders_dataset_cleaned.csv',\n",
        "                         parse_dates=['order_purchase_timestamp',\n",
        "                                      'order_approved_at',\n",
        "                                      'order_delivered_carrier_date',\n",
        "                                      'order_delivered_customer_date',\n",
        "                                      'order_estimated_delivery_date'])\n",
        "\n",
        "# Customers\n",
        "customers_raw = pd.read_csv(root_dir + 'olist_customers_dataset.csv',\n",
        "                            dtype={'customer_zip_code_prefix': str})\n",
        "\n",
        "# Payments\n",
        "payments_raw = pd.read_csv(root_dir + 'olist_order_payments_dataset.csv')\n",
        "\n",
        "# Reviews\n",
        "reviews_raw = pd.read_csv(root_dir + 'olist_order_reviews_dataset.csv',\n",
        "                          parse_dates=['review_creation_date',\n",
        "                                       'review_answer_timestamp'])\n",
        "\n",
        "# Orders details\n",
        "order_items_raw = pd.read_csv(root_dir + 'olist_order_items_dataset.csv',\n",
        "                              parse_dates=['shipping_limit_date'],\n",
        "                              dtype={'order_item_id': float})\n",
        "\n",
        "# Products\n",
        "products_portuguese_raw = pd.read_csv(root_dir + 'olist_products_dataset.csv')\n",
        "\n",
        "# Sellers\n",
        "sellers_raw = pd.read_csv(root_dir + 'olist_sellers_dataset.csv')\n",
        "\n",
        "# Geo\n",
        "geolocation_raw = pd.read_csv(root_dir + 'olist_geolocation_dataset.csv',\n",
        "                              dtype={'geolocation_zip_code_prefix': str})\n",
        "\n",
        "# Categs\n",
        "categ_prod_file = root_dir + 'product_category_name_translation.csv'\n",
        "product_category_translate = pd.read_csv(categ_prod_file)"
      ]
    },
    {
      "cell_type": "markdown",
      "metadata": {
        "id": "wmHlZQtXiSIT"
      },
      "source": [
        "#Manual RFM Clustering"
      ]
    },
    {
      "cell_type": "code",
      "execution_count": null,
      "metadata": {
        "colab": {
          "background_save": true
        },
        "id": "8PGFFzUnaYZk",
        "outputId": "60056bd6-9fb8-4700-ffb2-ffcea91cb4cd"
      },
      "outputs": [
        {
          "data": {
            "text/html": [
              "<div>\n",
              "<style scoped>\n",
              "    .dataframe tbody tr th:only-of-type {\n",
              "        vertical-align: middle;\n",
              "    }\n",
              "\n",
              "    .dataframe tbody tr th {\n",
              "        vertical-align: top;\n",
              "    }\n",
              "\n",
              "    .dataframe thead th {\n",
              "        text-align: right;\n",
              "    }\n",
              "</style>\n",
              "<table border=\"1\" class=\"dataframe\">\n",
              "  <thead>\n",
              "    <tr style=\"text-align: right;\">\n",
              "      <th></th>\n",
              "      <th>customer_id</th>\n",
              "      <th>customer_unique_id</th>\n",
              "      <th>customer_zip_code_prefix</th>\n",
              "      <th>customer_city</th>\n",
              "      <th>customer_state</th>\n",
              "    </tr>\n",
              "  </thead>\n",
              "  <tbody>\n",
              "    <tr>\n",
              "      <th>0</th>\n",
              "      <td>06b8999e2fba1a1fbc88172c00ba8bc7</td>\n",
              "      <td>861eff4711a542e4b93843c6dd7febb0</td>\n",
              "      <td>14409</td>\n",
              "      <td>franca</td>\n",
              "      <td>SP</td>\n",
              "    </tr>\n",
              "    <tr>\n",
              "      <th>1</th>\n",
              "      <td>18955e83d337fd6b2def6b18a428ac77</td>\n",
              "      <td>290c77bc529b7ac935b93aa66c333dc3</td>\n",
              "      <td>09790</td>\n",
              "      <td>sao bernardo do campo</td>\n",
              "      <td>SP</td>\n",
              "    </tr>\n",
              "    <tr>\n",
              "      <th>2</th>\n",
              "      <td>4e7b3e00288586ebd08712fdd0374a03</td>\n",
              "      <td>060e732b5b29e8181a18229c7b0b2b5e</td>\n",
              "      <td>01151</td>\n",
              "      <td>sao paulo</td>\n",
              "      <td>SP</td>\n",
              "    </tr>\n",
              "    <tr>\n",
              "      <th>3</th>\n",
              "      <td>b2b6027bc5c5109e529d4dc6358b12c3</td>\n",
              "      <td>259dac757896d24d7702b9acbbff3f3c</td>\n",
              "      <td>08775</td>\n",
              "      <td>mogi das cruzes</td>\n",
              "      <td>SP</td>\n",
              "    </tr>\n",
              "    <tr>\n",
              "      <th>4</th>\n",
              "      <td>4f2d8ab171c80ec8364f7c12e35b23ad</td>\n",
              "      <td>345ecd01c38d18a9036ed96c73b8d066</td>\n",
              "      <td>13056</td>\n",
              "      <td>campinas</td>\n",
              "      <td>SP</td>\n",
              "    </tr>\n",
              "    <tr>\n",
              "      <th>...</th>\n",
              "      <td>...</td>\n",
              "      <td>...</td>\n",
              "      <td>...</td>\n",
              "      <td>...</td>\n",
              "      <td>...</td>\n",
              "    </tr>\n",
              "    <tr>\n",
              "      <th>99436</th>\n",
              "      <td>17ddf5dd5d51696bb3d7c6291687be6f</td>\n",
              "      <td>1a29b476fee25c95fbafc67c5ac95cf8</td>\n",
              "      <td>03937</td>\n",
              "      <td>sao paulo</td>\n",
              "      <td>SP</td>\n",
              "    </tr>\n",
              "    <tr>\n",
              "      <th>99437</th>\n",
              "      <td>e7b71a9017aa05c9a7fd292d714858e8</td>\n",
              "      <td>d52a67c98be1cf6a5c84435bd38d095d</td>\n",
              "      <td>06764</td>\n",
              "      <td>taboao da serra</td>\n",
              "      <td>SP</td>\n",
              "    </tr>\n",
              "    <tr>\n",
              "      <th>99438</th>\n",
              "      <td>5e28dfe12db7fb50a4b2f691faecea5e</td>\n",
              "      <td>e9f50caf99f032f0bf3c55141f019d99</td>\n",
              "      <td>60115</td>\n",
              "      <td>fortaleza</td>\n",
              "      <td>CE</td>\n",
              "    </tr>\n",
              "    <tr>\n",
              "      <th>99439</th>\n",
              "      <td>56b18e2166679b8a959d72dd06da27f9</td>\n",
              "      <td>73c2643a0a458b49f58cea58833b192e</td>\n",
              "      <td>92120</td>\n",
              "      <td>canoas</td>\n",
              "      <td>RS</td>\n",
              "    </tr>\n",
              "    <tr>\n",
              "      <th>99440</th>\n",
              "      <td>274fa6071e5e17fe303b9748641082c8</td>\n",
              "      <td>84732c5050c01db9b23e19ba39899398</td>\n",
              "      <td>06703</td>\n",
              "      <td>cotia</td>\n",
              "      <td>SP</td>\n",
              "    </tr>\n",
              "  </tbody>\n",
              "</table>\n",
              "<p>99441 rows × 5 columns</p>\n",
              "</div>"
            ],
            "text/plain": [
              "                            customer_id  ... customer_state\n",
              "0      06b8999e2fba1a1fbc88172c00ba8bc7  ...             SP\n",
              "1      18955e83d337fd6b2def6b18a428ac77  ...             SP\n",
              "2      4e7b3e00288586ebd08712fdd0374a03  ...             SP\n",
              "3      b2b6027bc5c5109e529d4dc6358b12c3  ...             SP\n",
              "4      4f2d8ab171c80ec8364f7c12e35b23ad  ...             SP\n",
              "...                                 ...  ...            ...\n",
              "99436  17ddf5dd5d51696bb3d7c6291687be6f  ...             SP\n",
              "99437  e7b71a9017aa05c9a7fd292d714858e8  ...             SP\n",
              "99438  5e28dfe12db7fb50a4b2f691faecea5e  ...             CE\n",
              "99439  56b18e2166679b8a959d72dd06da27f9  ...             RS\n",
              "99440  274fa6071e5e17fe303b9748641082c8  ...             SP\n",
              "\n",
              "[99441 rows x 5 columns]"
            ]
          },
          "execution_count": null,
          "metadata": {},
          "output_type": "execute_result"
        }
      ],
      "source": [
        "customers_raw"
      ]
    },
    {
      "cell_type": "markdown",
      "metadata": {
        "id": "krGPkO_Sis0e"
      },
      "source": [
        "We want to join 3 datasets in order to calculate RFM : \n",
        "* Recency : \n",
        "  * How long has it been since the client's last activity?\n",
        "  * Info needed : `point in time on which the analysis will be based` `order date` `customer id`\n",
        "\n",
        "* Frequency : \n",
        "  * Over a given period of time, how many times has a customer purchased or interacted with the brand?\n",
        "  * Info needed : `point in time on which the analysis will be based` `customer id` `order count` \n",
        "\n",
        "* Monetary : \n",
        "  * How much money did a customer spend in a given period of time?\n",
        "  * Info needed : `customer id` `order count` `order individual amount`"
      ]
    },
    {
      "cell_type": "markdown",
      "metadata": {
        "id": "dfpd2U6Lm-FV"
      },
      "source": [
        "First let's join the `order dataset` and the `customer dataset` in order to obtain the `customer_unique_id`. "
      ]
    },
    {
      "cell_type": "code",
      "execution_count": null,
      "metadata": {
        "colab": {
          "background_save": true
        },
        "id": "wbYfBTfNaYZ2",
        "outputId": "27bbbe6a-c2f7-4a6e-d64f-b65c90c6a36a"
      },
      "outputs": [
        {
          "data": {
            "text/html": [
              "<div>\n",
              "<style scoped>\n",
              "    .dataframe tbody tr th:only-of-type {\n",
              "        vertical-align: middle;\n",
              "    }\n",
              "\n",
              "    .dataframe tbody tr th {\n",
              "        vertical-align: top;\n",
              "    }\n",
              "\n",
              "    .dataframe thead th {\n",
              "        text-align: right;\n",
              "    }\n",
              "</style>\n",
              "<table border=\"1\" class=\"dataframe\">\n",
              "  <thead>\n",
              "    <tr style=\"text-align: right;\">\n",
              "      <th></th>\n",
              "      <th>order_id</th>\n",
              "      <th>customer_id</th>\n",
              "      <th>order_status</th>\n",
              "      <th>order_purchase_timestamp</th>\n",
              "      <th>order_approved_at</th>\n",
              "      <th>order_delivered_carrier_date</th>\n",
              "      <th>order_delivered_customer_date</th>\n",
              "      <th>order_estimated_delivery_date</th>\n",
              "      <th>order_purchase_year</th>\n",
              "      <th>order_purchase_month</th>\n",
              "      <th>order_purchase_month_name</th>\n",
              "      <th>order_purchase_year_month</th>\n",
              "      <th>order_purchase_date</th>\n",
              "      <th>order_purchase_day</th>\n",
              "      <th>order_purchase_day_of_week</th>\n",
              "      <th>order_purchase_day_of_week_name</th>\n",
              "      <th>order_purchase_hours</th>\n",
              "      <th>order_approved_date</th>\n",
              "      <th>order_delivery_carrier_date</th>\n",
              "      <th>order_delivery_customer_estimated</th>\n",
              "      <th>order_delivery_customer_date</th>\n",
              "      <th>placing_daylag</th>\n",
              "      <th>shipping_daylag</th>\n",
              "      <th>estimation_daylag</th>\n",
              "      <th>carrier_daylag</th>\n",
              "      <th>delivery_timing</th>\n",
              "      <th>customer_unique_id</th>\n",
              "    </tr>\n",
              "  </thead>\n",
              "  <tbody>\n",
              "    <tr>\n",
              "      <th>0</th>\n",
              "      <td>e481f51cbdc54678b7cc49136f2d6af7</td>\n",
              "      <td>9ef432eb6251297304e76186b10a928d</td>\n",
              "      <td>delivered</td>\n",
              "      <td>2017-10-02 10:56:33</td>\n",
              "      <td>2017-10-02 11:07:15</td>\n",
              "      <td>2017-10-04 19:55:00</td>\n",
              "      <td>2017-10-10 21:25:13</td>\n",
              "      <td>2017-10-18</td>\n",
              "      <td>2017</td>\n",
              "      <td>10</td>\n",
              "      <td>Oct</td>\n",
              "      <td>201710</td>\n",
              "      <td>20171002</td>\n",
              "      <td>2</td>\n",
              "      <td>0</td>\n",
              "      <td>Mon</td>\n",
              "      <td>Morning</td>\n",
              "      <td>20171002</td>\n",
              "      <td>20171004</td>\n",
              "      <td>20171018</td>\n",
              "      <td>20171010</td>\n",
              "      <td>0</td>\n",
              "      <td>2</td>\n",
              "      <td>-8</td>\n",
              "      <td>6</td>\n",
              "      <td>8</td>\n",
              "      <td>7c396fd4830fd04220f754e42b4e5bff</td>\n",
              "    </tr>\n",
              "    <tr>\n",
              "      <th>1</th>\n",
              "      <td>53cdb2fc8bc7dce0b6741e2150273451</td>\n",
              "      <td>b0830fb4747a6c6d20dea0b8c802d7ef</td>\n",
              "      <td>delivered</td>\n",
              "      <td>2018-07-24 20:41:37</td>\n",
              "      <td>2018-07-26 03:24:27</td>\n",
              "      <td>2018-07-26 14:31:00</td>\n",
              "      <td>2018-08-07 15:27:45</td>\n",
              "      <td>2018-08-13</td>\n",
              "      <td>2018</td>\n",
              "      <td>7</td>\n",
              "      <td>Jul</td>\n",
              "      <td>201807</td>\n",
              "      <td>20180724</td>\n",
              "      <td>24</td>\n",
              "      <td>1</td>\n",
              "      <td>Tue</td>\n",
              "      <td>Evening</td>\n",
              "      <td>20180726</td>\n",
              "      <td>20180726</td>\n",
              "      <td>20180813</td>\n",
              "      <td>20180807</td>\n",
              "      <td>2</td>\n",
              "      <td>0</td>\n",
              "      <td>-6</td>\n",
              "      <td>81</td>\n",
              "      <td>13</td>\n",
              "      <td>af07308b275d755c9edb36a90c618231</td>\n",
              "    </tr>\n",
              "    <tr>\n",
              "      <th>2</th>\n",
              "      <td>47770eb9100c2d0c44946d9cf07ec65d</td>\n",
              "      <td>41ce2a54c0b03bf3443c3d931a367089</td>\n",
              "      <td>delivered</td>\n",
              "      <td>2018-08-08 08:38:49</td>\n",
              "      <td>2018-08-08 08:55:23</td>\n",
              "      <td>2018-08-08 13:50:00</td>\n",
              "      <td>2018-08-17 18:06:29</td>\n",
              "      <td>2018-09-04</td>\n",
              "      <td>2018</td>\n",
              "      <td>8</td>\n",
              "      <td>Aug</td>\n",
              "      <td>201808</td>\n",
              "      <td>20180808</td>\n",
              "      <td>8</td>\n",
              "      <td>2</td>\n",
              "      <td>Wed</td>\n",
              "      <td>Morning</td>\n",
              "      <td>20180808</td>\n",
              "      <td>20180808</td>\n",
              "      <td>20180904</td>\n",
              "      <td>20180817</td>\n",
              "      <td>0</td>\n",
              "      <td>0</td>\n",
              "      <td>-87</td>\n",
              "      <td>9</td>\n",
              "      <td>9</td>\n",
              "      <td>3a653a41f6f9fc3d2a113cf8398680e8</td>\n",
              "    </tr>\n",
              "    <tr>\n",
              "      <th>3</th>\n",
              "      <td>949d5b44dbf5de918fe9c16f97b45f8a</td>\n",
              "      <td>f88197465ea7920adcdbec7375364d82</td>\n",
              "      <td>delivered</td>\n",
              "      <td>2017-11-18 19:28:06</td>\n",
              "      <td>2017-11-18 19:45:59</td>\n",
              "      <td>2017-11-22 13:39:59</td>\n",
              "      <td>2017-12-02 00:28:42</td>\n",
              "      <td>2017-12-15</td>\n",
              "      <td>2017</td>\n",
              "      <td>11</td>\n",
              "      <td>Nov</td>\n",
              "      <td>201711</td>\n",
              "      <td>20171118</td>\n",
              "      <td>18</td>\n",
              "      <td>5</td>\n",
              "      <td>Sat</td>\n",
              "      <td>Evening</td>\n",
              "      <td>20171118</td>\n",
              "      <td>20171122</td>\n",
              "      <td>20171215</td>\n",
              "      <td>20171202</td>\n",
              "      <td>0</td>\n",
              "      <td>4</td>\n",
              "      <td>-13</td>\n",
              "      <td>80</td>\n",
              "      <td>13</td>\n",
              "      <td>7c142cf63193a1473d2e66489a9ae977</td>\n",
              "    </tr>\n",
              "    <tr>\n",
              "      <th>4</th>\n",
              "      <td>ad21c59c0840e6cb83a9ceb5573f8159</td>\n",
              "      <td>8ab97904e6daea8866dbdbc4fb7aad2c</td>\n",
              "      <td>delivered</td>\n",
              "      <td>2018-02-13 21:18:39</td>\n",
              "      <td>2018-02-13 22:20:29</td>\n",
              "      <td>2018-02-14 19:46:34</td>\n",
              "      <td>2018-02-16 18:17:02</td>\n",
              "      <td>2018-02-26</td>\n",
              "      <td>2018</td>\n",
              "      <td>2</td>\n",
              "      <td>Feb</td>\n",
              "      <td>201802</td>\n",
              "      <td>20180213</td>\n",
              "      <td>13</td>\n",
              "      <td>1</td>\n",
              "      <td>Tue</td>\n",
              "      <td>Evening</td>\n",
              "      <td>20180213</td>\n",
              "      <td>20180214</td>\n",
              "      <td>20180226</td>\n",
              "      <td>20180216</td>\n",
              "      <td>0</td>\n",
              "      <td>1</td>\n",
              "      <td>-10</td>\n",
              "      <td>2</td>\n",
              "      <td>2</td>\n",
              "      <td>72632f0f9dd73dfee390c9b22eb56dd6</td>\n",
              "    </tr>\n",
              "    <tr>\n",
              "      <th>...</th>\n",
              "      <td>...</td>\n",
              "      <td>...</td>\n",
              "      <td>...</td>\n",
              "      <td>...</td>\n",
              "      <td>...</td>\n",
              "      <td>...</td>\n",
              "      <td>...</td>\n",
              "      <td>...</td>\n",
              "      <td>...</td>\n",
              "      <td>...</td>\n",
              "      <td>...</td>\n",
              "      <td>...</td>\n",
              "      <td>...</td>\n",
              "      <td>...</td>\n",
              "      <td>...</td>\n",
              "      <td>...</td>\n",
              "      <td>...</td>\n",
              "      <td>...</td>\n",
              "      <td>...</td>\n",
              "      <td>...</td>\n",
              "      <td>...</td>\n",
              "      <td>...</td>\n",
              "      <td>...</td>\n",
              "      <td>...</td>\n",
              "      <td>...</td>\n",
              "      <td>...</td>\n",
              "      <td>...</td>\n",
              "    </tr>\n",
              "    <tr>\n",
              "      <th>93120</th>\n",
              "      <td>9c5dedf39a927c1b2549525ed64a053c</td>\n",
              "      <td>39bd1228ee8140590ac3aca26f2dfe00</td>\n",
              "      <td>delivered</td>\n",
              "      <td>2017-03-09 09:54:05</td>\n",
              "      <td>2017-03-09 09:54:05</td>\n",
              "      <td>2017-03-10 11:18:03</td>\n",
              "      <td>2017-03-17 15:08:01</td>\n",
              "      <td>2017-03-28</td>\n",
              "      <td>2017</td>\n",
              "      <td>3</td>\n",
              "      <td>Mar</td>\n",
              "      <td>201703</td>\n",
              "      <td>20170309</td>\n",
              "      <td>9</td>\n",
              "      <td>3</td>\n",
              "      <td>Thu</td>\n",
              "      <td>Morning</td>\n",
              "      <td>20170309</td>\n",
              "      <td>20170310</td>\n",
              "      <td>20170328</td>\n",
              "      <td>20170317</td>\n",
              "      <td>0</td>\n",
              "      <td>1</td>\n",
              "      <td>-11</td>\n",
              "      <td>7</td>\n",
              "      <td>8</td>\n",
              "      <td>6359f309b166b0196dbf7ad2ac62bb5a</td>\n",
              "    </tr>\n",
              "    <tr>\n",
              "      <th>93121</th>\n",
              "      <td>63943bddc261676b46f01ca7ac2f7bd8</td>\n",
              "      <td>1fca14ff2861355f6e5f14306ff977a7</td>\n",
              "      <td>delivered</td>\n",
              "      <td>2018-02-06 12:58:58</td>\n",
              "      <td>2018-02-06 13:10:37</td>\n",
              "      <td>2018-02-07 23:22:42</td>\n",
              "      <td>2018-02-28 17:37:56</td>\n",
              "      <td>2018-03-02</td>\n",
              "      <td>2018</td>\n",
              "      <td>2</td>\n",
              "      <td>Feb</td>\n",
              "      <td>201802</td>\n",
              "      <td>20180206</td>\n",
              "      <td>6</td>\n",
              "      <td>1</td>\n",
              "      <td>Tue</td>\n",
              "      <td>Afternoon</td>\n",
              "      <td>20180206</td>\n",
              "      <td>20180207</td>\n",
              "      <td>20180302</td>\n",
              "      <td>20180228</td>\n",
              "      <td>0</td>\n",
              "      <td>1</td>\n",
              "      <td>-74</td>\n",
              "      <td>21</td>\n",
              "      <td>22</td>\n",
              "      <td>da62f9e57a76d978d02ab5362c509660</td>\n",
              "    </tr>\n",
              "    <tr>\n",
              "      <th>93122</th>\n",
              "      <td>83c1379a015df1e13d02aae0204711ab</td>\n",
              "      <td>1aa71eb042121263aafbe80c1b562c9c</td>\n",
              "      <td>delivered</td>\n",
              "      <td>2017-08-27 14:46:43</td>\n",
              "      <td>2017-08-27 15:04:16</td>\n",
              "      <td>2017-08-28 20:52:26</td>\n",
              "      <td>2017-09-21 11:24:17</td>\n",
              "      <td>2017-09-27</td>\n",
              "      <td>2017</td>\n",
              "      <td>8</td>\n",
              "      <td>Aug</td>\n",
              "      <td>201708</td>\n",
              "      <td>20170827</td>\n",
              "      <td>27</td>\n",
              "      <td>6</td>\n",
              "      <td>Sun</td>\n",
              "      <td>Afternoon</td>\n",
              "      <td>20170827</td>\n",
              "      <td>20170828</td>\n",
              "      <td>20170927</td>\n",
              "      <td>20170921</td>\n",
              "      <td>0</td>\n",
              "      <td>1</td>\n",
              "      <td>-6</td>\n",
              "      <td>93</td>\n",
              "      <td>24</td>\n",
              "      <td>737520a9aad80b3fbbdad19b66b37b30</td>\n",
              "    </tr>\n",
              "    <tr>\n",
              "      <th>93123</th>\n",
              "      <td>11c177c8e97725db2631073c19f07b62</td>\n",
              "      <td>b331b74b18dc79bcdf6532d51e1637c1</td>\n",
              "      <td>delivered</td>\n",
              "      <td>2018-01-08 21:28:27</td>\n",
              "      <td>2018-01-08 21:36:21</td>\n",
              "      <td>2018-01-12 15:35:03</td>\n",
              "      <td>2018-01-25 23:32:54</td>\n",
              "      <td>2018-02-15</td>\n",
              "      <td>2018</td>\n",
              "      <td>1</td>\n",
              "      <td>Jan</td>\n",
              "      <td>201801</td>\n",
              "      <td>20180108</td>\n",
              "      <td>8</td>\n",
              "      <td>0</td>\n",
              "      <td>Mon</td>\n",
              "      <td>Evening</td>\n",
              "      <td>20180108</td>\n",
              "      <td>20180112</td>\n",
              "      <td>20180215</td>\n",
              "      <td>20180125</td>\n",
              "      <td>0</td>\n",
              "      <td>4</td>\n",
              "      <td>-90</td>\n",
              "      <td>13</td>\n",
              "      <td>17</td>\n",
              "      <td>5097a5312c8b157bb7be58ae360ef43c</td>\n",
              "    </tr>\n",
              "    <tr>\n",
              "      <th>93124</th>\n",
              "      <td>66dea50a8b16d9b4dee7af250b4be1a5</td>\n",
              "      <td>edb027a75a1449115f6b43211ae02a24</td>\n",
              "      <td>delivered</td>\n",
              "      <td>2018-03-08 20:57:30</td>\n",
              "      <td>2018-03-09 11:20:28</td>\n",
              "      <td>2018-03-09 22:11:59</td>\n",
              "      <td>2018-03-16 13:08:30</td>\n",
              "      <td>2018-04-03</td>\n",
              "      <td>2018</td>\n",
              "      <td>3</td>\n",
              "      <td>Mar</td>\n",
              "      <td>201803</td>\n",
              "      <td>20180308</td>\n",
              "      <td>8</td>\n",
              "      <td>3</td>\n",
              "      <td>Thu</td>\n",
              "      <td>Evening</td>\n",
              "      <td>20180309</td>\n",
              "      <td>20180309</td>\n",
              "      <td>20180403</td>\n",
              "      <td>20180316</td>\n",
              "      <td>1</td>\n",
              "      <td>0</td>\n",
              "      <td>-87</td>\n",
              "      <td>7</td>\n",
              "      <td>7</td>\n",
              "      <td>60350aa974b26ff12caad89e55993bd6</td>\n",
              "    </tr>\n",
              "  </tbody>\n",
              "</table>\n",
              "<p>93125 rows × 27 columns</p>\n",
              "</div>"
            ],
            "text/plain": [
              "                               order_id  ...                customer_unique_id\n",
              "0      e481f51cbdc54678b7cc49136f2d6af7  ...  7c396fd4830fd04220f754e42b4e5bff\n",
              "1      53cdb2fc8bc7dce0b6741e2150273451  ...  af07308b275d755c9edb36a90c618231\n",
              "2      47770eb9100c2d0c44946d9cf07ec65d  ...  3a653a41f6f9fc3d2a113cf8398680e8\n",
              "3      949d5b44dbf5de918fe9c16f97b45f8a  ...  7c142cf63193a1473d2e66489a9ae977\n",
              "4      ad21c59c0840e6cb83a9ceb5573f8159  ...  72632f0f9dd73dfee390c9b22eb56dd6\n",
              "...                                 ...  ...                               ...\n",
              "93120  9c5dedf39a927c1b2549525ed64a053c  ...  6359f309b166b0196dbf7ad2ac62bb5a\n",
              "93121  63943bddc261676b46f01ca7ac2f7bd8  ...  da62f9e57a76d978d02ab5362c509660\n",
              "93122  83c1379a015df1e13d02aae0204711ab  ...  737520a9aad80b3fbbdad19b66b37b30\n",
              "93123  11c177c8e97725db2631073c19f07b62  ...  5097a5312c8b157bb7be58ae360ef43c\n",
              "93124  66dea50a8b16d9b4dee7af250b4be1a5  ...  60350aa974b26ff12caad89e55993bd6\n",
              "\n",
              "[93125 rows x 27 columns]"
            ]
          },
          "execution_count": null,
          "metadata": {},
          "output_type": "execute_result"
        }
      ],
      "source": [
        "merge_cust_orders = orders_raw.merge(customers_raw.iloc[:, :2], on='customer_id')\n",
        "merge_cust_orders"
      ]
    },
    {
      "cell_type": "markdown",
      "metadata": {
        "id": "qDS7Fbujie93"
      },
      "source": [
        "## KPI Calculation"
      ]
    },
    {
      "cell_type": "markdown",
      "metadata": {
        "id": "YL4ZUSLEaYZ3"
      },
      "source": [
        "### Recency"
      ]
    },
    {
      "cell_type": "code",
      "execution_count": null,
      "metadata": {
        "colab": {
          "background_save": true
        },
        "id": "TzSQmaGw0_Ra",
        "outputId": "fabfa823-5ad6-4f41-d7a7-61a15416b28d"
      },
      "outputs": [
        {
          "data": {
            "text/plain": [
              "Index(['order_id', 'customer_id', 'order_status', 'order_purchase_timestamp',\n",
              "       'order_approved_at', 'order_delivered_carrier_date',\n",
              "       'order_delivered_customer_date', 'order_estimated_delivery_date',\n",
              "       'order_purchase_year', 'order_purchase_month',\n",
              "       'order_purchase_month_name', 'order_purchase_year_month',\n",
              "       'order_purchase_date', 'order_purchase_day',\n",
              "       'order_purchase_day_of_week', 'order_purchase_day_of_week_name',\n",
              "       'order_purchase_hours', 'order_approved_date',\n",
              "       'order_delivery_carrier_date', 'order_delivery_customer_estimated',\n",
              "       'order_delivery_customer_date', 'placing_daylag', 'shipping_daylag',\n",
              "       'estimation_daylag', 'carrier_daylag', 'delivery_timing'],\n",
              "      dtype='object')"
            ]
          },
          "execution_count": null,
          "metadata": {},
          "output_type": "execute_result"
        }
      ],
      "source": [
        "orders_raw.columns"
      ]
    },
    {
      "cell_type": "markdown",
      "metadata": {
        "id": "6IGBGWa3oQmS"
      },
      "source": [
        "As the dataset on which we perform the analysis has been built from 2016 to 2018 we will choose the `order_purchase_timestamp` as our `point in time for analysis` :  "
      ]
    },
    {
      "cell_type": "code",
      "execution_count": null,
      "metadata": {
        "colab": {
          "background_save": true
        },
        "id": "1eNJhzBBaYZ5",
        "outputId": "fbdbeeb4-35b5-42fe-80c1-5c2140633caa"
      },
      "outputs": [
        {
          "data": {
            "text/html": [
              "<div>\n",
              "<style scoped>\n",
              "    .dataframe tbody tr th:only-of-type {\n",
              "        vertical-align: middle;\n",
              "    }\n",
              "\n",
              "    .dataframe tbody tr th {\n",
              "        vertical-align: top;\n",
              "    }\n",
              "\n",
              "    .dataframe thead th {\n",
              "        text-align: right;\n",
              "    }\n",
              "</style>\n",
              "<table border=\"1\" class=\"dataframe\">\n",
              "  <thead>\n",
              "    <tr style=\"text-align: right;\">\n",
              "      <th></th>\n",
              "      <th>order_purchase_timestamp</th>\n",
              "      <th>R</th>\n",
              "    </tr>\n",
              "    <tr>\n",
              "      <th>customer_unique_id</th>\n",
              "      <th></th>\n",
              "      <th></th>\n",
              "    </tr>\n",
              "  </thead>\n",
              "  <tbody>\n",
              "    <tr>\n",
              "      <th>0000366f3b9a7992bf8c76cfdf3221e2</th>\n",
              "      <td>2018-05-10 10:56:27</td>\n",
              "      <td>112</td>\n",
              "    </tr>\n",
              "    <tr>\n",
              "      <th>0000b849f77a49e4a4ce2b2a4ca5be3f</th>\n",
              "      <td>2018-05-07 11:11:27</td>\n",
              "      <td>115</td>\n",
              "    </tr>\n",
              "    <tr>\n",
              "      <th>0000f46a3911fa3c0805444483337064</th>\n",
              "      <td>2017-03-10 21:05:03</td>\n",
              "      <td>537</td>\n",
              "    </tr>\n",
              "    <tr>\n",
              "      <th>0000f6ccb0745a6a4b88665a16c9f078</th>\n",
              "      <td>2017-10-12 20:29:41</td>\n",
              "      <td>321</td>\n",
              "    </tr>\n",
              "    <tr>\n",
              "      <th>0004aac84e0df4da2b147fca70cf8255</th>\n",
              "      <td>2017-11-14 19:45:42</td>\n",
              "      <td>288</td>\n",
              "    </tr>\n",
              "    <tr>\n",
              "      <th>...</th>\n",
              "      <td>...</td>\n",
              "      <td>...</td>\n",
              "    </tr>\n",
              "    <tr>\n",
              "      <th>fffcf5a5ff07b0908bd4e2dbc735a684</th>\n",
              "      <td>2017-06-08 21:00:36</td>\n",
              "      <td>447</td>\n",
              "    </tr>\n",
              "    <tr>\n",
              "      <th>fffea47cd6d3cc0a88bd621562a9d061</th>\n",
              "      <td>2017-12-10 20:07:56</td>\n",
              "      <td>262</td>\n",
              "    </tr>\n",
              "    <tr>\n",
              "      <th>ffff371b4d645b6ecea244b27531430a</th>\n",
              "      <td>2017-02-07 15:49:16</td>\n",
              "      <td>568</td>\n",
              "    </tr>\n",
              "    <tr>\n",
              "      <th>ffff5962728ec6157033ef9805bacc48</th>\n",
              "      <td>2018-05-02 15:17:41</td>\n",
              "      <td>119</td>\n",
              "    </tr>\n",
              "    <tr>\n",
              "      <th>ffffd2657e2aad2907e67c3e9daecbeb</th>\n",
              "      <td>2017-05-02 20:18:45</td>\n",
              "      <td>484</td>\n",
              "    </tr>\n",
              "  </tbody>\n",
              "</table>\n",
              "<p>90164 rows × 2 columns</p>\n",
              "</div>"
            ],
            "text/plain": [
              "                                 order_purchase_timestamp    R\n",
              "customer_unique_id                                            \n",
              "0000366f3b9a7992bf8c76cfdf3221e2      2018-05-10 10:56:27  112\n",
              "0000b849f77a49e4a4ce2b2a4ca5be3f      2018-05-07 11:11:27  115\n",
              "0000f46a3911fa3c0805444483337064      2017-03-10 21:05:03  537\n",
              "0000f6ccb0745a6a4b88665a16c9f078      2017-10-12 20:29:41  321\n",
              "0004aac84e0df4da2b147fca70cf8255      2017-11-14 19:45:42  288\n",
              "...                                                   ...  ...\n",
              "fffcf5a5ff07b0908bd4e2dbc735a684      2017-06-08 21:00:36  447\n",
              "fffea47cd6d3cc0a88bd621562a9d061      2017-12-10 20:07:56  262\n",
              "ffff371b4d645b6ecea244b27531430a      2017-02-07 15:49:16  568\n",
              "ffff5962728ec6157033ef9805bacc48      2018-05-02 15:17:41  119\n",
              "ffffd2657e2aad2907e67c3e9daecbeb      2017-05-02 20:18:45  484\n",
              "\n",
              "[90164 rows x 2 columns]"
            ]
          },
          "execution_count": null,
          "metadata": {},
          "output_type": "execute_result"
        }
      ],
      "source": [
        "#Point in time\n",
        "last_activity_date = merge_cust_orders['order_purchase_timestamp'].max()\n",
        "\n",
        "#Recency : Last activity per customer vs last activity recorded in the database\n",
        "rfm_df = merge_cust_orders.groupby('customer_unique_id')[['order_purchase_timestamp']].max()\n",
        "rfm_df['R'] = (rfm_df['order_purchase_timestamp'] - last_activity_date).dt.days.abs()\n",
        "\n",
        "rfm_df"
      ]
    },
    {
      "cell_type": "code",
      "execution_count": null,
      "metadata": {
        "colab": {
          "background_save": true
        },
        "id": "hYUbVzbeaYZ6",
        "outputId": "8847e5ba-d228-44fd-994a-799744435c10"
      },
      "outputs": [
        {
          "data": {
            "text/plain": [
              "False"
            ]
          },
          "execution_count": null,
          "metadata": {},
          "output_type": "execute_result"
        }
      ],
      "source": [
        "#Check duplicates\n",
        "a = rfm_df.index\n",
        "a_list = a.to_list()\n",
        "a_set = set(a)\n",
        "contains_duplicates = len(a_list) != len(a_set)\n",
        "contains_duplicates"
      ]
    },
    {
      "cell_type": "markdown",
      "metadata": {
        "id": "EGchWGm-aYaF"
      },
      "source": [
        "### Frequency"
      ]
    },
    {
      "cell_type": "code",
      "execution_count": null,
      "metadata": {
        "colab": {
          "background_save": true
        },
        "id": "DsEgVe1uaYaG",
        "outputId": "c2389025-1dd2-4351-dde4-383b1f0e3534"
      },
      "outputs": [
        {
          "data": {
            "text/plain": [
              "(90164, 3)"
            ]
          },
          "execution_count": null,
          "metadata": {},
          "output_type": "execute_result"
        }
      ],
      "source": [
        "rfm_df['F'] = merge_cust_orders.groupby('customer_unique_id')['order_purchase_timestamp'].count()\n",
        "\n",
        "rfm_df.shape"
      ]
    },
    {
      "cell_type": "code",
      "execution_count": null,
      "metadata": {
        "colab": {
          "background_save": true
        },
        "id": "hYW_tzVcrDZa",
        "outputId": "236dbeb3-9f5e-4d65-9cae-ac7e4df88c7b"
      },
      "outputs": [
        {
          "data": {
            "text/plain": [
              "1     97.055366\n",
              "2      2.702853\n",
              "3      0.190763\n",
              "4      0.031055\n",
              "5      0.009982\n",
              "6      0.004436\n",
              "7      0.003327\n",
              "15     0.001109\n",
              "9      0.001109\n",
              "Name: F, dtype: float64"
            ]
          },
          "execution_count": null,
          "metadata": {},
          "output_type": "execute_result"
        }
      ],
      "source": [
        "rfm_df['F'].value_counts()/rfm_df.shape[0]*100"
      ]
    },
    {
      "cell_type": "markdown",
      "metadata": {
        "id": "uLRMdaQ3rOJ8"
      },
      "source": [
        "We notice that almost 97% of the customer have only order once at Olist."
      ]
    },
    {
      "cell_type": "code",
      "execution_count": null,
      "metadata": {
        "colab": {
          "background_save": true
        },
        "id": "m5FOBQL7O7nk",
        "outputId": "558c4327-b5fe-4dae-90b4-ad353686d556"
      },
      "outputs": [
        {
          "data": {
            "image/png": "[encoded data removed]",
            "text/plain": [
              "<Figure size 864x432 with 1 Axes>"
            ]
          },
          "metadata": {},
          "output_type": "display_data"
        }
      ],
      "source": [
        "plt.figure(figsize=(12, 6))\n",
        "sns.boxplot(x='F', data=rfm_df)\n",
        "plt.title('Boxplot of Frequency');"
      ]
    },
    {
      "cell_type": "markdown",
      "metadata": {
        "id": "81LmMHNsrdTm"
      },
      "source": [
        "Hypothesis : \n",
        "* Clients order without creating an account ? "
      ]
    },
    {
      "cell_type": "markdown",
      "metadata": {
        "id": "yPye2s9uaYaH"
      },
      "source": [
        "### Monetary"
      ]
    },
    {
      "cell_type": "markdown",
      "metadata": {
        "id": "_ogG4MsjswVk"
      },
      "source": [
        "From 'merge customer X order' we will only keep `order_id` `customer_id` and `customer_unique_id` for now. "
      ]
    },
    {
      "cell_type": "code",
      "execution_count": null,
      "metadata": {
        "colab": {
          "background_save": true
        },
        "id": "Iea8595-tiQD",
        "outputId": "96471df2-827c-4cca-ceac-f922b48d3bd5"
      },
      "outputs": [
        {
          "data": {
            "text/html": [
              "<div>\n",
              "<style scoped>\n",
              "    .dataframe tbody tr th:only-of-type {\n",
              "        vertical-align: middle;\n",
              "    }\n",
              "\n",
              "    .dataframe tbody tr th {\n",
              "        vertical-align: top;\n",
              "    }\n",
              "\n",
              "    .dataframe thead th {\n",
              "        text-align: right;\n",
              "    }\n",
              "</style>\n",
              "<table border=\"1\" class=\"dataframe\">\n",
              "  <thead>\n",
              "    <tr style=\"text-align: right;\">\n",
              "      <th></th>\n",
              "      <th>order_id</th>\n",
              "      <th>customer_id</th>\n",
              "      <th>customer_unique_id</th>\n",
              "    </tr>\n",
              "  </thead>\n",
              "  <tbody>\n",
              "    <tr>\n",
              "      <th>0</th>\n",
              "      <td>e481f51cbdc54678b7cc49136f2d6af7</td>\n",
              "      <td>9ef432eb6251297304e76186b10a928d</td>\n",
              "      <td>7c396fd4830fd04220f754e42b4e5bff</td>\n",
              "    </tr>\n",
              "    <tr>\n",
              "      <th>1</th>\n",
              "      <td>53cdb2fc8bc7dce0b6741e2150273451</td>\n",
              "      <td>b0830fb4747a6c6d20dea0b8c802d7ef</td>\n",
              "      <td>af07308b275d755c9edb36a90c618231</td>\n",
              "    </tr>\n",
              "    <tr>\n",
              "      <th>2</th>\n",
              "      <td>47770eb9100c2d0c44946d9cf07ec65d</td>\n",
              "      <td>41ce2a54c0b03bf3443c3d931a367089</td>\n",
              "      <td>3a653a41f6f9fc3d2a113cf8398680e8</td>\n",
              "    </tr>\n",
              "    <tr>\n",
              "      <th>3</th>\n",
              "      <td>949d5b44dbf5de918fe9c16f97b45f8a</td>\n",
              "      <td>f88197465ea7920adcdbec7375364d82</td>\n",
              "      <td>7c142cf63193a1473d2e66489a9ae977</td>\n",
              "    </tr>\n",
              "    <tr>\n",
              "      <th>4</th>\n",
              "      <td>ad21c59c0840e6cb83a9ceb5573f8159</td>\n",
              "      <td>8ab97904e6daea8866dbdbc4fb7aad2c</td>\n",
              "      <td>72632f0f9dd73dfee390c9b22eb56dd6</td>\n",
              "    </tr>\n",
              "    <tr>\n",
              "      <th>...</th>\n",
              "      <td>...</td>\n",
              "      <td>...</td>\n",
              "      <td>...</td>\n",
              "    </tr>\n",
              "    <tr>\n",
              "      <th>93120</th>\n",
              "      <td>9c5dedf39a927c1b2549525ed64a053c</td>\n",
              "      <td>39bd1228ee8140590ac3aca26f2dfe00</td>\n",
              "      <td>6359f309b166b0196dbf7ad2ac62bb5a</td>\n",
              "    </tr>\n",
              "    <tr>\n",
              "      <th>93121</th>\n",
              "      <td>63943bddc261676b46f01ca7ac2f7bd8</td>\n",
              "      <td>1fca14ff2861355f6e5f14306ff977a7</td>\n",
              "      <td>da62f9e57a76d978d02ab5362c509660</td>\n",
              "    </tr>\n",
              "    <tr>\n",
              "      <th>93122</th>\n",
              "      <td>83c1379a015df1e13d02aae0204711ab</td>\n",
              "      <td>1aa71eb042121263aafbe80c1b562c9c</td>\n",
              "      <td>737520a9aad80b3fbbdad19b66b37b30</td>\n",
              "    </tr>\n",
              "    <tr>\n",
              "      <th>93123</th>\n",
              "      <td>11c177c8e97725db2631073c19f07b62</td>\n",
              "      <td>b331b74b18dc79bcdf6532d51e1637c1</td>\n",
              "      <td>5097a5312c8b157bb7be58ae360ef43c</td>\n",
              "    </tr>\n",
              "    <tr>\n",
              "      <th>93124</th>\n",
              "      <td>66dea50a8b16d9b4dee7af250b4be1a5</td>\n",
              "      <td>edb027a75a1449115f6b43211ae02a24</td>\n",
              "      <td>60350aa974b26ff12caad89e55993bd6</td>\n",
              "    </tr>\n",
              "  </tbody>\n",
              "</table>\n",
              "<p>93125 rows × 3 columns</p>\n",
              "</div>"
            ],
            "text/plain": [
              "                               order_id  ...                customer_unique_id\n",
              "0      e481f51cbdc54678b7cc49136f2d6af7  ...  7c396fd4830fd04220f754e42b4e5bff\n",
              "1      53cdb2fc8bc7dce0b6741e2150273451  ...  af07308b275d755c9edb36a90c618231\n",
              "2      47770eb9100c2d0c44946d9cf07ec65d  ...  3a653a41f6f9fc3d2a113cf8398680e8\n",
              "3      949d5b44dbf5de918fe9c16f97b45f8a  ...  7c142cf63193a1473d2e66489a9ae977\n",
              "4      ad21c59c0840e6cb83a9ceb5573f8159  ...  72632f0f9dd73dfee390c9b22eb56dd6\n",
              "...                                 ...  ...                               ...\n",
              "93120  9c5dedf39a927c1b2549525ed64a053c  ...  6359f309b166b0196dbf7ad2ac62bb5a\n",
              "93121  63943bddc261676b46f01ca7ac2f7bd8  ...  da62f9e57a76d978d02ab5362c509660\n",
              "93122  83c1379a015df1e13d02aae0204711ab  ...  737520a9aad80b3fbbdad19b66b37b30\n",
              "93123  11c177c8e97725db2631073c19f07b62  ...  5097a5312c8b157bb7be58ae360ef43c\n",
              "93124  66dea50a8b16d9b4dee7af250b4be1a5  ...  60350aa974b26ff12caad89e55993bd6\n",
              "\n",
              "[93125 rows x 3 columns]"
            ]
          },
          "execution_count": null,
          "metadata": {},
          "output_type": "execute_result"
        }
      ],
      "source": [
        "merge_order_customer = merge_cust_orders.iloc[:,[0,1,-1]]\n",
        "merge_order_customer"
      ]
    },
    {
      "cell_type": "code",
      "execution_count": null,
      "metadata": {
        "colab": {
          "background_save": true
        },
        "id": "-ooNd52u99Ig",
        "outputId": "054d1cd7-648e-4928-a485-0197a1b6dee0"
      },
      "outputs": [
        {
          "data": {
            "text/plain": [
              "8d50f5eadf50201ccdcedfb9e2ac8455    15\n",
              "3e43e6105506432c953e165fb2acf44c     9\n",
              "6469f99c1f9dfae7733b25662e7f1782     7\n",
              "1b6c7548a2a1f9037c1fd3ddfed95f33     7\n",
              "ca77025e7201e3b30c44b472ff346268     7\n",
              "                                    ..\n",
              "89c1a3e3c96c821f7a06d1f84670727b     1\n",
              "b15d7932f83e90d95c5eb50113925038     1\n",
              "48cfb1ec8875f03ad35e4b714d1450b3     1\n",
              "5891450360108dc473afec34275d86f2     1\n",
              "fa08098a16131e9dd1dec2dd17fd4ee8     1\n",
              "Name: customer_unique_id, Length: 90164, dtype: int64"
            ]
          },
          "execution_count": null,
          "metadata": {},
          "output_type": "execute_result"
        }
      ],
      "source": [
        "merge_order_customer['customer_unique_id'].value_counts()"
      ]
    },
    {
      "cell_type": "code",
      "execution_count": null,
      "metadata": {
        "colab": {
          "background_save": true
        },
        "id": "KFAT-xlg-FuN",
        "outputId": "d24e3a41-2b46-46e7-c6f3-2a31b00075dc"
      },
      "outputs": [
        {
          "data": {
            "text/html": [
              "<div>\n",
              "<style scoped>\n",
              "    .dataframe tbody tr th:only-of-type {\n",
              "        vertical-align: middle;\n",
              "    }\n",
              "\n",
              "    .dataframe tbody tr th {\n",
              "        vertical-align: top;\n",
              "    }\n",
              "\n",
              "    .dataframe thead th {\n",
              "        text-align: right;\n",
              "    }\n",
              "</style>\n",
              "<table border=\"1\" class=\"dataframe\">\n",
              "  <thead>\n",
              "    <tr style=\"text-align: right;\">\n",
              "      <th></th>\n",
              "      <th>order_id</th>\n",
              "      <th>customer_id</th>\n",
              "      <th>customer_unique_id</th>\n",
              "    </tr>\n",
              "  </thead>\n",
              "  <tbody>\n",
              "    <tr>\n",
              "      <th>2204</th>\n",
              "      <td>c2213109a2cc0e75d55585b7aaac6d97</td>\n",
              "      <td>897b7f72042714efaa64ac306ba0cafc</td>\n",
              "      <td>8d50f5eadf50201ccdcedfb9e2ac8455</td>\n",
              "    </tr>\n",
              "    <tr>\n",
              "      <th>3452</th>\n",
              "      <td>23427a6bd9f8fd1b51f1b1e5cc186ab8</td>\n",
              "      <td>a8fabc805e9a10a3c93ae5bff642b86b</td>\n",
              "      <td>8d50f5eadf50201ccdcedfb9e2ac8455</td>\n",
              "    </tr>\n",
              "    <tr>\n",
              "      <th>4860</th>\n",
              "      <td>e3071b7624445af6e4f3a1b23718667d</td>\n",
              "      <td>0bf8bf19944a7f8b40ba86fef778ca7c</td>\n",
              "      <td>8d50f5eadf50201ccdcedfb9e2ac8455</td>\n",
              "    </tr>\n",
              "    <tr>\n",
              "      <th>10961</th>\n",
              "      <td>d3582fd5ccccd9cb229a63dfb417c86f</td>\n",
              "      <td>a682769c4bc10fc6ef2101337a6c83c9</td>\n",
              "      <td>8d50f5eadf50201ccdcedfb9e2ac8455</td>\n",
              "    </tr>\n",
              "    <tr>\n",
              "      <th>17914</th>\n",
              "      <td>bf92c69b7cc70f7fc2c37de43e366173</td>\n",
              "      <td>42dbc1ad9d560637c9c4c1533746f86d</td>\n",
              "      <td>8d50f5eadf50201ccdcedfb9e2ac8455</td>\n",
              "    </tr>\n",
              "    <tr>\n",
              "      <th>23306</th>\n",
              "      <td>6bdf325f0966e3056651285c0aed5aad</td>\n",
              "      <td>6289b75219d757a56c0cce8d9e427900</td>\n",
              "      <td>8d50f5eadf50201ccdcedfb9e2ac8455</td>\n",
              "    </tr>\n",
              "    <tr>\n",
              "      <th>31564</th>\n",
              "      <td>4f62d593acae92cea3c5662c76122478</td>\n",
              "      <td>dfb941d6f7b02f57a44c3b7c3fefb44b</td>\n",
              "      <td>8d50f5eadf50201ccdcedfb9e2ac8455</td>\n",
              "    </tr>\n",
              "    <tr>\n",
              "      <th>36980</th>\n",
              "      <td>b850a16d8faf65a74c51287ef34379ce</td>\n",
              "      <td>1bd3585471932167ab72a84955ebefea</td>\n",
              "      <td>8d50f5eadf50201ccdcedfb9e2ac8455</td>\n",
              "    </tr>\n",
              "    <tr>\n",
              "      <th>55108</th>\n",
              "      <td>519203404f6116d406a970763ee75799</td>\n",
              "      <td>1c62b48fb34ee043310dcb233caabd2e</td>\n",
              "      <td>8d50f5eadf50201ccdcedfb9e2ac8455</td>\n",
              "    </tr>\n",
              "    <tr>\n",
              "      <th>62495</th>\n",
              "      <td>a1a6eadae352582010f449d8527b55f3</td>\n",
              "      <td>3414a9c813e3ca02504b8be8b2deb27f</td>\n",
              "      <td>8d50f5eadf50201ccdcedfb9e2ac8455</td>\n",
              "    </tr>\n",
              "    <tr>\n",
              "      <th>65149</th>\n",
              "      <td>112eb6f37f1b9dabbced368fbbc6c9ef</td>\n",
              "      <td>65f9db9dd07a4e79b625effa4c868fcb</td>\n",
              "      <td>8d50f5eadf50201ccdcedfb9e2ac8455</td>\n",
              "    </tr>\n",
              "    <tr>\n",
              "      <th>72305</th>\n",
              "      <td>369634708db140c5d2c4e365882c443a</td>\n",
              "      <td>b2b13de0770e06de50080fea77c459e6</td>\n",
              "      <td>8d50f5eadf50201ccdcedfb9e2ac8455</td>\n",
              "    </tr>\n",
              "    <tr>\n",
              "      <th>76696</th>\n",
              "      <td>838f8e96cf584a1d8d22eaf7143c7772</td>\n",
              "      <td>f5188d99e9281e214a4a7d1b139a8229</td>\n",
              "      <td>8d50f5eadf50201ccdcedfb9e2ac8455</td>\n",
              "    </tr>\n",
              "    <tr>\n",
              "      <th>79544</th>\n",
              "      <td>89d9b111d2b990deb5f5f9769f92800b</td>\n",
              "      <td>9a1afef458843a022e431f4cb304dfe9</td>\n",
              "      <td>8d50f5eadf50201ccdcedfb9e2ac8455</td>\n",
              "    </tr>\n",
              "    <tr>\n",
              "      <th>91058</th>\n",
              "      <td>cd4b336a02aacabd0ef22f6db711f95e</td>\n",
              "      <td>89be66634d68fa73a95499b6352e085d</td>\n",
              "      <td>8d50f5eadf50201ccdcedfb9e2ac8455</td>\n",
              "    </tr>\n",
              "  </tbody>\n",
              "</table>\n",
              "</div>"
            ],
            "text/plain": [
              "                               order_id  ...                customer_unique_id\n",
              "2204   c2213109a2cc0e75d55585b7aaac6d97  ...  8d50f5eadf50201ccdcedfb9e2ac8455\n",
              "3452   23427a6bd9f8fd1b51f1b1e5cc186ab8  ...  8d50f5eadf50201ccdcedfb9e2ac8455\n",
              "4860   e3071b7624445af6e4f3a1b23718667d  ...  8d50f5eadf50201ccdcedfb9e2ac8455\n",
              "10961  d3582fd5ccccd9cb229a63dfb417c86f  ...  8d50f5eadf50201ccdcedfb9e2ac8455\n",
              "17914  bf92c69b7cc70f7fc2c37de43e366173  ...  8d50f5eadf50201ccdcedfb9e2ac8455\n",
              "23306  6bdf325f0966e3056651285c0aed5aad  ...  8d50f5eadf50201ccdcedfb9e2ac8455\n",
              "31564  4f62d593acae92cea3c5662c76122478  ...  8d50f5eadf50201ccdcedfb9e2ac8455\n",
              "36980  b850a16d8faf65a74c51287ef34379ce  ...  8d50f5eadf50201ccdcedfb9e2ac8455\n",
              "55108  519203404f6116d406a970763ee75799  ...  8d50f5eadf50201ccdcedfb9e2ac8455\n",
              "62495  a1a6eadae352582010f449d8527b55f3  ...  8d50f5eadf50201ccdcedfb9e2ac8455\n",
              "65149  112eb6f37f1b9dabbced368fbbc6c9ef  ...  8d50f5eadf50201ccdcedfb9e2ac8455\n",
              "72305  369634708db140c5d2c4e365882c443a  ...  8d50f5eadf50201ccdcedfb9e2ac8455\n",
              "76696  838f8e96cf584a1d8d22eaf7143c7772  ...  8d50f5eadf50201ccdcedfb9e2ac8455\n",
              "79544  89d9b111d2b990deb5f5f9769f92800b  ...  8d50f5eadf50201ccdcedfb9e2ac8455\n",
              "91058  cd4b336a02aacabd0ef22f6db711f95e  ...  8d50f5eadf50201ccdcedfb9e2ac8455\n",
              "\n",
              "[15 rows x 3 columns]"
            ]
          },
          "execution_count": null,
          "metadata": {},
          "output_type": "execute_result"
        }
      ],
      "source": [
        "customer_to_look_for = merge_order_customer['customer_unique_id'] == '8d50f5eadf50201ccdcedfb9e2ac8455'\n",
        "merge_order_customer[customer_to_look_for]"
      ]
    },
    {
      "cell_type": "markdown",
      "metadata": {
        "id": "91rD96VR-VQa"
      },
      "source": [
        "The only unique value in this table `merger_order_customer` is the `customer_unique_id`. Indeed for a one `customer_unique_id` we can have several `customer_id` and `order_id`"
      ]
    },
    {
      "cell_type": "code",
      "execution_count": null,
      "metadata": {
        "colab": {
          "background_save": true
        },
        "id": "DFiLzzzOubOr",
        "outputId": "5e896fac-ce1d-45b8-ef97-9b6025c694e3"
      },
      "outputs": [
        {
          "data": {
            "text/plain": [
              "fa65dad1b0e818e3ccc5cb0e39231352    29\n",
              "ccf804e764ed5650cd8759557269dc13    26\n",
              "285c2e15bebd4ac83635ccc563dc71f4    22\n",
              "895ab968e7bb0d5659d16cd74cd1650c    21\n",
              "fedcd9f7ccdc8cba3a18defedd1a5547    19\n",
              "                                    ..\n",
              "f7a94ed5a5cf7c0680e0d3271163bb3f     1\n",
              "59eaa904b3f0dbde2785ac1b27eccd18     1\n",
              "5608ac7a2d4918bf9d1d1ee11fd5dab3     1\n",
              "9f9df59d8852ad5630e576aa48249c26     1\n",
              "e5c543adb388da035a48a7b7fd057f5a     1\n",
              "Name: order_id, Length: 99440, dtype: int64"
            ]
          },
          "execution_count": null,
          "metadata": {},
          "output_type": "execute_result"
        }
      ],
      "source": [
        "payments_raw['order_id'].value_counts()"
      ]
    },
    {
      "cell_type": "code",
      "execution_count": null,
      "metadata": {
        "colab": {
          "background_save": true
        },
        "id": "P-5wrcs8wJiT",
        "outputId": "9c2c3928-3e7c-444c-ee8e-a94fe411fe35"
      },
      "outputs": [
        {
          "data": {
            "text/html": [
              "<div>\n",
              "<style scoped>\n",
              "    .dataframe tbody tr th:only-of-type {\n",
              "        vertical-align: middle;\n",
              "    }\n",
              "\n",
              "    .dataframe tbody tr th {\n",
              "        vertical-align: top;\n",
              "    }\n",
              "\n",
              "    .dataframe thead th {\n",
              "        text-align: right;\n",
              "    }\n",
              "</style>\n",
              "<table border=\"1\" class=\"dataframe\">\n",
              "  <thead>\n",
              "    <tr style=\"text-align: right;\">\n",
              "      <th></th>\n",
              "      <th>order_id</th>\n",
              "      <th>payment_sequential</th>\n",
              "      <th>payment_type</th>\n",
              "      <th>payment_installments</th>\n",
              "      <th>payment_value</th>\n",
              "    </tr>\n",
              "  </thead>\n",
              "  <tbody>\n",
              "    <tr>\n",
              "      <th>14321</th>\n",
              "      <td>fa65dad1b0e818e3ccc5cb0e39231352</td>\n",
              "      <td>1</td>\n",
              "      <td>voucher</td>\n",
              "      <td>1</td>\n",
              "      <td>3.71</td>\n",
              "    </tr>\n",
              "    <tr>\n",
              "      <th>23074</th>\n",
              "      <td>fa65dad1b0e818e3ccc5cb0e39231352</td>\n",
              "      <td>2</td>\n",
              "      <td>voucher</td>\n",
              "      <td>1</td>\n",
              "      <td>8.51</td>\n",
              "    </tr>\n",
              "    <tr>\n",
              "      <th>65641</th>\n",
              "      <td>fa65dad1b0e818e3ccc5cb0e39231352</td>\n",
              "      <td>3</td>\n",
              "      <td>voucher</td>\n",
              "      <td>1</td>\n",
              "      <td>2.95</td>\n",
              "    </tr>\n",
              "    <tr>\n",
              "      <th>9985</th>\n",
              "      <td>fa65dad1b0e818e3ccc5cb0e39231352</td>\n",
              "      <td>4</td>\n",
              "      <td>voucher</td>\n",
              "      <td>1</td>\n",
              "      <td>29.16</td>\n",
              "    </tr>\n",
              "    <tr>\n",
              "      <th>28330</th>\n",
              "      <td>fa65dad1b0e818e3ccc5cb0e39231352</td>\n",
              "      <td>5</td>\n",
              "      <td>voucher</td>\n",
              "      <td>1</td>\n",
              "      <td>0.66</td>\n",
              "    </tr>\n",
              "    <tr>\n",
              "      <th>29648</th>\n",
              "      <td>fa65dad1b0e818e3ccc5cb0e39231352</td>\n",
              "      <td>6</td>\n",
              "      <td>voucher</td>\n",
              "      <td>1</td>\n",
              "      <td>5.02</td>\n",
              "    </tr>\n",
              "    <tr>\n",
              "      <th>82593</th>\n",
              "      <td>fa65dad1b0e818e3ccc5cb0e39231352</td>\n",
              "      <td>7</td>\n",
              "      <td>voucher</td>\n",
              "      <td>1</td>\n",
              "      <td>0.32</td>\n",
              "    </tr>\n",
              "    <tr>\n",
              "      <th>68853</th>\n",
              "      <td>fa65dad1b0e818e3ccc5cb0e39231352</td>\n",
              "      <td>8</td>\n",
              "      <td>voucher</td>\n",
              "      <td>1</td>\n",
              "      <td>26.02</td>\n",
              "    </tr>\n",
              "    <tr>\n",
              "      <th>17274</th>\n",
              "      <td>fa65dad1b0e818e3ccc5cb0e39231352</td>\n",
              "      <td>9</td>\n",
              "      <td>voucher</td>\n",
              "      <td>1</td>\n",
              "      <td>1.08</td>\n",
              "    </tr>\n",
              "    <tr>\n",
              "      <th>19565</th>\n",
              "      <td>fa65dad1b0e818e3ccc5cb0e39231352</td>\n",
              "      <td>10</td>\n",
              "      <td>voucher</td>\n",
              "      <td>1</td>\n",
              "      <td>12.86</td>\n",
              "    </tr>\n",
              "    <tr>\n",
              "      <th>32519</th>\n",
              "      <td>fa65dad1b0e818e3ccc5cb0e39231352</td>\n",
              "      <td>11</td>\n",
              "      <td>voucher</td>\n",
              "      <td>1</td>\n",
              "      <td>4.03</td>\n",
              "    </tr>\n",
              "    <tr>\n",
              "      <th>73537</th>\n",
              "      <td>fa65dad1b0e818e3ccc5cb0e39231352</td>\n",
              "      <td>12</td>\n",
              "      <td>voucher</td>\n",
              "      <td>1</td>\n",
              "      <td>3.60</td>\n",
              "    </tr>\n",
              "    <tr>\n",
              "      <th>77885</th>\n",
              "      <td>fa65dad1b0e818e3ccc5cb0e39231352</td>\n",
              "      <td>13</td>\n",
              "      <td>voucher</td>\n",
              "      <td>1</td>\n",
              "      <td>0.00</td>\n",
              "    </tr>\n",
              "    <tr>\n",
              "      <th>36822</th>\n",
              "      <td>fa65dad1b0e818e3ccc5cb0e39231352</td>\n",
              "      <td>14</td>\n",
              "      <td>voucher</td>\n",
              "      <td>1</td>\n",
              "      <td>0.00</td>\n",
              "    </tr>\n",
              "    <tr>\n",
              "      <th>63369</th>\n",
              "      <td>fa65dad1b0e818e3ccc5cb0e39231352</td>\n",
              "      <td>15</td>\n",
              "      <td>voucher</td>\n",
              "      <td>1</td>\n",
              "      <td>14.04</td>\n",
              "    </tr>\n",
              "    <tr>\n",
              "      <th>78050</th>\n",
              "      <td>fa65dad1b0e818e3ccc5cb0e39231352</td>\n",
              "      <td>16</td>\n",
              "      <td>voucher</td>\n",
              "      <td>1</td>\n",
              "      <td>12.86</td>\n",
              "    </tr>\n",
              "    <tr>\n",
              "      <th>79670</th>\n",
              "      <td>fa65dad1b0e818e3ccc5cb0e39231352</td>\n",
              "      <td>17</td>\n",
              "      <td>voucher</td>\n",
              "      <td>1</td>\n",
              "      <td>3.72</td>\n",
              "    </tr>\n",
              "    <tr>\n",
              "      <th>80321</th>\n",
              "      <td>fa65dad1b0e818e3ccc5cb0e39231352</td>\n",
              "      <td>18</td>\n",
              "      <td>voucher</td>\n",
              "      <td>1</td>\n",
              "      <td>0.73</td>\n",
              "    </tr>\n",
              "    <tr>\n",
              "      <th>74721</th>\n",
              "      <td>fa65dad1b0e818e3ccc5cb0e39231352</td>\n",
              "      <td>19</td>\n",
              "      <td>voucher</td>\n",
              "      <td>1</td>\n",
              "      <td>5.02</td>\n",
              "    </tr>\n",
              "    <tr>\n",
              "      <th>93337</th>\n",
              "      <td>fa65dad1b0e818e3ccc5cb0e39231352</td>\n",
              "      <td>20</td>\n",
              "      <td>voucher</td>\n",
              "      <td>1</td>\n",
              "      <td>150.00</td>\n",
              "    </tr>\n",
              "    <tr>\n",
              "      <th>74239</th>\n",
              "      <td>fa65dad1b0e818e3ccc5cb0e39231352</td>\n",
              "      <td>21</td>\n",
              "      <td>voucher</td>\n",
              "      <td>1</td>\n",
              "      <td>4.11</td>\n",
              "    </tr>\n",
              "    <tr>\n",
              "      <th>100606</th>\n",
              "      <td>fa65dad1b0e818e3ccc5cb0e39231352</td>\n",
              "      <td>22</td>\n",
              "      <td>voucher</td>\n",
              "      <td>1</td>\n",
              "      <td>4.03</td>\n",
              "    </tr>\n",
              "    <tr>\n",
              "      <th>85166</th>\n",
              "      <td>fa65dad1b0e818e3ccc5cb0e39231352</td>\n",
              "      <td>23</td>\n",
              "      <td>voucher</td>\n",
              "      <td>1</td>\n",
              "      <td>18.86</td>\n",
              "    </tr>\n",
              "    <tr>\n",
              "      <th>99213</th>\n",
              "      <td>fa65dad1b0e818e3ccc5cb0e39231352</td>\n",
              "      <td>24</td>\n",
              "      <td>voucher</td>\n",
              "      <td>1</td>\n",
              "      <td>0.42</td>\n",
              "    </tr>\n",
              "    <tr>\n",
              "      <th>24879</th>\n",
              "      <td>fa65dad1b0e818e3ccc5cb0e39231352</td>\n",
              "      <td>25</td>\n",
              "      <td>voucher</td>\n",
              "      <td>1</td>\n",
              "      <td>3.68</td>\n",
              "    </tr>\n",
              "    <tr>\n",
              "      <th>79587</th>\n",
              "      <td>fa65dad1b0e818e3ccc5cb0e39231352</td>\n",
              "      <td>26</td>\n",
              "      <td>voucher</td>\n",
              "      <td>1</td>\n",
              "      <td>28.27</td>\n",
              "    </tr>\n",
              "    <tr>\n",
              "      <th>4885</th>\n",
              "      <td>fa65dad1b0e818e3ccc5cb0e39231352</td>\n",
              "      <td>27</td>\n",
              "      <td>voucher</td>\n",
              "      <td>1</td>\n",
              "      <td>66.02</td>\n",
              "    </tr>\n",
              "    <tr>\n",
              "      <th>39111</th>\n",
              "      <td>fa65dad1b0e818e3ccc5cb0e39231352</td>\n",
              "      <td>28</td>\n",
              "      <td>voucher</td>\n",
              "      <td>1</td>\n",
              "      <td>29.05</td>\n",
              "    </tr>\n",
              "    <tr>\n",
              "      <th>39108</th>\n",
              "      <td>fa65dad1b0e818e3ccc5cb0e39231352</td>\n",
              "      <td>29</td>\n",
              "      <td>voucher</td>\n",
              "      <td>1</td>\n",
              "      <td>19.26</td>\n",
              "    </tr>\n",
              "  </tbody>\n",
              "</table>\n",
              "</div>"
            ],
            "text/plain": [
              "                                order_id  ...  payment_value\n",
              "14321   fa65dad1b0e818e3ccc5cb0e39231352  ...           3.71\n",
              "23074   fa65dad1b0e818e3ccc5cb0e39231352  ...           8.51\n",
              "65641   fa65dad1b0e818e3ccc5cb0e39231352  ...           2.95\n",
              "9985    fa65dad1b0e818e3ccc5cb0e39231352  ...          29.16\n",
              "28330   fa65dad1b0e818e3ccc5cb0e39231352  ...           0.66\n",
              "29648   fa65dad1b0e818e3ccc5cb0e39231352  ...           5.02\n",
              "82593   fa65dad1b0e818e3ccc5cb0e39231352  ...           0.32\n",
              "68853   fa65dad1b0e818e3ccc5cb0e39231352  ...          26.02\n",
              "17274   fa65dad1b0e818e3ccc5cb0e39231352  ...           1.08\n",
              "19565   fa65dad1b0e818e3ccc5cb0e39231352  ...          12.86\n",
              "32519   fa65dad1b0e818e3ccc5cb0e39231352  ...           4.03\n",
              "73537   fa65dad1b0e818e3ccc5cb0e39231352  ...           3.60\n",
              "77885   fa65dad1b0e818e3ccc5cb0e39231352  ...           0.00\n",
              "36822   fa65dad1b0e818e3ccc5cb0e39231352  ...           0.00\n",
              "63369   fa65dad1b0e818e3ccc5cb0e39231352  ...          14.04\n",
              "78050   fa65dad1b0e818e3ccc5cb0e39231352  ...          12.86\n",
              "79670   fa65dad1b0e818e3ccc5cb0e39231352  ...           3.72\n",
              "80321   fa65dad1b0e818e3ccc5cb0e39231352  ...           0.73\n",
              "74721   fa65dad1b0e818e3ccc5cb0e39231352  ...           5.02\n",
              "93337   fa65dad1b0e818e3ccc5cb0e39231352  ...         150.00\n",
              "74239   fa65dad1b0e818e3ccc5cb0e39231352  ...           4.11\n",
              "100606  fa65dad1b0e818e3ccc5cb0e39231352  ...           4.03\n",
              "85166   fa65dad1b0e818e3ccc5cb0e39231352  ...          18.86\n",
              "99213   fa65dad1b0e818e3ccc5cb0e39231352  ...           0.42\n",
              "24879   fa65dad1b0e818e3ccc5cb0e39231352  ...           3.68\n",
              "79587   fa65dad1b0e818e3ccc5cb0e39231352  ...          28.27\n",
              "4885    fa65dad1b0e818e3ccc5cb0e39231352  ...          66.02\n",
              "39111   fa65dad1b0e818e3ccc5cb0e39231352  ...          29.05\n",
              "39108   fa65dad1b0e818e3ccc5cb0e39231352  ...          19.26\n",
              "\n",
              "[29 rows x 5 columns]"
            ]
          },
          "execution_count": null,
          "metadata": {},
          "output_type": "execute_result"
        }
      ],
      "source": [
        "order_to_look_for = payments_raw['order_id'] == 'fa65dad1b0e818e3ccc5cb0e39231352'\n",
        "payments_raw[order_to_look_for].sort_values(by='payment_sequential')"
      ]
    },
    {
      "cell_type": "markdown",
      "metadata": {
        "id": "xL0r4uQSwlQK"
      },
      "source": [
        "For each method of payment (in the example above, vouchers) we have a line of data. We therefore need to group by `order_id` to obtain the `order_value` per `order_id`"
      ]
    },
    {
      "cell_type": "code",
      "execution_count": null,
      "metadata": {
        "colab": {
          "background_save": true
        },
        "id": "OycJJiGyvSNV",
        "outputId": "365c4bec-e751-4d47-e1df-e273c98d76bc"
      },
      "outputs": [
        {
          "data": {
            "text/html": [
              "<div>\n",
              "<style scoped>\n",
              "    .dataframe tbody tr th:only-of-type {\n",
              "        vertical-align: middle;\n",
              "    }\n",
              "\n",
              "    .dataframe tbody tr th {\n",
              "        vertical-align: top;\n",
              "    }\n",
              "\n",
              "    .dataframe thead th {\n",
              "        text-align: right;\n",
              "    }\n",
              "</style>\n",
              "<table border=\"1\" class=\"dataframe\">\n",
              "  <thead>\n",
              "    <tr style=\"text-align: right;\">\n",
              "      <th></th>\n",
              "      <th>payment_value</th>\n",
              "    </tr>\n",
              "    <tr>\n",
              "      <th>order_id</th>\n",
              "      <th></th>\n",
              "    </tr>\n",
              "  </thead>\n",
              "  <tbody>\n",
              "    <tr>\n",
              "      <th>00010242fe8c5a6d1ba2dd792cb16214</th>\n",
              "      <td>72.19</td>\n",
              "    </tr>\n",
              "    <tr>\n",
              "      <th>00018f77f2f0320c557190d7a144bdd3</th>\n",
              "      <td>259.83</td>\n",
              "    </tr>\n",
              "    <tr>\n",
              "      <th>000229ec398224ef6ca0657da4fc703e</th>\n",
              "      <td>216.87</td>\n",
              "    </tr>\n",
              "    <tr>\n",
              "      <th>00024acbcdf0a6daa1e931b038114c75</th>\n",
              "      <td>25.78</td>\n",
              "    </tr>\n",
              "    <tr>\n",
              "      <th>00042b26cf59d7ce69dfabb4e55b4fd9</th>\n",
              "      <td>218.04</td>\n",
              "    </tr>\n",
              "    <tr>\n",
              "      <th>...</th>\n",
              "      <td>...</td>\n",
              "    </tr>\n",
              "    <tr>\n",
              "      <th>fffc94f6ce00a00581880bf54a75a037</th>\n",
              "      <td>343.40</td>\n",
              "    </tr>\n",
              "    <tr>\n",
              "      <th>fffcd46ef2263f404302a634eb57f7eb</th>\n",
              "      <td>386.53</td>\n",
              "    </tr>\n",
              "    <tr>\n",
              "      <th>fffce4705a9662cd70adb13d4a31832d</th>\n",
              "      <td>116.85</td>\n",
              "    </tr>\n",
              "    <tr>\n",
              "      <th>fffe18544ffabc95dfada21779c9644f</th>\n",
              "      <td>64.71</td>\n",
              "    </tr>\n",
              "    <tr>\n",
              "      <th>fffe41c64501cc87c801fd61db3f6244</th>\n",
              "      <td>55.79</td>\n",
              "    </tr>\n",
              "  </tbody>\n",
              "</table>\n",
              "<p>99440 rows × 1 columns</p>\n",
              "</div>"
            ],
            "text/plain": [
              "                                  payment_value\n",
              "order_id                                       \n",
              "00010242fe8c5a6d1ba2dd792cb16214          72.19\n",
              "00018f77f2f0320c557190d7a144bdd3         259.83\n",
              "000229ec398224ef6ca0657da4fc703e         216.87\n",
              "00024acbcdf0a6daa1e931b038114c75          25.78\n",
              "00042b26cf59d7ce69dfabb4e55b4fd9         218.04\n",
              "...                                         ...\n",
              "fffc94f6ce00a00581880bf54a75a037         343.40\n",
              "fffcd46ef2263f404302a634eb57f7eb         386.53\n",
              "fffce4705a9662cd70adb13d4a31832d         116.85\n",
              "fffe18544ffabc95dfada21779c9644f          64.71\n",
              "fffe41c64501cc87c801fd61db3f6244          55.79\n",
              "\n",
              "[99440 rows x 1 columns]"
            ]
          },
          "execution_count": null,
          "metadata": {},
          "output_type": "execute_result"
        }
      ],
      "source": [
        "monetary_by_order = payments_raw.groupby(by='order_id').sum()\n",
        "monetary_by_order = monetary_by_order[['payment_value']]\n",
        "\n",
        "monetary_by_order"
      ]
    },
    {
      "cell_type": "code",
      "execution_count": null,
      "metadata": {
        "colab": {
          "background_save": true
        },
        "id": "-N0pTk1jtLpi",
        "outputId": "18636b34-c113-45c2-97d4-86224cc521df"
      },
      "outputs": [
        {
          "data": {
            "text/html": [
              "<div>\n",
              "<style scoped>\n",
              "    .dataframe tbody tr th:only-of-type {\n",
              "        vertical-align: middle;\n",
              "    }\n",
              "\n",
              "    .dataframe tbody tr th {\n",
              "        vertical-align: top;\n",
              "    }\n",
              "\n",
              "    .dataframe thead th {\n",
              "        text-align: right;\n",
              "    }\n",
              "</style>\n",
              "<table border=\"1\" class=\"dataframe\">\n",
              "  <thead>\n",
              "    <tr style=\"text-align: right;\">\n",
              "      <th></th>\n",
              "      <th>order_id</th>\n",
              "      <th>payment_value</th>\n",
              "      <th>customer_unique_id</th>\n",
              "    </tr>\n",
              "  </thead>\n",
              "  <tbody>\n",
              "    <tr>\n",
              "      <th>0</th>\n",
              "      <td>00010242fe8c5a6d1ba2dd792cb16214</td>\n",
              "      <td>72.19</td>\n",
              "      <td>871766c5855e863f6eccc05f988b23cb</td>\n",
              "    </tr>\n",
              "    <tr>\n",
              "      <th>1</th>\n",
              "      <td>00018f77f2f0320c557190d7a144bdd3</td>\n",
              "      <td>259.83</td>\n",
              "      <td>eb28e67c4c0b83846050ddfb8a35d051</td>\n",
              "    </tr>\n",
              "    <tr>\n",
              "      <th>2</th>\n",
              "      <td>000229ec398224ef6ca0657da4fc703e</td>\n",
              "      <td>216.87</td>\n",
              "      <td>3818d81c6709e39d06b2738a8d3a2474</td>\n",
              "    </tr>\n",
              "    <tr>\n",
              "      <th>3</th>\n",
              "      <td>00024acbcdf0a6daa1e931b038114c75</td>\n",
              "      <td>25.78</td>\n",
              "      <td>af861d436cfc08b2c2ddefd0ba074622</td>\n",
              "    </tr>\n",
              "    <tr>\n",
              "      <th>4</th>\n",
              "      <td>00042b26cf59d7ce69dfabb4e55b4fd9</td>\n",
              "      <td>218.04</td>\n",
              "      <td>64b576fb70d441e8f1b2d7d446e483c5</td>\n",
              "    </tr>\n",
              "    <tr>\n",
              "      <th>...</th>\n",
              "      <td>...</td>\n",
              "      <td>...</td>\n",
              "      <td>...</td>\n",
              "    </tr>\n",
              "    <tr>\n",
              "      <th>93120</th>\n",
              "      <td>fffc94f6ce00a00581880bf54a75a037</td>\n",
              "      <td>343.40</td>\n",
              "      <td>0c9aeda10a71f369396d0c04dce13a64</td>\n",
              "    </tr>\n",
              "    <tr>\n",
              "      <th>93121</th>\n",
              "      <td>fffcd46ef2263f404302a634eb57f7eb</td>\n",
              "      <td>386.53</td>\n",
              "      <td>0da9fe112eae0c74d3ba1fe16de0988b</td>\n",
              "    </tr>\n",
              "    <tr>\n",
              "      <th>93122</th>\n",
              "      <td>fffce4705a9662cd70adb13d4a31832d</td>\n",
              "      <td>116.85</td>\n",
              "      <td>cd79b407828f02fdbba457111c38e4c4</td>\n",
              "    </tr>\n",
              "    <tr>\n",
              "      <th>93123</th>\n",
              "      <td>fffe18544ffabc95dfada21779c9644f</td>\n",
              "      <td>64.71</td>\n",
              "      <td>eb803377c9315b564bdedad672039306</td>\n",
              "    </tr>\n",
              "    <tr>\n",
              "      <th>93124</th>\n",
              "      <td>fffe41c64501cc87c801fd61db3f6244</td>\n",
              "      <td>55.79</td>\n",
              "      <td>cd76a00d8e3ca5e6ab9ed9ecb6667ac4</td>\n",
              "    </tr>\n",
              "  </tbody>\n",
              "</table>\n",
              "<p>93125 rows × 3 columns</p>\n",
              "</div>"
            ],
            "text/plain": [
              "                               order_id  ...                customer_unique_id\n",
              "0      00010242fe8c5a6d1ba2dd792cb16214  ...  871766c5855e863f6eccc05f988b23cb\n",
              "1      00018f77f2f0320c557190d7a144bdd3  ...  eb28e67c4c0b83846050ddfb8a35d051\n",
              "2      000229ec398224ef6ca0657da4fc703e  ...  3818d81c6709e39d06b2738a8d3a2474\n",
              "3      00024acbcdf0a6daa1e931b038114c75  ...  af861d436cfc08b2c2ddefd0ba074622\n",
              "4      00042b26cf59d7ce69dfabb4e55b4fd9  ...  64b576fb70d441e8f1b2d7d446e483c5\n",
              "...                                 ...  ...                               ...\n",
              "93120  fffc94f6ce00a00581880bf54a75a037  ...  0c9aeda10a71f369396d0c04dce13a64\n",
              "93121  fffcd46ef2263f404302a634eb57f7eb  ...  0da9fe112eae0c74d3ba1fe16de0988b\n",
              "93122  fffce4705a9662cd70adb13d4a31832d  ...  cd79b407828f02fdbba457111c38e4c4\n",
              "93123  fffe18544ffabc95dfada21779c9644f  ...  eb803377c9315b564bdedad672039306\n",
              "93124  fffe41c64501cc87c801fd61db3f6244  ...  cd76a00d8e3ca5e6ab9ed9ecb6667ac4\n",
              "\n",
              "[93125 rows x 3 columns]"
            ]
          },
          "execution_count": null,
          "metadata": {},
          "output_type": "execute_result"
        }
      ],
      "source": [
        "merge_order_payment = monetary_by_order.merge(merge_order_customer[['order_id', 'customer_unique_id']], on = 'order_id')\n",
        "merge_order_payment"
      ]
    },
    {
      "cell_type": "markdown",
      "metadata": {
        "id": "yMsxDQnmxQw2"
      },
      "source": [
        "To obtain the `Monetary` KPI we need to group by `customer_unique_id` in order to have the average order amount per customer : "
      ]
    },
    {
      "cell_type": "code",
      "execution_count": null,
      "metadata": {
        "colab": {
          "background_save": true
        },
        "id": "Hl372oujxQL_",
        "outputId": "dc0e83c1-9c73-4e75-cba0-ca9dbc20f01f"
      },
      "outputs": [
        {
          "data": {
            "text/html": [
              "<div>\n",
              "<style scoped>\n",
              "    .dataframe tbody tr th:only-of-type {\n",
              "        vertical-align: middle;\n",
              "    }\n",
              "\n",
              "    .dataframe tbody tr th {\n",
              "        vertical-align: top;\n",
              "    }\n",
              "\n",
              "    .dataframe thead th {\n",
              "        text-align: right;\n",
              "    }\n",
              "</style>\n",
              "<table border=\"1\" class=\"dataframe\">\n",
              "  <thead>\n",
              "    <tr style=\"text-align: right;\">\n",
              "      <th></th>\n",
              "      <th>payment_value</th>\n",
              "    </tr>\n",
              "    <tr>\n",
              "      <th>customer_unique_id</th>\n",
              "      <th></th>\n",
              "    </tr>\n",
              "  </thead>\n",
              "  <tbody>\n",
              "    <tr>\n",
              "      <th>0000366f3b9a7992bf8c76cfdf3221e2</th>\n",
              "      <td>141.90</td>\n",
              "    </tr>\n",
              "    <tr>\n",
              "      <th>0000b849f77a49e4a4ce2b2a4ca5be3f</th>\n",
              "      <td>27.19</td>\n",
              "    </tr>\n",
              "    <tr>\n",
              "      <th>0000f46a3911fa3c0805444483337064</th>\n",
              "      <td>86.22</td>\n",
              "    </tr>\n",
              "    <tr>\n",
              "      <th>0000f6ccb0745a6a4b88665a16c9f078</th>\n",
              "      <td>43.62</td>\n",
              "    </tr>\n",
              "    <tr>\n",
              "      <th>0004aac84e0df4da2b147fca70cf8255</th>\n",
              "      <td>196.89</td>\n",
              "    </tr>\n",
              "    <tr>\n",
              "      <th>...</th>\n",
              "      <td>...</td>\n",
              "    </tr>\n",
              "    <tr>\n",
              "      <th>fffcf5a5ff07b0908bd4e2dbc735a684</th>\n",
              "      <td>2067.42</td>\n",
              "    </tr>\n",
              "    <tr>\n",
              "      <th>fffea47cd6d3cc0a88bd621562a9d061</th>\n",
              "      <td>84.58</td>\n",
              "    </tr>\n",
              "    <tr>\n",
              "      <th>ffff371b4d645b6ecea244b27531430a</th>\n",
              "      <td>112.46</td>\n",
              "    </tr>\n",
              "    <tr>\n",
              "      <th>ffff5962728ec6157033ef9805bacc48</th>\n",
              "      <td>133.69</td>\n",
              "    </tr>\n",
              "    <tr>\n",
              "      <th>ffffd2657e2aad2907e67c3e9daecbeb</th>\n",
              "      <td>71.56</td>\n",
              "    </tr>\n",
              "  </tbody>\n",
              "</table>\n",
              "<p>90164 rows × 1 columns</p>\n",
              "</div>"
            ],
            "text/plain": [
              "                                  payment_value\n",
              "customer_unique_id                             \n",
              "0000366f3b9a7992bf8c76cfdf3221e2         141.90\n",
              "0000b849f77a49e4a4ce2b2a4ca5be3f          27.19\n",
              "0000f46a3911fa3c0805444483337064          86.22\n",
              "0000f6ccb0745a6a4b88665a16c9f078          43.62\n",
              "0004aac84e0df4da2b147fca70cf8255         196.89\n",
              "...                                         ...\n",
              "fffcf5a5ff07b0908bd4e2dbc735a684        2067.42\n",
              "fffea47cd6d3cc0a88bd621562a9d061          84.58\n",
              "ffff371b4d645b6ecea244b27531430a         112.46\n",
              "ffff5962728ec6157033ef9805bacc48         133.69\n",
              "ffffd2657e2aad2907e67c3e9daecbeb          71.56\n",
              "\n",
              "[90164 rows x 1 columns]"
            ]
          },
          "execution_count": null,
          "metadata": {},
          "output_type": "execute_result"
        }
      ],
      "source": [
        "merge_order_payment = merge_order_payment.groupby('customer_unique_id')[['payment_value']].mean()\n",
        "merge_order_payment"
      ]
    },
    {
      "cell_type": "code",
      "execution_count": null,
      "metadata": {
        "colab": {
          "background_save": true
        },
        "id": "MfbiecCraYaI"
      },
      "outputs": [],
      "source": [
        "rfm_df = rfm_df.merge(merge_order_payment, left_index=True, right_index=True)"
      ]
    },
    {
      "cell_type": "code",
      "execution_count": null,
      "metadata": {
        "colab": {
          "background_save": true
        },
        "id": "wW8YVGs_3Jtl"
      },
      "outputs": [],
      "source": [
        "rfm_df = rfm_df.rename({\"payment_value\":'M'}, axis=1)"
      ]
    },
    {
      "cell_type": "code",
      "execution_count": null,
      "metadata": {
        "colab": {
          "background_save": true
        },
        "id": "VIFqwO8CFu3b",
        "outputId": "ee374bee-f5dd-443d-b2a9-4f350850c6e7"
      },
      "outputs": [
        {
          "data": {
            "text/html": [
              "<div>\n",
              "<style scoped>\n",
              "    .dataframe tbody tr th:only-of-type {\n",
              "        vertical-align: middle;\n",
              "    }\n",
              "\n",
              "    .dataframe tbody tr th {\n",
              "        vertical-align: top;\n",
              "    }\n",
              "\n",
              "    .dataframe thead th {\n",
              "        text-align: right;\n",
              "    }\n",
              "</style>\n",
              "<table border=\"1\" class=\"dataframe\">\n",
              "  <thead>\n",
              "    <tr style=\"text-align: right;\">\n",
              "      <th></th>\n",
              "      <th>order_purchase_timestamp</th>\n",
              "      <th>R</th>\n",
              "      <th>F</th>\n",
              "      <th>M</th>\n",
              "    </tr>\n",
              "    <tr>\n",
              "      <th>customer_unique_id</th>\n",
              "      <th></th>\n",
              "      <th></th>\n",
              "      <th></th>\n",
              "      <th></th>\n",
              "    </tr>\n",
              "  </thead>\n",
              "  <tbody>\n",
              "    <tr>\n",
              "      <th>0000366f3b9a7992bf8c76cfdf3221e2</th>\n",
              "      <td>2018-05-10 10:56:27</td>\n",
              "      <td>112</td>\n",
              "      <td>1</td>\n",
              "      <td>141.90</td>\n",
              "    </tr>\n",
              "    <tr>\n",
              "      <th>0000b849f77a49e4a4ce2b2a4ca5be3f</th>\n",
              "      <td>2018-05-07 11:11:27</td>\n",
              "      <td>115</td>\n",
              "      <td>1</td>\n",
              "      <td>27.19</td>\n",
              "    </tr>\n",
              "    <tr>\n",
              "      <th>0000f46a3911fa3c0805444483337064</th>\n",
              "      <td>2017-03-10 21:05:03</td>\n",
              "      <td>537</td>\n",
              "      <td>1</td>\n",
              "      <td>86.22</td>\n",
              "    </tr>\n",
              "    <tr>\n",
              "      <th>0000f6ccb0745a6a4b88665a16c9f078</th>\n",
              "      <td>2017-10-12 20:29:41</td>\n",
              "      <td>321</td>\n",
              "      <td>1</td>\n",
              "      <td>43.62</td>\n",
              "    </tr>\n",
              "    <tr>\n",
              "      <th>0004aac84e0df4da2b147fca70cf8255</th>\n",
              "      <td>2017-11-14 19:45:42</td>\n",
              "      <td>288</td>\n",
              "      <td>1</td>\n",
              "      <td>196.89</td>\n",
              "    </tr>\n",
              "    <tr>\n",
              "      <th>...</th>\n",
              "      <td>...</td>\n",
              "      <td>...</td>\n",
              "      <td>...</td>\n",
              "      <td>...</td>\n",
              "    </tr>\n",
              "    <tr>\n",
              "      <th>fffcf5a5ff07b0908bd4e2dbc735a684</th>\n",
              "      <td>2017-06-08 21:00:36</td>\n",
              "      <td>447</td>\n",
              "      <td>1</td>\n",
              "      <td>2067.42</td>\n",
              "    </tr>\n",
              "    <tr>\n",
              "      <th>fffea47cd6d3cc0a88bd621562a9d061</th>\n",
              "      <td>2017-12-10 20:07:56</td>\n",
              "      <td>262</td>\n",
              "      <td>1</td>\n",
              "      <td>84.58</td>\n",
              "    </tr>\n",
              "    <tr>\n",
              "      <th>ffff371b4d645b6ecea244b27531430a</th>\n",
              "      <td>2017-02-07 15:49:16</td>\n",
              "      <td>568</td>\n",
              "      <td>1</td>\n",
              "      <td>112.46</td>\n",
              "    </tr>\n",
              "    <tr>\n",
              "      <th>ffff5962728ec6157033ef9805bacc48</th>\n",
              "      <td>2018-05-02 15:17:41</td>\n",
              "      <td>119</td>\n",
              "      <td>1</td>\n",
              "      <td>133.69</td>\n",
              "    </tr>\n",
              "    <tr>\n",
              "      <th>ffffd2657e2aad2907e67c3e9daecbeb</th>\n",
              "      <td>2017-05-02 20:18:45</td>\n",
              "      <td>484</td>\n",
              "      <td>1</td>\n",
              "      <td>71.56</td>\n",
              "    </tr>\n",
              "  </tbody>\n",
              "</table>\n",
              "<p>90164 rows × 4 columns</p>\n",
              "</div>"
            ],
            "text/plain": [
              "                                 order_purchase_timestamp    R  F        M\n",
              "customer_unique_id                                                        \n",
              "0000366f3b9a7992bf8c76cfdf3221e2      2018-05-10 10:56:27  112  1   141.90\n",
              "0000b849f77a49e4a4ce2b2a4ca5be3f      2018-05-07 11:11:27  115  1    27.19\n",
              "0000f46a3911fa3c0805444483337064      2017-03-10 21:05:03  537  1    86.22\n",
              "0000f6ccb0745a6a4b88665a16c9f078      2017-10-12 20:29:41  321  1    43.62\n",
              "0004aac84e0df4da2b147fca70cf8255      2017-11-14 19:45:42  288  1   196.89\n",
              "...                                                   ...  ... ..      ...\n",
              "fffcf5a5ff07b0908bd4e2dbc735a684      2017-06-08 21:00:36  447  1  2067.42\n",
              "fffea47cd6d3cc0a88bd621562a9d061      2017-12-10 20:07:56  262  1    84.58\n",
              "ffff371b4d645b6ecea244b27531430a      2017-02-07 15:49:16  568  1   112.46\n",
              "ffff5962728ec6157033ef9805bacc48      2018-05-02 15:17:41  119  1   133.69\n",
              "ffffd2657e2aad2907e67c3e9daecbeb      2017-05-02 20:18:45  484  1    71.56\n",
              "\n",
              "[90164 rows x 4 columns]"
            ]
          },
          "execution_count": null,
          "metadata": {},
          "output_type": "execute_result"
        }
      ],
      "source": [
        "rfm_df"
      ]
    },
    {
      "cell_type": "code",
      "execution_count": null,
      "metadata": {
        "colab": {
          "background_save": true
        },
        "id": "8sRdztZ5aovv",
        "outputId": "576f01e8-5506-4cee-eed2-8b7bb34f2b10"
      },
      "outputs": [
        {
          "data": {
            "text/html": [
              "<div>\n",
              "<style scoped>\n",
              "    .dataframe tbody tr th:only-of-type {\n",
              "        vertical-align: middle;\n",
              "    }\n",
              "\n",
              "    .dataframe tbody tr th {\n",
              "        vertical-align: top;\n",
              "    }\n",
              "\n",
              "    .dataframe thead th {\n",
              "        text-align: right;\n",
              "    }\n",
              "</style>\n",
              "<table border=\"1\" class=\"dataframe\">\n",
              "  <thead>\n",
              "    <tr style=\"text-align: right;\">\n",
              "      <th></th>\n",
              "      <th>R</th>\n",
              "      <th>F</th>\n",
              "      <th>M</th>\n",
              "    </tr>\n",
              "  </thead>\n",
              "  <tbody>\n",
              "    <tr>\n",
              "      <th>count</th>\n",
              "      <td>90164.000000</td>\n",
              "      <td>90164.000000</td>\n",
              "      <td>90164.000000</td>\n",
              "    </tr>\n",
              "    <tr>\n",
              "      <th>mean</th>\n",
              "      <td>236.380884</td>\n",
              "      <td>1.032840</td>\n",
              "      <td>159.077784</td>\n",
              "    </tr>\n",
              "    <tr>\n",
              "      <th>std</th>\n",
              "      <td>151.946197</td>\n",
              "      <td>0.207759</td>\n",
              "      <td>218.678270</td>\n",
              "    </tr>\n",
              "    <tr>\n",
              "      <th>min</th>\n",
              "      <td>0.000000</td>\n",
              "      <td>1.000000</td>\n",
              "      <td>9.590000</td>\n",
              "    </tr>\n",
              "    <tr>\n",
              "      <th>25%</th>\n",
              "      <td>113.000000</td>\n",
              "      <td>1.000000</td>\n",
              "      <td>61.960000</td>\n",
              "    </tr>\n",
              "    <tr>\n",
              "      <th>50%</th>\n",
              "      <td>219.000000</td>\n",
              "      <td>1.000000</td>\n",
              "      <td>105.115000</td>\n",
              "    </tr>\n",
              "    <tr>\n",
              "      <th>75%</th>\n",
              "      <td>347.000000</td>\n",
              "      <td>1.000000</td>\n",
              "      <td>175.330000</td>\n",
              "    </tr>\n",
              "    <tr>\n",
              "      <th>max</th>\n",
              "      <td>602.000000</td>\n",
              "      <td>15.000000</td>\n",
              "      <td>13664.080000</td>\n",
              "    </tr>\n",
              "  </tbody>\n",
              "</table>\n",
              "</div>"
            ],
            "text/plain": [
              "                  R             F             M\n",
              "count  90164.000000  90164.000000  90164.000000\n",
              "mean     236.380884      1.032840    159.077784\n",
              "std      151.946197      0.207759    218.678270\n",
              "min        0.000000      1.000000      9.590000\n",
              "25%      113.000000      1.000000     61.960000\n",
              "50%      219.000000      1.000000    105.115000\n",
              "75%      347.000000      1.000000    175.330000\n",
              "max      602.000000     15.000000  13664.080000"
            ]
          },
          "execution_count": null,
          "metadata": {},
          "output_type": "execute_result"
        }
      ],
      "source": [
        "rfm_df.describe()"
      ]
    },
    {
      "cell_type": "markdown",
      "metadata": {
        "id": "wH1Oohbv9J_6"
      },
      "source": [
        "## Clustering"
      ]
    },
    {
      "cell_type": "markdown",
      "metadata": {
        "id": "vsTWSMLEa2gE"
      },
      "source": [
        "###RFM Score"
      ]
    },
    {
      "cell_type": "markdown",
      "metadata": {
        "id": "QevjbdRgjdam"
      },
      "source": [
        "####Formula"
      ]
    },
    {
      "cell_type": "markdown",
      "metadata": {
        "id": "2QTOFz-nH3bV"
      },
      "source": [
        "To calculate RFM score we will use quantiles : \n",
        "* for Recency and Monetary : quantiles containing 1/3 of the population each\n",
        "* for Frequency : regarding the distribution of the Frequency, we will split the items as follows : \n",
        "  * score=1 if the frequency value is 1\n",
        "  * else : score=2\n",
        "\n",
        "Using quantiles is more relevant when data is expected to change with time (compared to fixed thresholds). \n",
        "\n",
        "Here we noticed in our [EDA](https://colab.research.google.com/drive/11PtfRXOcoCF5OZfBv4Q1LcKO75U8z2Rv#scrollTo=Ly50d3vabFUf) that customer number strongly increase with time. Quantiles will therefore enable RFM score to adapt to the data : "
      ]
    },
    {
      "cell_type": "code",
      "execution_count": null,
      "metadata": {
        "colab": {
          "background_save": true
        },
        "id": "0k1myOXKOV4Q"
      },
      "outputs": [],
      "source": [
        "rfm_df['R_score'] = pd.qcut(rfm_df['R'], 3, labels=[1, 2, 3]).astype('str')\n",
        "rfm_df['M_score'] = pd.qcut(rfm_df['M'], 3, labels=[1, 2, 3]).astype('str')\n",
        "\n",
        "rfm_df['F_score'] = rfm_df['F'].apply(lambda x: '1' if x==1 else '2')"
      ]
    },
    {
      "cell_type": "code",
      "execution_count": null,
      "metadata": {
        "colab": {
          "background_save": true
        },
        "id": "9yum1995aKSj"
      },
      "outputs": [],
      "source": [
        "#Footing RFM score : \n",
        "\n",
        "rfm_df['RFM_score'] = rfm_df['R_score'] + rfm_df['F_score'] + rfm_df['M_score']"
      ]
    },
    {
      "cell_type": "code",
      "execution_count": null,
      "metadata": {
        "colab": {
          "background_save": true
        },
        "id": "O5WvBgsPafwW",
        "outputId": "b4d658e3-1668-45de-a4a7-2a3736ca8d81"
      },
      "outputs": [
        {
          "data": {
            "text/html": [
              "<div>\n",
              "<style scoped>\n",
              "    .dataframe tbody tr th:only-of-type {\n",
              "        vertical-align: middle;\n",
              "    }\n",
              "\n",
              "    .dataframe tbody tr th {\n",
              "        vertical-align: top;\n",
              "    }\n",
              "\n",
              "    .dataframe thead th {\n",
              "        text-align: right;\n",
              "    }\n",
              "</style>\n",
              "<table border=\"1\" class=\"dataframe\">\n",
              "  <thead>\n",
              "    <tr style=\"text-align: right;\">\n",
              "      <th></th>\n",
              "      <th>order_purchase_timestamp</th>\n",
              "      <th>R</th>\n",
              "      <th>F</th>\n",
              "      <th>M</th>\n",
              "      <th>R_score</th>\n",
              "      <th>M_score</th>\n",
              "      <th>F_score</th>\n",
              "      <th>RFM_score</th>\n",
              "    </tr>\n",
              "    <tr>\n",
              "      <th>customer_unique_id</th>\n",
              "      <th></th>\n",
              "      <th></th>\n",
              "      <th></th>\n",
              "      <th></th>\n",
              "      <th></th>\n",
              "      <th></th>\n",
              "      <th></th>\n",
              "      <th></th>\n",
              "    </tr>\n",
              "  </thead>\n",
              "  <tbody>\n",
              "    <tr>\n",
              "      <th>0000366f3b9a7992bf8c76cfdf3221e2</th>\n",
              "      <td>2018-05-10 10:56:27</td>\n",
              "      <td>112</td>\n",
              "      <td>1</td>\n",
              "      <td>141.90</td>\n",
              "      <td>1</td>\n",
              "      <td>2</td>\n",
              "      <td>1</td>\n",
              "      <td>112</td>\n",
              "    </tr>\n",
              "    <tr>\n",
              "      <th>0000b849f77a49e4a4ce2b2a4ca5be3f</th>\n",
              "      <td>2018-05-07 11:11:27</td>\n",
              "      <td>115</td>\n",
              "      <td>1</td>\n",
              "      <td>27.19</td>\n",
              "      <td>1</td>\n",
              "      <td>1</td>\n",
              "      <td>1</td>\n",
              "      <td>111</td>\n",
              "    </tr>\n",
              "    <tr>\n",
              "      <th>0000f46a3911fa3c0805444483337064</th>\n",
              "      <td>2017-03-10 21:05:03</td>\n",
              "      <td>537</td>\n",
              "      <td>1</td>\n",
              "      <td>86.22</td>\n",
              "      <td>3</td>\n",
              "      <td>2</td>\n",
              "      <td>1</td>\n",
              "      <td>312</td>\n",
              "    </tr>\n",
              "    <tr>\n",
              "      <th>0000f6ccb0745a6a4b88665a16c9f078</th>\n",
              "      <td>2017-10-12 20:29:41</td>\n",
              "      <td>321</td>\n",
              "      <td>1</td>\n",
              "      <td>43.62</td>\n",
              "      <td>3</td>\n",
              "      <td>1</td>\n",
              "      <td>1</td>\n",
              "      <td>311</td>\n",
              "    </tr>\n",
              "    <tr>\n",
              "      <th>0004aac84e0df4da2b147fca70cf8255</th>\n",
              "      <td>2017-11-14 19:45:42</td>\n",
              "      <td>288</td>\n",
              "      <td>1</td>\n",
              "      <td>196.89</td>\n",
              "      <td>2</td>\n",
              "      <td>3</td>\n",
              "      <td>1</td>\n",
              "      <td>213</td>\n",
              "    </tr>\n",
              "  </tbody>\n",
              "</table>\n",
              "</div>"
            ],
            "text/plain": [
              "                                 order_purchase_timestamp  ...  RFM_score\n",
              "customer_unique_id                                         ...           \n",
              "0000366f3b9a7992bf8c76cfdf3221e2      2018-05-10 10:56:27  ...        112\n",
              "0000b849f77a49e4a4ce2b2a4ca5be3f      2018-05-07 11:11:27  ...        111\n",
              "0000f46a3911fa3c0805444483337064      2017-03-10 21:05:03  ...        312\n",
              "0000f6ccb0745a6a4b88665a16c9f078      2017-10-12 20:29:41  ...        311\n",
              "0004aac84e0df4da2b147fca70cf8255      2017-11-14 19:45:42  ...        213\n",
              "\n",
              "[5 rows x 8 columns]"
            ]
          },
          "execution_count": null,
          "metadata": {},
          "output_type": "execute_result"
        }
      ],
      "source": [
        "rfm_df.head()"
      ]
    },
    {
      "cell_type": "markdown",
      "metadata": {
        "id": "nk9bAP2vbi5T"
      },
      "source": [
        " The scoring obtained is consitent with our expectations. It should be red as follows : \n",
        "*  R score : 1 (best) to 3 (worse)\n",
        "*  F score : 1 (worse) to 2 (best)\n",
        "*  M score : 1 (worse) to 3 (best)\n"
      ]
    },
    {
      "cell_type": "code",
      "execution_count": null,
      "metadata": {
        "colab": {
          "background_save": true
        },
        "id": "KQoFmixXTv2d",
        "outputId": "f86f2028-6743-4b55-86e9-015869a00409"
      },
      "outputs": [
        {
          "data": {
            "text/plain": [
              "order_purchase_timestamp    2018-05-10 10:56:27\n",
              "R                                           112\n",
              "F                                             1\n",
              "M                                         141.9\n",
              "R_score                                       1\n",
              "M_score                                       2\n",
              "F_score                                       1\n",
              "RFM_score                                   112\n",
              "Name: 0000366f3b9a7992bf8c76cfdf3221e2, dtype: object"
            ]
          },
          "execution_count": null,
          "metadata": {},
          "output_type": "execute_result"
        }
      ],
      "source": [
        "rfm_df.loc['0000366f3b9a7992bf8c76cfdf3221e2']"
      ]
    },
    {
      "cell_type": "code",
      "execution_count": null,
      "metadata": {
        "colab": {
          "background_save": true
        },
        "id": "nqGPMA7TLEVZ",
        "outputId": "424191da-a1b6-4abf-8876-6a27e2551f2f"
      },
      "outputs": [
        {
          "name": "stdout",
          "output_type": "stream",
          "text": [
            "We obtained 18 distinct segments based on our RFM score.\n"
          ]
        }
      ],
      "source": [
        "#Count number of segments (unique values)\n",
        "distinct_values = len(set(rfm_df['RFM_score']))\n",
        "\n",
        "print(f'We obtained {distinct_values} distinct segments based on our RFM score.')"
      ]
    },
    {
      "cell_type": "markdown",
      "metadata": {
        "id": "l2VMiz_RjXpN"
      },
      "source": [
        "####Clusters Definition"
      ]
    },
    {
      "cell_type": "markdown",
      "metadata": {
        "id": "p0OuTTApS603"
      },
      "source": [
        "Let's split in fewer segments based on Marketing knowledge : "
      ]
    },
    {
      "cell_type": "markdown",
      "metadata": {
        "id": "EhK1mK9vPfDL"
      },
      "source": [
        "https://www.barilliance.com/rfm-analysis/#tab-con-3"
      ]
    },
    {
      "cell_type": "markdown",
      "metadata": {
        "id": "hyn4rX6HNBlv"
      },
      "source": [
        "Segment name  | Description | Marketing Strategies \n",
        "-------------------|------------------|------------------\n",
        "1. CORE - Best Customers       | Highly engaged customers who have bought the most recent, the most often, and generated the most revenue.       | Focus on loyalty programs and new product introductions. These customers have proven to have a higher willingness to pay,<br /> so don't use discount pricing to generate incremental sales. <br />Instead, focus on value added offers through product recommendations based on previous purchases.\n",
        "2. LOYAL - Your Most Loyal Customers  | Customers who buy the most often from your store.      | Loyalty programs are effective for these repeat visitors. Advocacy programs and reviews are also common strategies. <br />Lastly, consider rewarding these customers with Free Shipping or other like benefits.\n",
        "3. WHALES - Your Highest Paying Customers      | Customers who have generated the most revenue for your store.      | These customers have demonstrated a high willingness to pay. <br />Consider premium offers, subscription tiers, luxury products, or value add cross/up-sells to increase AOV. <br />Don't waste margin on discounts. \n",
        "4. REGULAR - Faithful customers      | Customers who return often, but do not spend a lot.      | You've already succeeded in creating loyalty. <br />Focus on increasing monetization through product recommendations based on past purchases <br />and incentives tied to spending thresholds.\n",
        "5. ROOKIES - Your Newest Customers      | First time buyers on your site.      | Most customers never graduate to loyal. <br />Having clear strategies in place for first time buyers <br />such as triggered welcome emails will pay dividends.\n",
        "6. GONE - Once Loyal, Now Gone      | Great past customers who haven't bought in a while.      | Customers leave for a variety of reasons. <br />Depending on your situation price deals, new product launches, <br />or other retention strategies.\n",
        "\n",
        "\n",
        "\n",
        "\t\n",
        " \t\n",
        "\t\n",
        "\t\n",
        "\t\n",
        "\t\n",
        "\t\n",
        "\n",
        "\t\n",
        "\t"
      ]
    },
    {
      "cell_type": "code",
      "execution_count": null,
      "metadata": {
        "colab": {
          "background_save": true
        },
        "id": "XREvwAK9agM2"
      },
      "outputs": [],
      "source": [
        "def segment(x):\n",
        "    if x == '123':\n",
        "        return 'Core'\n",
        "    elif x in ['311', '312', '313', '211', '212']: #212 and 211 = severe appreciation of gone\n",
        "        return 'Gone'\n",
        "    elif x in ['111', '112', '113']:\n",
        "        return 'Rookies'\n",
        "    elif x in ['323', '213', '223']:\n",
        "        return 'Whales'\n",
        "    elif x in ['221', '222', '321', '322']:\n",
        "        return 'Loyal'\n",
        "    else:\n",
        "        return 'Regular' #121 #122"
      ]
    },
    {
      "cell_type": "code",
      "execution_count": null,
      "metadata": {
        "colab": {
          "background_save": true
        },
        "id": "J_zdZ4rnoC3G"
      },
      "outputs": [],
      "source": [
        "#apply function to define segments\n",
        "rfm_df['segments'] = rfm_df['RFM_score'].apply(segment)"
      ]
    },
    {
      "cell_type": "markdown",
      "metadata": {
        "id": "MiGEhDUvjQ2-"
      },
      "source": [
        "####Treemaps for results"
      ]
    },
    {
      "cell_type": "code",
      "execution_count": null,
      "metadata": {
        "colab": {
          "background_save": true
        },
        "id": "cY5RJ91zojS8",
        "outputId": "64ec9b49-8bda-41d3-a8af-2a75e989efc0"
      },
      "outputs": [
        {
          "data": {
            "text/plain": [
              "Gone       53.946143\n",
              "Rookies    32.465285\n",
              "Whales     11.226210\n",
              "Loyal       1.287654\n",
              "Regular     0.704272\n",
              "Core        0.370436\n",
              "Name: segments, dtype: float64"
            ]
          },
          "execution_count": null,
          "metadata": {},
          "output_type": "execute_result"
        }
      ],
      "source": [
        "#Print results of segments\n",
        "rfm_df['segments'].value_counts(normalize=True)*100"
      ]
    },
    {
      "cell_type": "code",
      "execution_count": null,
      "metadata": {
        "colab": {
          "background_save": true
        },
        "id": "KH-iRb7lrK4D",
        "outputId": "3db64a0e-1c78-4456-bbf7-b1551cdca072"
      },
      "outputs": [
        {
          "data": {
            "text/html": [
              "<div>\n",
              "<style scoped>\n",
              "    .dataframe tbody tr th:only-of-type {\n",
              "        vertical-align: middle;\n",
              "    }\n",
              "\n",
              "    .dataframe tbody tr th {\n",
              "        vertical-align: top;\n",
              "    }\n",
              "\n",
              "    .dataframe thead th {\n",
              "        text-align: right;\n",
              "    }\n",
              "</style>\n",
              "<table border=\"1\" class=\"dataframe\">\n",
              "  <thead>\n",
              "    <tr style=\"text-align: right;\">\n",
              "      <th></th>\n",
              "      <th>RecencyMean</th>\n",
              "      <th>FrequencyMean</th>\n",
              "      <th>MonetaryMean</th>\n",
              "      <th>GroupSize</th>\n",
              "    </tr>\n",
              "    <tr>\n",
              "      <th>segments</th>\n",
              "      <th></th>\n",
              "      <th></th>\n",
              "      <th></th>\n",
              "      <th></th>\n",
              "    </tr>\n",
              "  </thead>\n",
              "  <tbody>\n",
              "    <tr>\n",
              "      <th>Core</th>\n",
              "      <td>73.047904</td>\n",
              "      <td>2.194611</td>\n",
              "      <td>271.292712</td>\n",
              "      <td>334</td>\n",
              "    </tr>\n",
              "    <tr>\n",
              "      <th>Gone</th>\n",
              "      <td>338.257627</td>\n",
              "      <td>1.000000</td>\n",
              "      <td>127.955765</td>\n",
              "      <td>48640</td>\n",
              "    </tr>\n",
              "    <tr>\n",
              "      <th>Loyal</th>\n",
              "      <td>307.323859</td>\n",
              "      <td>2.100775</td>\n",
              "      <td>84.392004</td>\n",
              "      <td>1161</td>\n",
              "    </tr>\n",
              "    <tr>\n",
              "      <th>Regular</th>\n",
              "      <td>74.031496</td>\n",
              "      <td>2.127559</td>\n",
              "      <td>86.252458</td>\n",
              "      <td>635</td>\n",
              "    </tr>\n",
              "    <tr>\n",
              "      <th>Rookies</th>\n",
              "      <td>74.259326</td>\n",
              "      <td>1.000000</td>\n",
              "      <td>164.344075</td>\n",
              "      <td>29272</td>\n",
              "    </tr>\n",
              "    <tr>\n",
              "      <th>Whales</th>\n",
              "      <td>223.104624</td>\n",
              "      <td>1.056115</td>\n",
              "      <td>302.833424</td>\n",
              "      <td>10122</td>\n",
              "    </tr>\n",
              "  </tbody>\n",
              "</table>\n",
              "</div>"
            ],
            "text/plain": [
              "          RecencyMean  FrequencyMean  MonetaryMean  GroupSize\n",
              "segments                                                     \n",
              "Core        73.047904       2.194611    271.292712        334\n",
              "Gone       338.257627       1.000000    127.955765      48640\n",
              "Loyal      307.323859       2.100775     84.392004       1161\n",
              "Regular     74.031496       2.127559     86.252458        635\n",
              "Rookies     74.259326       1.000000    164.344075      29272\n",
              "Whales     223.104624       1.056115    302.833424      10122"
            ]
          },
          "execution_count": null,
          "metadata": {},
          "output_type": "execute_result"
        }
      ],
      "source": [
        "rfm_groups = rfm_df.groupby('segments').agg(RecencyMean = ('R', 'mean'),\n",
        "                                          FrequencyMean = ('F', 'mean'),\n",
        "                                          MonetaryMean = ('M', 'mean'),\n",
        "                                          GroupSize = ('R', 'size'))\n",
        "\n",
        "rfm_groups"
      ]
    },
    {
      "cell_type": "code",
      "execution_count": null,
      "metadata": {
        "colab": {
          "background_save": true
        },
        "id": "4_-UrCGAuz5H",
        "outputId": "7425b1e3-c883-4aab-986d-85de521afc49"
      },
      "outputs": [
        {
          "data": {
            "image/png": "[encoded data removed]",
            "text/plain": [
              "<Figure size 1000x800 with 1 Axes>"
            ]
          },
          "metadata": {},
          "output_type": "display_data"
        }
      ],
      "source": [
        "plt.figure(figsize=(10, 8), dpi=100)\n",
        "\n",
        "# plot a treemap to visualize RFM groups (df)\n",
        "squarify.plot(sizes=rfm_groups['GroupSize'], \n",
        "              label=rfm_groups.index, \n",
        "              color = ['mediumturquoise', 'lightseagreen', 'lightskyblue', 'teal', 'aqua', 'cadetblue'],\n",
        "              alpha=.8 )\n",
        "plt.axis('off')\n",
        "\n",
        "#Use suptitle to print bold title\n",
        "plt.suptitle(\"Treemap of RFM clusters\",fontweight='bold')\n",
        "#plt.title('Treemap of RFM clusters')\n",
        "\n",
        "plt.show()"
      ]
    },
    {
      "cell_type": "markdown",
      "metadata": {
        "id": "t_fEsYsWy_92"
      },
      "source": [
        "You can create a treemap with colors mapped on values by using squarify and matplotlib libraries. In the following example, in order to map colors, `matplotlib.colors.Normalize()` is used with `vmin` and `vmax`, minimum values and maximum values respectively. Each value in `my_values` list is normalized and then map to a color.\n",
        "\n",
        "[Link](https://www.python-graph-gallery.com/202-treemap-with-colors-mapped-on-values)"
      ]
    },
    {
      "cell_type": "code",
      "execution_count": null,
      "metadata": {
        "colab": {
          "background_save": true
        },
        "id": "5naDYBBM0GiI",
        "outputId": "d3a1d018-2298-4952-b211-4f508fc3f900"
      },
      "outputs": [
        {
          "data": {
            "text/html": [
              "<div>\n",
              "<style scoped>\n",
              "    .dataframe tbody tr th:only-of-type {\n",
              "        vertical-align: middle;\n",
              "    }\n",
              "\n",
              "    .dataframe tbody tr th {\n",
              "        vertical-align: top;\n",
              "    }\n",
              "\n",
              "    .dataframe thead th {\n",
              "        text-align: right;\n",
              "    }\n",
              "</style>\n",
              "<table border=\"1\" class=\"dataframe\">\n",
              "  <thead>\n",
              "    <tr style=\"text-align: right;\">\n",
              "      <th></th>\n",
              "      <th>GroupSize</th>\n",
              "    </tr>\n",
              "    <tr>\n",
              "      <th>RFM_score</th>\n",
              "      <th></th>\n",
              "    </tr>\n",
              "  </thead>\n",
              "  <tbody>\n",
              "    <tr>\n",
              "      <th>111</th>\n",
              "      <td>9487</td>\n",
              "    </tr>\n",
              "    <tr>\n",
              "      <th>112</th>\n",
              "      <td>9777</td>\n",
              "    </tr>\n",
              "    <tr>\n",
              "      <th>113</th>\n",
              "      <td>10008</td>\n",
              "    </tr>\n",
              "    <tr>\n",
              "      <th>121</th>\n",
              "      <td>244</td>\n",
              "    </tr>\n",
              "    <tr>\n",
              "      <th>122</th>\n",
              "      <td>391</td>\n",
              "    </tr>\n",
              "    <tr>\n",
              "      <th>123</th>\n",
              "      <td>334</td>\n",
              "    </tr>\n",
              "    <tr>\n",
              "      <th>211</th>\n",
              "      <td>10061</td>\n",
              "    </tr>\n",
              "    <tr>\n",
              "      <th>212</th>\n",
              "      <td>9369</td>\n",
              "    </tr>\n",
              "    <tr>\n",
              "      <th>213</th>\n",
              "      <td>9597</td>\n",
              "    </tr>\n",
              "    <tr>\n",
              "      <th>221</th>\n",
              "      <td>224</td>\n",
              "    </tr>\n",
              "    <tr>\n",
              "      <th>222</th>\n",
              "      <td>388</td>\n",
              "    </tr>\n",
              "    <tr>\n",
              "      <th>223</th>\n",
              "      <td>292</td>\n",
              "    </tr>\n",
              "    <tr>\n",
              "      <th>311</th>\n",
              "      <td>9803</td>\n",
              "    </tr>\n",
              "    <tr>\n",
              "      <th>312</th>\n",
              "      <td>9816</td>\n",
              "    </tr>\n",
              "    <tr>\n",
              "      <th>313</th>\n",
              "      <td>9591</td>\n",
              "    </tr>\n",
              "    <tr>\n",
              "      <th>321</th>\n",
              "      <td>241</td>\n",
              "    </tr>\n",
              "    <tr>\n",
              "      <th>322</th>\n",
              "      <td>308</td>\n",
              "    </tr>\n",
              "    <tr>\n",
              "      <th>323</th>\n",
              "      <td>233</td>\n",
              "    </tr>\n",
              "  </tbody>\n",
              "</table>\n",
              "</div>"
            ],
            "text/plain": [
              "           GroupSize\n",
              "RFM_score           \n",
              "111             9487\n",
              "112             9777\n",
              "113            10008\n",
              "121              244\n",
              "122              391\n",
              "123              334\n",
              "211            10061\n",
              "212             9369\n",
              "213             9597\n",
              "221              224\n",
              "222              388\n",
              "223              292\n",
              "311             9803\n",
              "312             9816\n",
              "313             9591\n",
              "321              241\n",
              "322              308\n",
              "323              233"
            ]
          },
          "execution_count": null,
          "metadata": {},
          "output_type": "execute_result"
        }
      ],
      "source": [
        "rfm_groups_all = rfm_df.groupby('RFM_score').agg(GroupSize = ('RFM_score','size'))\n",
        "rfm_groups_all"
      ]
    },
    {
      "cell_type": "code",
      "execution_count": null,
      "metadata": {
        "colab": {
          "background_save": true
        },
        "id": "FcLUEXqOzyP2",
        "outputId": "92a754d5-ac31-4333-8ff5-12546d51b06d"
      },
      "outputs": [
        {
          "data": {
            "image/png": "[encoded data removed]",
            "text/plain": [
              "<Figure size 864x720 with 1 Axes>"
            ]
          },
          "metadata": {},
          "output_type": "display_data"
        }
      ],
      "source": [
        "plt.figure(figsize=(12, 10))\n",
        "\n",
        "#Create a color palette, mapped with dataframe values\n",
        "cmap = matplotlib.cm.Blues\n",
        "mini = min(rfm_groups_all['GroupSize'])\n",
        "maxi = max(rfm_groups_all['GroupSize'])\n",
        "norm = matplotlib.colors.Normalize(vmin = mini, vmax=maxi)\n",
        "colors = [cmap(norm(value)) for value in rfm_groups_all['GroupSize']]\n",
        "\n",
        "# plot a treemap to visualize RFM groups (df)\n",
        "squarify.plot(sizes= rfm_groups_all['GroupSize'],  \n",
        "              color=colors,\n",
        "              label=rfm_groups_all.index,\n",
        "              alpha=.8 )\n",
        "plt.axis('off')\n",
        "\n",
        "plt.title('Treemap of RFM clusters')\n",
        "\n",
        "plt.show()"
      ]
    },
    {
      "cell_type": "markdown",
      "metadata": {
        "id": "8GAhy5-C1Tfy"
      },
      "source": [
        "Treemap with colors based on values are not rely relevant with few clusters of the same size. "
      ]
    },
    {
      "cell_type": "markdown",
      "metadata": {
        "id": "t9vfxyU5kh5q"
      },
      "source": [
        "#Automating Clustering with ML"
      ]
    },
    {
      "cell_type": "markdown",
      "metadata": {
        "id": "1cbXp3jjkShR"
      },
      "source": [
        "###Pre-processing"
      ]
    },
    {
      "cell_type": "markdown",
      "metadata": {
        "id": "CJPnjpCWnWoY"
      },
      "source": [
        "#### Select features"
      ]
    },
    {
      "cell_type": "code",
      "execution_count": null,
      "metadata": {
        "colab": {
          "background_save": true
        },
        "id": "qwE3c71K8Y4c"
      },
      "outputs": [],
      "source": [
        "#clone data\n",
        "data = rfm_df"
      ]
    },
    {
      "cell_type": "code",
      "execution_count": null,
      "metadata": {
        "colab": {
          "background_save": true
        },
        "id": "mNzdK-DIJkJh",
        "outputId": "8ceeee67-b939-4255-9542-d07dca783464"
      },
      "outputs": [
        {
          "data": {
            "text/plain": [
              "90164"
            ]
          },
          "execution_count": null,
          "metadata": {},
          "output_type": "execute_result"
        }
      ],
      "source": [
        "data.shape[0]"
      ]
    },
    {
      "cell_type": "markdown",
      "metadata": {
        "id": "aedK_7gN-CrR"
      },
      "source": [
        "Let's drop scores that are not relevant for our clustering : "
      ]
    },
    {
      "cell_type": "code",
      "execution_count": null,
      "metadata": {
        "colab": {
          "background_save": true
        },
        "id": "gz42P-HW9rTc"
      },
      "outputs": [],
      "source": [
        "data.drop(['order_purchase_timestamp', \n",
        "           'F', \n",
        "           'R_score', \n",
        "           'M_score', \n",
        "           'F_score', \n",
        "           'RFM_score', \n",
        "           'segments'], axis=1, inplace=True)"
      ]
    },
    {
      "cell_type": "markdown",
      "metadata": {
        "id": "OrgeEoG9AJTV"
      },
      "source": [
        "Merge tables to get the relevant features : \n",
        "\n",
        "* **Actual Lead Time (days)** : Number of days taken to deliver a product to the customer, from the moment an order has been placed in the system. \n",
        "* **Monetary** : from KPI Calculation footed above ; \n",
        "* **Recency** : from KPI Calculation footed above ; \n",
        "* **review_score** : from field `review_score` in `olist_order_reviews_dataset.csv` ; \n",
        "* **Number of products bought** : from field `order_item_id` in `olist_order_items_dataset.csv`"
      ]
    },
    {
      "cell_type": "markdown",
      "metadata": {
        "id": "jjDc_zTljZ_U"
      },
      "source": [
        "About how K-means works : https://towardsdatascience.com/how-does-k-means-clustering-in-machine-learning-work-fdaaaf5acfa0\n"
      ]
    },
    {
      "cell_type": "markdown",
      "metadata": {
        "id": "fTHwAri8j2MQ"
      },
      "source": [
        "####Grouping Data"
      ]
    },
    {
      "cell_type": "code",
      "execution_count": null,
      "metadata": {
        "colab": {
          "background_save": true
        },
        "id": "PamRQuOPC5Hw"
      },
      "outputs": [],
      "source": [
        "#Merge Orders dataset and review dataset (to obtain review_score)\n",
        "orders_raw_reviews = orders_raw.merge(reviews_raw, on='order_id')"
      ]
    },
    {
      "cell_type": "code",
      "execution_count": null,
      "metadata": {
        "colab": {
          "background_save": true
        },
        "id": "ful5eRADhxw_",
        "outputId": "67e99221-9ba3-4e71-d3b3-d6374478b4f8"
      },
      "outputs": [
        {
          "data": {
            "text/html": [
              "<div>\n",
              "<style scoped>\n",
              "    .dataframe tbody tr th:only-of-type {\n",
              "        vertical-align: middle;\n",
              "    }\n",
              "\n",
              "    .dataframe tbody tr th {\n",
              "        vertical-align: top;\n",
              "    }\n",
              "\n",
              "    .dataframe thead th {\n",
              "        text-align: right;\n",
              "    }\n",
              "</style>\n",
              "<table border=\"1\" class=\"dataframe\">\n",
              "  <thead>\n",
              "    <tr style=\"text-align: right;\">\n",
              "      <th></th>\n",
              "      <th>order_id</th>\n",
              "      <th>customer_id</th>\n",
              "      <th>order_status</th>\n",
              "      <th>order_purchase_timestamp</th>\n",
              "      <th>order_approved_at</th>\n",
              "      <th>order_delivered_carrier_date</th>\n",
              "      <th>order_delivered_customer_date</th>\n",
              "      <th>order_estimated_delivery_date</th>\n",
              "      <th>order_purchase_year</th>\n",
              "      <th>order_purchase_month</th>\n",
              "      <th>order_purchase_month_name</th>\n",
              "      <th>order_purchase_year_month</th>\n",
              "      <th>order_purchase_date</th>\n",
              "      <th>order_purchase_day</th>\n",
              "      <th>order_purchase_day_of_week</th>\n",
              "      <th>order_purchase_day_of_week_name</th>\n",
              "      <th>order_purchase_hours</th>\n",
              "      <th>order_approved_date</th>\n",
              "      <th>order_delivery_carrier_date</th>\n",
              "      <th>order_delivery_customer_estimated</th>\n",
              "      <th>order_delivery_customer_date</th>\n",
              "      <th>placing_daylag</th>\n",
              "      <th>shipping_daylag</th>\n",
              "      <th>estimation_daylag</th>\n",
              "      <th>carrier_daylag</th>\n",
              "      <th>delivery_timing</th>\n",
              "      <th>review_id</th>\n",
              "      <th>review_score</th>\n",
              "      <th>review_comment_title</th>\n",
              "      <th>review_comment_message</th>\n",
              "      <th>review_creation_date</th>\n",
              "      <th>review_answer_timestamp</th>\n",
              "      <th>order_item_id</th>\n",
              "      <th>product_id</th>\n",
              "      <th>seller_id</th>\n",
              "      <th>shipping_limit_date</th>\n",
              "      <th>price</th>\n",
              "      <th>freight_value</th>\n",
              "    </tr>\n",
              "  </thead>\n",
              "  <tbody>\n",
              "    <tr>\n",
              "      <th>0</th>\n",
              "      <td>e481f51cbdc54678b7cc49136f2d6af7</td>\n",
              "      <td>9ef432eb6251297304e76186b10a928d</td>\n",
              "      <td>delivered</td>\n",
              "      <td>2017-10-02 10:56:33</td>\n",
              "      <td>2017-10-02 11:07:15</td>\n",
              "      <td>2017-10-04 19:55:00</td>\n",
              "      <td>2017-10-10 21:25:13</td>\n",
              "      <td>2017-10-18</td>\n",
              "      <td>2017</td>\n",
              "      <td>10</td>\n",
              "      <td>Oct</td>\n",
              "      <td>201710</td>\n",
              "      <td>20171002</td>\n",
              "      <td>2</td>\n",
              "      <td>0</td>\n",
              "      <td>Mon</td>\n",
              "      <td>Morning</td>\n",
              "      <td>20171002</td>\n",
              "      <td>20171004</td>\n",
              "      <td>20171018</td>\n",
              "      <td>20171010</td>\n",
              "      <td>0</td>\n",
              "      <td>2</td>\n",
              "      <td>-8</td>\n",
              "      <td>6</td>\n",
              "      <td>8</td>\n",
              "      <td>a54f0611adc9ed256b57ede6b6eb5114</td>\n",
              "      <td>4</td>\n",
              "      <td>NaN</td>\n",
              "      <td>Não testei o produto ainda, mas ele veio corre...</td>\n",
              "      <td>2017-10-11</td>\n",
              "      <td>2017-10-12 03:43:48</td>\n",
              "      <td>1.0</td>\n",
              "      <td>87285b34884572647811a353c7ac498a</td>\n",
              "      <td>3504c0cb71d7fa48d967e0e4c94d59d9</td>\n",
              "      <td>2017-10-06 11:07:15</td>\n",
              "      <td>29.99</td>\n",
              "      <td>8.72</td>\n",
              "    </tr>\n",
              "    <tr>\n",
              "      <th>1</th>\n",
              "      <td>53cdb2fc8bc7dce0b6741e2150273451</td>\n",
              "      <td>b0830fb4747a6c6d20dea0b8c802d7ef</td>\n",
              "      <td>delivered</td>\n",
              "      <td>2018-07-24 20:41:37</td>\n",
              "      <td>2018-07-26 03:24:27</td>\n",
              "      <td>2018-07-26 14:31:00</td>\n",
              "      <td>2018-08-07 15:27:45</td>\n",
              "      <td>2018-08-13</td>\n",
              "      <td>2018</td>\n",
              "      <td>7</td>\n",
              "      <td>Jul</td>\n",
              "      <td>201807</td>\n",
              "      <td>20180724</td>\n",
              "      <td>24</td>\n",
              "      <td>1</td>\n",
              "      <td>Tue</td>\n",
              "      <td>Evening</td>\n",
              "      <td>20180726</td>\n",
              "      <td>20180726</td>\n",
              "      <td>20180813</td>\n",
              "      <td>20180807</td>\n",
              "      <td>2</td>\n",
              "      <td>0</td>\n",
              "      <td>-6</td>\n",
              "      <td>81</td>\n",
              "      <td>13</td>\n",
              "      <td>8d5266042046a06655c8db133d120ba5</td>\n",
              "      <td>4</td>\n",
              "      <td>Muito boa a loja</td>\n",
              "      <td>Muito bom o produto.</td>\n",
              "      <td>2018-08-08</td>\n",
              "      <td>2018-08-08 18:37:50</td>\n",
              "      <td>1.0</td>\n",
              "      <td>595fac2a385ac33a80bd5114aec74eb8</td>\n",
              "      <td>289cdb325fb7e7f891c38608bf9e0962</td>\n",
              "      <td>2018-07-30 03:24:27</td>\n",
              "      <td>118.70</td>\n",
              "      <td>22.76</td>\n",
              "    </tr>\n",
              "    <tr>\n",
              "      <th>2</th>\n",
              "      <td>47770eb9100c2d0c44946d9cf07ec65d</td>\n",
              "      <td>41ce2a54c0b03bf3443c3d931a367089</td>\n",
              "      <td>delivered</td>\n",
              "      <td>2018-08-08 08:38:49</td>\n",
              "      <td>2018-08-08 08:55:23</td>\n",
              "      <td>2018-08-08 13:50:00</td>\n",
              "      <td>2018-08-17 18:06:29</td>\n",
              "      <td>2018-09-04</td>\n",
              "      <td>2018</td>\n",
              "      <td>8</td>\n",
              "      <td>Aug</td>\n",
              "      <td>201808</td>\n",
              "      <td>20180808</td>\n",
              "      <td>8</td>\n",
              "      <td>2</td>\n",
              "      <td>Wed</td>\n",
              "      <td>Morning</td>\n",
              "      <td>20180808</td>\n",
              "      <td>20180808</td>\n",
              "      <td>20180904</td>\n",
              "      <td>20180817</td>\n",
              "      <td>0</td>\n",
              "      <td>0</td>\n",
              "      <td>-87</td>\n",
              "      <td>9</td>\n",
              "      <td>9</td>\n",
              "      <td>e73b67b67587f7644d5bd1a52deb1b01</td>\n",
              "      <td>5</td>\n",
              "      <td>NaN</td>\n",
              "      <td>NaN</td>\n",
              "      <td>2018-08-18</td>\n",
              "      <td>2018-08-22 19:07:58</td>\n",
              "      <td>1.0</td>\n",
              "      <td>aa4383b373c6aca5d8797843e5594415</td>\n",
              "      <td>4869f7a5dfa277a7dca6462dcf3b52b2</td>\n",
              "      <td>2018-08-13 08:55:23</td>\n",
              "      <td>159.90</td>\n",
              "      <td>19.22</td>\n",
              "    </tr>\n",
              "  </tbody>\n",
              "</table>\n",
              "</div>"
            ],
            "text/plain": [
              "                           order_id  ... freight_value\n",
              "0  e481f51cbdc54678b7cc49136f2d6af7  ...          8.72\n",
              "1  53cdb2fc8bc7dce0b6741e2150273451  ...         22.76\n",
              "2  47770eb9100c2d0c44946d9cf07ec65d  ...         19.22\n",
              "\n",
              "[3 rows x 38 columns]"
            ]
          },
          "execution_count": null,
          "metadata": {},
          "output_type": "execute_result"
        }
      ],
      "source": [
        "#Merge the obtained dataset with the order items dataset (to obtain items_id per order)\n",
        "\n",
        "orders_raw_reviews_items = orders_raw_reviews.merge(order_items_raw, on='order_id')\n",
        "orders_raw_reviews_items.head(3)"
      ]
    },
    {
      "cell_type": "code",
      "execution_count": null,
      "metadata": {
        "colab": {
          "background_save": true
        },
        "id": "ywlTa0xlk7qx",
        "outputId": "23fa8583-3c7d-414c-9efe-3bfeaf6e3d89"
      },
      "outputs": [
        {
          "data": {
            "text/html": [
              "<div>\n",
              "<style scoped>\n",
              "    .dataframe tbody tr th:only-of-type {\n",
              "        vertical-align: middle;\n",
              "    }\n",
              "\n",
              "    .dataframe tbody tr th {\n",
              "        vertical-align: top;\n",
              "    }\n",
              "\n",
              "    .dataframe thead th {\n",
              "        text-align: right;\n",
              "    }\n",
              "</style>\n",
              "<table border=\"1\" class=\"dataframe\">\n",
              "  <thead>\n",
              "    <tr style=\"text-align: right;\">\n",
              "      <th></th>\n",
              "      <th>delivery_timing</th>\n",
              "      <th>review_score</th>\n",
              "      <th>order_item_id</th>\n",
              "    </tr>\n",
              "    <tr>\n",
              "      <th>customer_id</th>\n",
              "      <th></th>\n",
              "      <th></th>\n",
              "      <th></th>\n",
              "    </tr>\n",
              "  </thead>\n",
              "  <tbody>\n",
              "    <tr>\n",
              "      <th>00012a2ce6f8dcda20d059ce98491703</th>\n",
              "      <td>13</td>\n",
              "      <td>1.0</td>\n",
              "      <td>1.0</td>\n",
              "    </tr>\n",
              "    <tr>\n",
              "      <th>000161a058600d5901f007fab4c27140</th>\n",
              "      <td>9</td>\n",
              "      <td>4.0</td>\n",
              "      <td>1.0</td>\n",
              "    </tr>\n",
              "    <tr>\n",
              "      <th>0001fd6190edaaf884bcaf3d49edf079</th>\n",
              "      <td>5</td>\n",
              "      <td>5.0</td>\n",
              "      <td>1.0</td>\n",
              "    </tr>\n",
              "    <tr>\n",
              "      <th>0002414f95344307404f0ace7a26f1d5</th>\n",
              "      <td>28</td>\n",
              "      <td>5.0</td>\n",
              "      <td>1.0</td>\n",
              "    </tr>\n",
              "    <tr>\n",
              "      <th>000379cdec625522490c315e70c7a9fb</th>\n",
              "      <td>11</td>\n",
              "      <td>4.0</td>\n",
              "      <td>1.0</td>\n",
              "    </tr>\n",
              "    <tr>\n",
              "      <th>...</th>\n",
              "      <td>...</td>\n",
              "      <td>...</td>\n",
              "      <td>...</td>\n",
              "    </tr>\n",
              "    <tr>\n",
              "      <th>fffcb937e9dd47a13f05ecb8290f4d3e</th>\n",
              "      <td>4</td>\n",
              "      <td>5.0</td>\n",
              "      <td>1.0</td>\n",
              "    </tr>\n",
              "    <tr>\n",
              "      <th>fffecc9f79fd8c764f843e9951b11341</th>\n",
              "      <td>12</td>\n",
              "      <td>3.0</td>\n",
              "      <td>1.0</td>\n",
              "    </tr>\n",
              "    <tr>\n",
              "      <th>fffeda5b6d849fbd39689bb92087f431</th>\n",
              "      <td>17</td>\n",
              "      <td>4.0</td>\n",
              "      <td>1.0</td>\n",
              "    </tr>\n",
              "    <tr>\n",
              "      <th>ffff42319e9b2d713724ae527742af25</th>\n",
              "      <td>5</td>\n",
              "      <td>5.0</td>\n",
              "      <td>1.0</td>\n",
              "    </tr>\n",
              "    <tr>\n",
              "      <th>ffffa3172527f765de70084a7e53aae8</th>\n",
              "      <td>12</td>\n",
              "      <td>5.0</td>\n",
              "      <td>3.0</td>\n",
              "    </tr>\n",
              "  </tbody>\n",
              "</table>\n",
              "<p>93125 rows × 3 columns</p>\n",
              "</div>"
            ],
            "text/plain": [
              "                                  delivery_timing  review_score  order_item_id\n",
              "customer_id                                                                   \n",
              "00012a2ce6f8dcda20d059ce98491703               13           1.0            1.0\n",
              "000161a058600d5901f007fab4c27140                9           4.0            1.0\n",
              "0001fd6190edaaf884bcaf3d49edf079                5           5.0            1.0\n",
              "0002414f95344307404f0ace7a26f1d5               28           5.0            1.0\n",
              "000379cdec625522490c315e70c7a9fb               11           4.0            1.0\n",
              "...                                           ...           ...            ...\n",
              "fffcb937e9dd47a13f05ecb8290f4d3e                4           5.0            1.0\n",
              "fffecc9f79fd8c764f843e9951b11341               12           3.0            1.0\n",
              "fffeda5b6d849fbd39689bb92087f431               17           4.0            1.0\n",
              "ffff42319e9b2d713724ae527742af25                5           5.0            1.0\n",
              "ffffa3172527f765de70084a7e53aae8               12           5.0            3.0\n",
              "\n",
              "[93125 rows x 3 columns]"
            ]
          },
          "execution_count": null,
          "metadata": {},
          "output_type": "execute_result"
        }
      ],
      "source": [
        "#Group by customer id to obtain the aggregated features\n",
        "#Using agg functions enables to use several group by methods (https://stackoverflow.com/questions/14529838/apply-multiple-functions-to-multiple-groupby-columns)\n",
        "\n",
        "orders_raw_reviews_items = orders_raw_reviews_items.groupby('customer_id').agg({'delivery_timing': 'mean', \n",
        "                                                                                'review_score':'mean', \n",
        "                                                                                'order_item_id':'sum'})\n",
        "orders_raw_reviews_items"
      ]
    },
    {
      "cell_type": "code",
      "execution_count": null,
      "metadata": {
        "colab": {
          "background_save": true
        },
        "id": "xoO9neqREvot"
      },
      "outputs": [],
      "source": [
        "#Merge the obtained df with customer raw to obtain customer_unique_id\n",
        "orders_reviews_items_unique = orders_raw_reviews_items.merge(customers_raw, on='customer_id')"
      ]
    },
    {
      "cell_type": "code",
      "execution_count": null,
      "metadata": {
        "colab": {
          "background_save": true
        },
        "id": "2Ok3erlrGkS9",
        "outputId": "f183f528-2791-48a2-cbdb-7850624bdb80"
      },
      "outputs": [
        {
          "data": {
            "text/html": [
              "<div>\n",
              "<style scoped>\n",
              "    .dataframe tbody tr th:only-of-type {\n",
              "        vertical-align: middle;\n",
              "    }\n",
              "\n",
              "    .dataframe tbody tr th {\n",
              "        vertical-align: top;\n",
              "    }\n",
              "\n",
              "    .dataframe thead th {\n",
              "        text-align: right;\n",
              "    }\n",
              "</style>\n",
              "<table border=\"1\" class=\"dataframe\">\n",
              "  <thead>\n",
              "    <tr style=\"text-align: right;\">\n",
              "      <th></th>\n",
              "      <th>customer_id</th>\n",
              "      <th>delivery_timing</th>\n",
              "      <th>review_score</th>\n",
              "      <th>order_item_id</th>\n",
              "      <th>customer_unique_id</th>\n",
              "      <th>customer_zip_code_prefix</th>\n",
              "      <th>customer_city</th>\n",
              "      <th>customer_state</th>\n",
              "    </tr>\n",
              "  </thead>\n",
              "  <tbody>\n",
              "    <tr>\n",
              "      <th>0</th>\n",
              "      <td>00012a2ce6f8dcda20d059ce98491703</td>\n",
              "      <td>13</td>\n",
              "      <td>1.0</td>\n",
              "      <td>1.0</td>\n",
              "      <td>248ffe10d632bebe4f7267f1f44844c9</td>\n",
              "      <td>06273</td>\n",
              "      <td>osasco</td>\n",
              "      <td>SP</td>\n",
              "    </tr>\n",
              "    <tr>\n",
              "      <th>1</th>\n",
              "      <td>000161a058600d5901f007fab4c27140</td>\n",
              "      <td>9</td>\n",
              "      <td>4.0</td>\n",
              "      <td>1.0</td>\n",
              "      <td>b0015e09bb4b6e47c52844fab5fb6638</td>\n",
              "      <td>35550</td>\n",
              "      <td>itapecerica</td>\n",
              "      <td>MG</td>\n",
              "    </tr>\n",
              "    <tr>\n",
              "      <th>2</th>\n",
              "      <td>0001fd6190edaaf884bcaf3d49edf079</td>\n",
              "      <td>5</td>\n",
              "      <td>5.0</td>\n",
              "      <td>1.0</td>\n",
              "      <td>94b11d37cd61cb2994a194d11f89682b</td>\n",
              "      <td>29830</td>\n",
              "      <td>nova venecia</td>\n",
              "      <td>ES</td>\n",
              "    </tr>\n",
              "    <tr>\n",
              "      <th>3</th>\n",
              "      <td>0002414f95344307404f0ace7a26f1d5</td>\n",
              "      <td>28</td>\n",
              "      <td>5.0</td>\n",
              "      <td>1.0</td>\n",
              "      <td>4893ad4ea28b2c5b3ddf4e82e79db9e6</td>\n",
              "      <td>39664</td>\n",
              "      <td>mendonca</td>\n",
              "      <td>MG</td>\n",
              "    </tr>\n",
              "    <tr>\n",
              "      <th>4</th>\n",
              "      <td>000379cdec625522490c315e70c7a9fb</td>\n",
              "      <td>11</td>\n",
              "      <td>4.0</td>\n",
              "      <td>1.0</td>\n",
              "      <td>0b83f73b19c2019e182fd552c048a22c</td>\n",
              "      <td>04841</td>\n",
              "      <td>sao paulo</td>\n",
              "      <td>SP</td>\n",
              "    </tr>\n",
              "  </tbody>\n",
              "</table>\n",
              "</div>"
            ],
            "text/plain": [
              "                        customer_id  ...  customer_state\n",
              "0  00012a2ce6f8dcda20d059ce98491703  ...              SP\n",
              "1  000161a058600d5901f007fab4c27140  ...              MG\n",
              "2  0001fd6190edaaf884bcaf3d49edf079  ...              ES\n",
              "3  0002414f95344307404f0ace7a26f1d5  ...              MG\n",
              "4  000379cdec625522490c315e70c7a9fb  ...              SP\n",
              "\n",
              "[5 rows x 8 columns]"
            ]
          },
          "execution_count": null,
          "metadata": {},
          "output_type": "execute_result"
        }
      ],
      "source": [
        "orders_reviews_items_unique.head()"
      ]
    },
    {
      "cell_type": "code",
      "execution_count": null,
      "metadata": {
        "colab": {
          "background_save": true
        },
        "id": "iOPU5audBTr-",
        "outputId": "a540a699-e6f8-482f-f3ff-b2cb556a802e"
      },
      "outputs": [
        {
          "data": {
            "text/html": [
              "<div>\n",
              "<style scoped>\n",
              "    .dataframe tbody tr th:only-of-type {\n",
              "        vertical-align: middle;\n",
              "    }\n",
              "\n",
              "    .dataframe tbody tr th {\n",
              "        vertical-align: top;\n",
              "    }\n",
              "\n",
              "    .dataframe thead th {\n",
              "        text-align: right;\n",
              "    }\n",
              "</style>\n",
              "<table border=\"1\" class=\"dataframe\">\n",
              "  <thead>\n",
              "    <tr style=\"text-align: right;\">\n",
              "      <th></th>\n",
              "      <th>recency</th>\n",
              "      <th>monetary</th>\n",
              "      <th>delivery_timing</th>\n",
              "      <th>review_score</th>\n",
              "      <th>order_item_id</th>\n",
              "    </tr>\n",
              "    <tr>\n",
              "      <th>customer_unique_id</th>\n",
              "      <th></th>\n",
              "      <th></th>\n",
              "      <th></th>\n",
              "      <th></th>\n",
              "      <th></th>\n",
              "    </tr>\n",
              "  </thead>\n",
              "  <tbody>\n",
              "    <tr>\n",
              "      <th>0000366f3b9a7992bf8c76cfdf3221e2</th>\n",
              "      <td>112</td>\n",
              "      <td>141.90</td>\n",
              "      <td>6</td>\n",
              "      <td>5.0</td>\n",
              "      <td>1.0</td>\n",
              "    </tr>\n",
              "    <tr>\n",
              "      <th>0000b849f77a49e4a4ce2b2a4ca5be3f</th>\n",
              "      <td>115</td>\n",
              "      <td>27.19</td>\n",
              "      <td>3</td>\n",
              "      <td>4.0</td>\n",
              "      <td>1.0</td>\n",
              "    </tr>\n",
              "    <tr>\n",
              "      <th>0000f46a3911fa3c0805444483337064</th>\n",
              "      <td>537</td>\n",
              "      <td>86.22</td>\n",
              "      <td>25</td>\n",
              "      <td>3.0</td>\n",
              "      <td>1.0</td>\n",
              "    </tr>\n",
              "  </tbody>\n",
              "</table>\n",
              "</div>"
            ],
            "text/plain": [
              "                                  recency  ...  order_item_id\n",
              "customer_unique_id                         ...               \n",
              "0000366f3b9a7992bf8c76cfdf3221e2      112  ...            1.0\n",
              "0000b849f77a49e4a4ce2b2a4ca5be3f      115  ...            1.0\n",
              "0000f46a3911fa3c0805444483337064      537  ...            1.0\n",
              "\n",
              "[3 rows x 5 columns]"
            ]
          },
          "execution_count": null,
          "metadata": {},
          "output_type": "execute_result"
        }
      ],
      "source": [
        "#Obtain final df with features expressed by customer_unique_id\n",
        "\n",
        "#Merge data\n",
        "data = data.merge(orders_reviews_items_unique, on='customer_unique_id', left_index=False, right_index=True)\n",
        "\n",
        "#Select relevant features column\n",
        "data = data[['R', 'M', 'delivery_timing', 'review_score', 'order_item_id']]\n",
        "\n",
        "#Rename Columns\n",
        "data.rename(columns={'R': 'recency', 'M': 'monetary'}, inplace=True)\n",
        "\n",
        "data.head(3)"
      ]
    },
    {
      "cell_type": "code",
      "execution_count": null,
      "metadata": {
        "colab": {
          "background_save": true
        },
        "id": "9knAPvytK6in"
      },
      "outputs": [],
      "source": [
        "data = data.groupby('customer_unique_id').agg({'delivery_timing': 'mean', \n",
        "                                               'review_score':'mean', \n",
        "                                               'order_item_id':'sum',\n",
        "                                               'recency' : 'mean',\n",
        "                                               'monetary' : 'mean'\n",
        "                                               })"
      ]
    },
    {
      "cell_type": "code",
      "execution_count": null,
      "metadata": {
        "colab": {
          "background_save": true
        },
        "id": "HtNNgJh6K7gm",
        "outputId": "0a833cc2-ce36-4fe8-f1e4-edcf6d73fe73"
      },
      "outputs": [
        {
          "data": {
            "text/plain": [
              "(90164, 5)"
            ]
          },
          "execution_count": null,
          "metadata": {},
          "output_type": "execute_result"
        }
      ],
      "source": [
        "data.shape"
      ]
    },
    {
      "cell_type": "markdown",
      "metadata": {
        "id": "gYRA4ifPj5Ko"
      },
      "source": [
        "Thanks to the previous we now have a grouped dataset. "
      ]
    },
    {
      "cell_type": "markdown",
      "metadata": {
        "id": "Ie8XAd9JjxQg"
      },
      "source": [
        "#### Removing Outliers"
      ]
    },
    {
      "cell_type": "code",
      "execution_count": null,
      "metadata": {
        "colab": {
          "background_save": true
        },
        "id": "AfsDvm6-Lecl"
      },
      "outputs": [],
      "source": [
        "# # #check for outliers\n",
        "# for col in data.columns:\n",
        "#   plt.figure()\n",
        "#   sns.boxplot(data[col])"
      ]
    },
    {
      "cell_type": "markdown",
      "metadata": {
        "id": "qYjQiGCXN61U"
      },
      "source": [
        "We first tried to remove outiers applying Z score rule (> 3). But as variables are not gaussians (cf [EDA Notebook](https://colab.research.google.com/drive/11PtfRXOcoCF5OZfBv4Q1LcKO75U8z2Rv#scrollTo=Ly50d3vabFUf)) we will rather us quantile selection method. "
      ]
    },
    {
      "cell_type": "code",
      "execution_count": null,
      "metadata": {
        "colab": {
          "background_save": true
        },
        "id": "FdMnhtJzMMQx"
      },
      "outputs": [],
      "source": [
        "# # #remove outliers\n",
        "\n",
        "# z = data.quantile(0.9)\n",
        "\n",
        "\n",
        "\n",
        "# for col in data.columns:\n",
        "#   # z = data.quantile(0,9)\n",
        "#   # z = np.abs(stats.zscore(data[col]))\n",
        "#   data_filtered = data[(z < 3)]\n",
        "#   data_outliers = data[(z > 3)]\n",
        "#   plt.figure()\n",
        "#   sns.boxplot(data_filtered[col])\n",
        "#   print(f'(Percentage outliers {col} : {data_outliers.shape[0] / data.shape[0] * 100}')\n",
        "#   data = data_filtered"
      ]
    },
    {
      "cell_type": "code",
      "execution_count": null,
      "metadata": {
        "colab": {
          "background_save": true
        },
        "id": "jIsSNf8UN2IF",
        "outputId": "1eec7c33-939d-4bce-e1c8-6d3b5891ac94"
      },
      "outputs": [
        {
          "data": {
            "text/plain": [
              "(90164, 5)"
            ]
          },
          "execution_count": null,
          "metadata": {},
          "output_type": "execute_result"
        }
      ],
      "source": [
        "data.shape"
      ]
    },
    {
      "cell_type": "code",
      "execution_count": null,
      "metadata": {
        "colab": {
          "background_save": true
        },
        "id": "x1ClA9LZjjdw",
        "outputId": "ab3cc57b-00a1-4a7d-a057-b8cfcde75eb7"
      },
      "outputs": [
        {
          "data": {
            "text/html": [
              "<div>\n",
              "<style scoped>\n",
              "    .dataframe tbody tr th:only-of-type {\n",
              "        vertical-align: middle;\n",
              "    }\n",
              "\n",
              "    .dataframe tbody tr th {\n",
              "        vertical-align: top;\n",
              "    }\n",
              "\n",
              "    .dataframe thead th {\n",
              "        text-align: right;\n",
              "    }\n",
              "</style>\n",
              "<table border=\"1\" class=\"dataframe\">\n",
              "  <thead>\n",
              "    <tr style=\"text-align: right;\">\n",
              "      <th></th>\n",
              "      <th>delivery_timing</th>\n",
              "      <th>review_score</th>\n",
              "      <th>order_item_id</th>\n",
              "      <th>recency</th>\n",
              "      <th>monetary</th>\n",
              "    </tr>\n",
              "  </thead>\n",
              "  <tbody>\n",
              "    <tr>\n",
              "      <th>count</th>\n",
              "      <td>89550.000000</td>\n",
              "      <td>90164.000000</td>\n",
              "      <td>89674.000000</td>\n",
              "      <td>89307.000000</td>\n",
              "      <td>89262.000000</td>\n",
              "    </tr>\n",
              "    <tr>\n",
              "      <th>mean</th>\n",
              "      <td>10.820129</td>\n",
              "      <td>4.211793</td>\n",
              "      <td>1.308428</td>\n",
              "      <td>233.070185</td>\n",
              "      <td>143.879043</td>\n",
              "    </tr>\n",
              "    <tr>\n",
              "      <th>std</th>\n",
              "      <td>6.403955</td>\n",
              "      <td>1.223482</td>\n",
              "      <td>1.034286</td>\n",
              "      <td>148.847329</td>\n",
              "      <td>136.000904</td>\n",
              "    </tr>\n",
              "    <tr>\n",
              "      <th>min</th>\n",
              "      <td>0.000000</td>\n",
              "      <td>1.000000</td>\n",
              "      <td>1.000000</td>\n",
              "      <td>0.000000</td>\n",
              "      <td>9.590000</td>\n",
              "    </tr>\n",
              "    <tr>\n",
              "      <th>25%</th>\n",
              "      <td>6.000000</td>\n",
              "      <td>4.000000</td>\n",
              "      <td>1.000000</td>\n",
              "      <td>112.000000</td>\n",
              "      <td>61.690000</td>\n",
              "    </tr>\n",
              "    <tr>\n",
              "      <th>50%</th>\n",
              "      <td>9.000000</td>\n",
              "      <td>5.000000</td>\n",
              "      <td>1.000000</td>\n",
              "      <td>217.000000</td>\n",
              "      <td>103.860000</td>\n",
              "    </tr>\n",
              "    <tr>\n",
              "      <th>75%</th>\n",
              "      <td>14.000000</td>\n",
              "      <td>5.000000</td>\n",
              "      <td>1.000000</td>\n",
              "      <td>343.000000</td>\n",
              "      <td>172.520000</td>\n",
              "    </tr>\n",
              "    <tr>\n",
              "      <th>max</th>\n",
              "      <td>31.000000</td>\n",
              "      <td>5.000000</td>\n",
              "      <td>10.000000</td>\n",
              "      <td>571.000000</td>\n",
              "      <td>1046.560000</td>\n",
              "    </tr>\n",
              "  </tbody>\n",
              "</table>\n",
              "</div>"
            ],
            "text/plain": [
              "       delivery_timing  review_score  order_item_id       recency      monetary\n",
              "count     89550.000000  90164.000000   89674.000000  89307.000000  89262.000000\n",
              "mean         10.820129      4.211793       1.308428    233.070185    143.879043\n",
              "std           6.403955      1.223482       1.034286    148.847329    136.000904\n",
              "min           0.000000      1.000000       1.000000      0.000000      9.590000\n",
              "25%           6.000000      4.000000       1.000000    112.000000     61.690000\n",
              "50%           9.000000      5.000000       1.000000    217.000000    103.860000\n",
              "75%          14.000000      5.000000       1.000000    343.000000    172.520000\n",
              "max          31.000000      5.000000      10.000000    571.000000   1046.560000"
            ]
          },
          "execution_count": null,
          "metadata": {},
          "output_type": "execute_result"
        }
      ],
      "source": [
        "#Better way to treat outliers\n",
        "\n",
        "z = data.quantile(0.99) #return a series\n",
        "\n",
        "#boolean to assess wether the value per column is below or equal to 99%\n",
        "filter = data <= z \n",
        "\n",
        "#Filter using a boolean mask and check the results\n",
        "data[filter].describe()"
      ]
    },
    {
      "cell_type": "code",
      "execution_count": null,
      "metadata": {
        "colab": {
          "background_save": true
        },
        "id": "QMH8dHT_qrOe"
      },
      "outputs": [],
      "source": [
        "data = data[filter]"
      ]
    },
    {
      "cell_type": "code",
      "execution_count": null,
      "metadata": {
        "colab": {
          "background_save": true
        },
        "id": "WxpcwGE2kaWW",
        "outputId": "23b24a26-3cef-4b0f-bde5-d88a38480196"
      },
      "outputs": [
        {
          "data": {
            "text/html": [
              "<div>\n",
              "<style scoped>\n",
              "    .dataframe tbody tr th:only-of-type {\n",
              "        vertical-align: middle;\n",
              "    }\n",
              "\n",
              "    .dataframe tbody tr th {\n",
              "        vertical-align: top;\n",
              "    }\n",
              "\n",
              "    .dataframe thead th {\n",
              "        text-align: right;\n",
              "    }\n",
              "</style>\n",
              "<table border=\"1\" class=\"dataframe\">\n",
              "  <thead>\n",
              "    <tr style=\"text-align: right;\">\n",
              "      <th></th>\n",
              "      <th>delivery_timing</th>\n",
              "      <th>review_score</th>\n",
              "      <th>order_item_id</th>\n",
              "      <th>recency</th>\n",
              "      <th>monetary</th>\n",
              "    </tr>\n",
              "  </thead>\n",
              "  <tbody>\n",
              "    <tr>\n",
              "      <th>count</th>\n",
              "      <td>89550.000000</td>\n",
              "      <td>90164.000000</td>\n",
              "      <td>89674.000000</td>\n",
              "      <td>89307.000000</td>\n",
              "      <td>89262.000000</td>\n",
              "    </tr>\n",
              "    <tr>\n",
              "      <th>mean</th>\n",
              "      <td>10.820129</td>\n",
              "      <td>4.211793</td>\n",
              "      <td>1.308428</td>\n",
              "      <td>233.070185</td>\n",
              "      <td>143.879043</td>\n",
              "    </tr>\n",
              "    <tr>\n",
              "      <th>std</th>\n",
              "      <td>6.403955</td>\n",
              "      <td>1.223482</td>\n",
              "      <td>1.034286</td>\n",
              "      <td>148.847329</td>\n",
              "      <td>136.000904</td>\n",
              "    </tr>\n",
              "    <tr>\n",
              "      <th>min</th>\n",
              "      <td>0.000000</td>\n",
              "      <td>1.000000</td>\n",
              "      <td>1.000000</td>\n",
              "      <td>0.000000</td>\n",
              "      <td>9.590000</td>\n",
              "    </tr>\n",
              "    <tr>\n",
              "      <th>25%</th>\n",
              "      <td>6.000000</td>\n",
              "      <td>4.000000</td>\n",
              "      <td>1.000000</td>\n",
              "      <td>112.000000</td>\n",
              "      <td>61.690000</td>\n",
              "    </tr>\n",
              "    <tr>\n",
              "      <th>50%</th>\n",
              "      <td>9.000000</td>\n",
              "      <td>5.000000</td>\n",
              "      <td>1.000000</td>\n",
              "      <td>217.000000</td>\n",
              "      <td>103.860000</td>\n",
              "    </tr>\n",
              "    <tr>\n",
              "      <th>75%</th>\n",
              "      <td>14.000000</td>\n",
              "      <td>5.000000</td>\n",
              "      <td>1.000000</td>\n",
              "      <td>343.000000</td>\n",
              "      <td>172.520000</td>\n",
              "    </tr>\n",
              "    <tr>\n",
              "      <th>max</th>\n",
              "      <td>31.000000</td>\n",
              "      <td>5.000000</td>\n",
              "      <td>10.000000</td>\n",
              "      <td>571.000000</td>\n",
              "      <td>1046.560000</td>\n",
              "    </tr>\n",
              "  </tbody>\n",
              "</table>\n",
              "</div>"
            ],
            "text/plain": [
              "       delivery_timing  review_score  order_item_id       recency      monetary\n",
              "count     89550.000000  90164.000000   89674.000000  89307.000000  89262.000000\n",
              "mean         10.820129      4.211793       1.308428    233.070185    143.879043\n",
              "std           6.403955      1.223482       1.034286    148.847329    136.000904\n",
              "min           0.000000      1.000000       1.000000      0.000000      9.590000\n",
              "25%           6.000000      4.000000       1.000000    112.000000     61.690000\n",
              "50%           9.000000      5.000000       1.000000    217.000000    103.860000\n",
              "75%          14.000000      5.000000       1.000000    343.000000    172.520000\n",
              "max          31.000000      5.000000      10.000000    571.000000   1046.560000"
            ]
          },
          "execution_count": null,
          "metadata": {},
          "output_type": "execute_result"
        }
      ],
      "source": [
        "z\n",
        "data.describe()"
      ]
    },
    {
      "cell_type": "markdown",
      "metadata": {
        "id": "gHKVclXUkH4y"
      },
      "source": [
        "#### Missing Values"
      ]
    },
    {
      "cell_type": "code",
      "execution_count": null,
      "metadata": {
        "colab": {
          "background_save": true
        },
        "id": "GEjsiMYNCFGo",
        "outputId": "0bbbdc51-6daf-4e94-ec4b-73a8c126331c"
      },
      "outputs": [
        {
          "data": {
            "text/plain": [
              "True"
            ]
          },
          "execution_count": null,
          "metadata": {},
          "output_type": "execute_result"
        }
      ],
      "source": [
        "data.isnull().values.any()"
      ]
    },
    {
      "cell_type": "code",
      "execution_count": null,
      "metadata": {
        "colab": {
          "background_save": true
        },
        "id": "cnn4xnJDD0or",
        "outputId": "4918e060-410f-4150-9ba4-c16f86afc651"
      },
      "outputs": [
        {
          "data": {
            "text/plain": [
              "delivery_timing    614\n",
              "review_score         0\n",
              "order_item_id      490\n",
              "recency            857\n",
              "monetary           902\n",
              "dtype: int64"
            ]
          },
          "execution_count": null,
          "metadata": {},
          "output_type": "execute_result"
        }
      ],
      "source": [
        "data.isna().sum()"
      ]
    },
    {
      "cell_type": "code",
      "execution_count": null,
      "metadata": {
        "colab": {
          "background_save": true
        },
        "id": "8ruWtdlWCpFk",
        "outputId": "2a480b50-d078-464f-96f5-437ba56b9e5f"
      },
      "outputs": [
        {
          "data": {
            "text/plain": [
              "<matplotlib.axes._subplots.AxesSubplot at 0x7fade4b05810>"
            ]
          },
          "execution_count": null,
          "metadata": {},
          "output_type": "execute_result"
        },
        {
          "data": {
            "image/png": "[encoded data removed]",
            "text/plain": [
              "<Figure size 2000x1000 with 1 Axes>"
            ]
          },
          "metadata": {},
          "output_type": "display_data"
        }
      ],
      "source": [
        "plt.figure(figsize=(20,10), dpi=100)\n",
        "plt.title('Taux de remplissage des variables du dataset étudié')\n",
        "sns.heatmap(data.isna(), cbar=False)"
      ]
    },
    {
      "cell_type": "markdown",
      "metadata": {
        "id": "9oSkXM4faPpC"
      },
      "source": [
        "We notice very few missing data. We will therefore choose to drop any missing data. "
      ]
    },
    {
      "cell_type": "code",
      "execution_count": null,
      "metadata": {
        "colab": {
          "background_save": true
        },
        "id": "AUnh7d1BDuHD"
      },
      "outputs": [],
      "source": [
        "data.dropna(axis=0, inplace=True)"
      ]
    },
    {
      "cell_type": "code",
      "execution_count": null,
      "metadata": {
        "colab": {
          "background_save": true
        },
        "id": "EJB_bGORqY-w",
        "outputId": "43addbbb-221b-442e-ee0c-b5a1d99eb780"
      },
      "outputs": [
        {
          "data": {
            "text/html": [
              "<div>\n",
              "<style scoped>\n",
              "    .dataframe tbody tr th:only-of-type {\n",
              "        vertical-align: middle;\n",
              "    }\n",
              "\n",
              "    .dataframe tbody tr th {\n",
              "        vertical-align: top;\n",
              "    }\n",
              "\n",
              "    .dataframe thead th {\n",
              "        text-align: right;\n",
              "    }\n",
              "</style>\n",
              "<table border=\"1\" class=\"dataframe\">\n",
              "  <thead>\n",
              "    <tr style=\"text-align: right;\">\n",
              "      <th></th>\n",
              "      <th>delivery_timing</th>\n",
              "      <th>review_score</th>\n",
              "      <th>order_item_id</th>\n",
              "      <th>recency</th>\n",
              "      <th>monetary</th>\n",
              "    </tr>\n",
              "    <tr>\n",
              "      <th>customer_unique_id</th>\n",
              "      <th></th>\n",
              "      <th></th>\n",
              "      <th></th>\n",
              "      <th></th>\n",
              "      <th></th>\n",
              "    </tr>\n",
              "  </thead>\n",
              "  <tbody>\n",
              "    <tr>\n",
              "      <th>0000366f3b9a7992bf8c76cfdf3221e2</th>\n",
              "      <td>6.0</td>\n",
              "      <td>5.0</td>\n",
              "      <td>1.0</td>\n",
              "      <td>112.0</td>\n",
              "      <td>141.90</td>\n",
              "    </tr>\n",
              "    <tr>\n",
              "      <th>0000b849f77a49e4a4ce2b2a4ca5be3f</th>\n",
              "      <td>3.0</td>\n",
              "      <td>4.0</td>\n",
              "      <td>1.0</td>\n",
              "      <td>115.0</td>\n",
              "      <td>27.19</td>\n",
              "    </tr>\n",
              "    <tr>\n",
              "      <th>0000f46a3911fa3c0805444483337064</th>\n",
              "      <td>25.0</td>\n",
              "      <td>3.0</td>\n",
              "      <td>1.0</td>\n",
              "      <td>537.0</td>\n",
              "      <td>86.22</td>\n",
              "    </tr>\n",
              "    <tr>\n",
              "      <th>0000f6ccb0745a6a4b88665a16c9f078</th>\n",
              "      <td>20.0</td>\n",
              "      <td>4.0</td>\n",
              "      <td>1.0</td>\n",
              "      <td>321.0</td>\n",
              "      <td>43.62</td>\n",
              "    </tr>\n",
              "    <tr>\n",
              "      <th>0004aac84e0df4da2b147fca70cf8255</th>\n",
              "      <td>13.0</td>\n",
              "      <td>5.0</td>\n",
              "      <td>1.0</td>\n",
              "      <td>288.0</td>\n",
              "      <td>196.89</td>\n",
              "    </tr>\n",
              "  </tbody>\n",
              "</table>\n",
              "</div>"
            ],
            "text/plain": [
              "                                  delivery_timing  ...  monetary\n",
              "customer_unique_id                                 ...          \n",
              "0000366f3b9a7992bf8c76cfdf3221e2              6.0  ...    141.90\n",
              "0000b849f77a49e4a4ce2b2a4ca5be3f              3.0  ...     27.19\n",
              "0000f46a3911fa3c0805444483337064             25.0  ...     86.22\n",
              "0000f6ccb0745a6a4b88665a16c9f078             20.0  ...     43.62\n",
              "0004aac84e0df4da2b147fca70cf8255             13.0  ...    196.89\n",
              "\n",
              "[5 rows x 5 columns]"
            ]
          },
          "execution_count": null,
          "metadata": {},
          "output_type": "execute_result"
        }
      ],
      "source": [
        "data.head()"
      ]
    },
    {
      "cell_type": "markdown",
      "metadata": {
        "id": "MYklJUqpchpD"
      },
      "source": [
        "We will standardise the data with `MinMaxScaler()` - that we will prefer to `StandardScaler()` because of the non-gaussian feature that we are studying - to analyse potential relationships between them. "
      ]
    },
    {
      "cell_type": "markdown",
      "metadata": {
        "id": "_H_swxd7kMyS"
      },
      "source": [
        "####Scaling Data"
      ]
    },
    {
      "cell_type": "code",
      "execution_count": null,
      "metadata": {
        "colab": {
          "background_save": true
        },
        "id": "UacIHYZNda2u"
      },
      "outputs": [],
      "source": [
        "# print(scaler.__doc__)"
      ]
    },
    {
      "cell_type": "code",
      "execution_count": null,
      "metadata": {
        "colab": {
          "background_save": true
        },
        "id": "ceQR4dridGq1",
        "outputId": "5c4bf653-6d99-4d88-8e7e-4ffc1b7ef49a"
      },
      "outputs": [
        {
          "data": {
            "text/html": [
              "<div>\n",
              "<style scoped>\n",
              "    .dataframe tbody tr th:only-of-type {\n",
              "        vertical-align: middle;\n",
              "    }\n",
              "\n",
              "    .dataframe tbody tr th {\n",
              "        vertical-align: top;\n",
              "    }\n",
              "\n",
              "    .dataframe thead th {\n",
              "        text-align: right;\n",
              "    }\n",
              "</style>\n",
              "<table border=\"1\" class=\"dataframe\">\n",
              "  <thead>\n",
              "    <tr style=\"text-align: right;\">\n",
              "      <th></th>\n",
              "      <th>delivery_timing</th>\n",
              "      <th>review_score</th>\n",
              "      <th>order_item_id</th>\n",
              "      <th>recency</th>\n",
              "      <th>monetary</th>\n",
              "    </tr>\n",
              "    <tr>\n",
              "      <th>customer_unique_id</th>\n",
              "      <th></th>\n",
              "      <th></th>\n",
              "      <th></th>\n",
              "      <th></th>\n",
              "      <th></th>\n",
              "    </tr>\n",
              "  </thead>\n",
              "  <tbody>\n",
              "    <tr>\n",
              "      <th>0000366f3b9a7992bf8c76cfdf3221e2</th>\n",
              "      <td>0.193548</td>\n",
              "      <td>1.00</td>\n",
              "      <td>0.0</td>\n",
              "      <td>0.196147</td>\n",
              "      <td>0.127593</td>\n",
              "    </tr>\n",
              "    <tr>\n",
              "      <th>0000b849f77a49e4a4ce2b2a4ca5be3f</th>\n",
              "      <td>0.096774</td>\n",
              "      <td>0.75</td>\n",
              "      <td>0.0</td>\n",
              "      <td>0.201401</td>\n",
              "      <td>0.016973</td>\n",
              "    </tr>\n",
              "    <tr>\n",
              "      <th>0000f46a3911fa3c0805444483337064</th>\n",
              "      <td>0.806452</td>\n",
              "      <td>0.50</td>\n",
              "      <td>0.0</td>\n",
              "      <td>0.940455</td>\n",
              "      <td>0.073898</td>\n",
              "    </tr>\n",
              "    <tr>\n",
              "      <th>0000f6ccb0745a6a4b88665a16c9f078</th>\n",
              "      <td>0.645161</td>\n",
              "      <td>0.75</td>\n",
              "      <td>0.0</td>\n",
              "      <td>0.562172</td>\n",
              "      <td>0.032817</td>\n",
              "    </tr>\n",
              "    <tr>\n",
              "      <th>0004aac84e0df4da2b147fca70cf8255</th>\n",
              "      <td>0.419355</td>\n",
              "      <td>1.00</td>\n",
              "      <td>0.0</td>\n",
              "      <td>0.504378</td>\n",
              "      <td>0.180622</td>\n",
              "    </tr>\n",
              "  </tbody>\n",
              "</table>\n",
              "</div>"
            ],
            "text/plain": [
              "                                  delivery_timing  ...  monetary\n",
              "customer_unique_id                                 ...          \n",
              "0000366f3b9a7992bf8c76cfdf3221e2         0.193548  ...  0.127593\n",
              "0000b849f77a49e4a4ce2b2a4ca5be3f         0.096774  ...  0.016973\n",
              "0000f46a3911fa3c0805444483337064         0.806452  ...  0.073898\n",
              "0000f6ccb0745a6a4b88665a16c9f078         0.645161  ...  0.032817\n",
              "0004aac84e0df4da2b147fca70cf8255         0.419355  ...  0.180622\n",
              "\n",
              "[5 rows x 5 columns]"
            ]
          },
          "execution_count": null,
          "metadata": {},
          "output_type": "execute_result"
        }
      ],
      "source": [
        "#Create Instance of Scaler\n",
        "scaler = MinMaxScaler()\n",
        "\n",
        "#Create copy of data (in case of error ;) )\n",
        "df = data.copy()\n",
        "\n",
        "#Fit Transform to scale\n",
        "df = pd.DataFrame(scaler.fit_transform(df.values), columns=df.columns, index=df.index)\n",
        "\n",
        "df.head()"
      ]
    },
    {
      "cell_type": "code",
      "execution_count": null,
      "metadata": {
        "id": "Y7KOtkiFTgUw"
      },
      "outputs": [],
      "source": [
        "sns.pairplot(df)"
      ]
    },
    {
      "cell_type": "markdown",
      "metadata": {
        "id": "B7msJrMq9J_6"
      },
      "source": [
        "### KMeans"
      ]
    },
    {
      "cell_type": "markdown",
      "metadata": {
        "id": "t73lzEhGoOHJ"
      },
      "source": [
        "####Build a Pipeline"
      ]
    },
    {
      "cell_type": "markdown",
      "metadata": {
        "id": "px-dIeXnoWka"
      },
      "source": [
        "We want to normalize the values so they have the same amplitude. "
      ]
    },
    {
      "cell_type": "code",
      "execution_count": null,
      "metadata": {
        "id": "7mS8V9r2FlBP"
      },
      "outputs": [],
      "source": [
        "#Encoding check (i.e look for potential categorical features)\n",
        "categorical_features = list(data.select_dtypes(exclude=['int64', 'float64', 'uint8']).columns)\n",
        "categorical_features"
      ]
    },
    {
      "cell_type": "code",
      "execution_count": null,
      "metadata": {
        "colab": {
          "base_uri": "https://localhost:8080/"
        },
        "id": "jh3aIfj4F7OQ",
        "outputId": "cc1835b3-515a-48d6-90e8-026009386ed2"
      },
      "outputs": [
        {
          "data": {
            "text/plain": [
              "['delivery_timing', 'review_score', 'order_item_id', 'recency', 'monetary']"
            ]
          },
          "execution_count": 64,
          "metadata": {},
          "output_type": "execute_result"
        }
      ],
      "source": [
        "numerical_features = list(data.select_dtypes(include=['int64','float64', 'uint8']).columns)\n",
        "numerical_features"
      ]
    },
    {
      "cell_type": "markdown",
      "metadata": {
        "id": "QVlxhWG_GBmH"
      },
      "source": [
        "We prepare a pre-processor that we will add to a pipeline : "
      ]
    },
    {
      "cell_type": "code",
      "execution_count": null,
      "metadata": {
        "id": "en6TP6KeF9b_"
      },
      "outputs": [],
      "source": [
        "#Define the scaler to be applied - Create an instance of it : \n",
        "\n",
        "# scaler = StandardScaler() #Will be preferential when analysing gaussian variables\n",
        "scaler = MinMaxScaler() #Divided by max, centered by min\n",
        "\n",
        "#Use ColumnTransformer from Compose module of Scickit Learn\n",
        "preprocessor = ColumnTransformer([('scaler', #name\n",
        "                                   scaler, #instance to be applied\n",
        "                                   numerical_features)]) #columns"
      ]
    },
    {
      "cell_type": "markdown",
      "metadata": {
        "id": "CKP-Lie_ikDI"
      },
      "source": [
        "####Yellowbrick for Silhouette Score and Best K"
      ]
    },
    {
      "cell_type": "markdown",
      "metadata": {
        "id": "jsj6ObFc6azW"
      },
      "source": [
        "We will use the module **[Yellowbrick](https://www.scikit-yb.org/en/latest/api/cluster/elbow.html)**. \n",
        "\n",
        "This library is a diagnostic visualization platform for machine learning that allows data scientists to steer the model selection process. It extends the scikit-learn API with a new core object: the `Visualizer`. \n",
        "\n",
        "Visualizers allow models to be fit and transformed as part of the scikit-learn pipeline process, providing visual diagnostics throughout the transformation of high-dimensional data."
      ]
    },
    {
      "cell_type": "markdown",
      "metadata": {
        "id": "5yjNgO9U6xAv"
      },
      "source": [
        "Currently, Yellowbrick provides two visualizers to evaluate centroidal mechanisms, particularly K-Means clustering, that help users discover an optimal  K  parameter in the clustering metric:\n",
        "\n",
        "* `KElbowVisualizer` visualizes the clusters according to a scoring function, looking for an \"elbow\" in the curve.\n",
        "* `SilhouetteVisualizer` visualizes the silhouette scores of each cluster in a single model."
      ]
    },
    {
      "cell_type": "markdown",
      "metadata": {
        "id": "jsVCspcf0gsi"
      },
      "source": [
        "Create a pipeline and add : \n",
        "* Pre-processor : Standard Scaler of numerical features (i.e all features here)\n",
        "* Kelbow visualizer : Elbow method to identify the optimal k value"
      ]
    },
    {
      "cell_type": "code",
      "execution_count": null,
      "metadata": {
        "id": "gQgRt5AjbKDl"
      },
      "outputs": [],
      "source": [
        "# print(preprocessor.__doc__)"
      ]
    },
    {
      "cell_type": "code",
      "execution_count": null,
      "metadata": {
        "id": "gzUCoWciMEms"
      },
      "outputs": [],
      "source": [
        "X = data.copy()"
      ]
    },
    {
      "cell_type": "code",
      "execution_count": null,
      "metadata": {
        "colab": {
          "base_uri": "https://localhost:8080/",
          "height": 529
        },
        "id": "g2n8NS3BGTHO",
        "outputId": "da6e42e0-970f-471a-9711-7c2409b7df7a"
      },
      "outputs": [
        {
          "data": {
            "image/png": "[encoded data removed]",
            "text/plain": [
              "<Figure size 864x576 with 2 Axes>"
            ]
          },
          "metadata": {},
          "output_type": "display_data"
        },
        {
          "data": {
            "text/plain": [
              "<matplotlib.axes._subplots.AxesSubplot at 0x7fae2b3aaf90>"
            ]
          },
          "execution_count": 68,
          "metadata": {},
          "output_type": "execute_result"
        }
      ],
      "source": [
        "model = KMeans()\n",
        "\n",
        "#Elbow method to find optimal value of k : \n",
        "kmeans_visualizer = Pipeline([\n",
        "                              (\"preprocessor\", preprocessor),\n",
        "                              (\"kelbowvisualizer\", KElbowVisualizer(model,\n",
        "                                                                    k=(4,8), \n",
        "                                                                    metric='silhouette',\n",
        "                                                                    locate_elbow=False)\n",
        "                              )\n",
        "                              ])\n",
        "\n",
        "kmeans_visualizer.fit(X)\n",
        "kmeans_visualizer.named_steps['kelbowvisualizer'].show()"
      ]
    },
    {
      "cell_type": "markdown",
      "metadata": {
        "id": "Kabwsb-_J8Dj"
      },
      "source": [
        "By default, the scoring parameter metric is set to `distortion`, which computes the sum of squared distances from each point to its assigned center.\n",
        "\n",
        "We will prefer the silhouette score as a matter of consistency with the rest of the notebook. "
      ]
    },
    {
      "cell_type": "markdown",
      "metadata": {
        "id": "HZBJq98U4sv_"
      },
      "source": [
        "The Silhouette Coefficient is calculated using the `mean intra-cluster distance (a)` and the `mean nearest-cluster distance (b)` for each sample. \n",
        "* To clarify, b is the distance between a sample and the nearest cluster that the sample is not a part of. \n",
        "\n",
        "\n",
        "The **Silhouette Coefficient** for a sample is `(b - a) / max(a, b)`. \n",
        "\n",
        "\n",
        "* The best value is 1 and the worst value is -1. \n",
        "* Values near 0 indicate overlapping clusters. \n",
        "* Negative values generally indicate that a sample has been assigned to the wrong cluster, as a different cluster is more similar.\n",
        "\n",
        "([scikit-learn documentation](https://scikit-learn.org/stable/modules/generated/sklearn.metrics.silhouette_score.html))"
      ]
    },
    {
      "cell_type": "code",
      "execution_count": null,
      "metadata": {
        "id": "S6O5Ahuh7bw3"
      },
      "outputs": [],
      "source": [
        "#Retrieve optimal value of k \n",
        "#from source code of the library : https://www.scikit-yb.org/en/latest/_modules/yellowbrick/cluster/elbow.html#kelbow_visualizer\n",
        "\n",
        "#kmeans_visualizer.named_steps['kelbowvisualizer'].elbow_value_ #since we set locate_elbow to False, it is not available\n"
      ]
    },
    {
      "cell_type": "code",
      "execution_count": null,
      "metadata": {
        "colab": {
          "base_uri": "https://localhost:8080/",
          "height": 529
        },
        "id": "KpyZdX7yKTx3",
        "outputId": "326e72f7-56ad-46aa-8273-3b4e4d91df47"
      },
      "outputs": [
        {
          "data": {
            "image/png": "[encoded data removed]",
            "text/plain": [
              "<Figure size 864x576 with 1 Axes>"
            ]
          },
          "metadata": {},
          "output_type": "display_data"
        },
        {
          "data": {
            "text/plain": [
              "<matplotlib.axes._subplots.AxesSubplot at 0x7fae2b6abf50>"
            ]
          },
          "execution_count": 70,
          "metadata": {},
          "output_type": "execute_result"
        }
      ],
      "source": [
        "# Best K in Elbow\n",
        "#K = kmeans_visualizer.named_steps['kelbowvisualizer'].elbow_value_\n",
        "K = 6\n",
        "\n",
        "# Silhouette Visualizer\n",
        "silhouette_visualizer = Pipeline([\n",
        "    (\"preprocessor\", preprocessor),\n",
        "    (\"silhouettevisualizer\", SilhouetteVisualizer(KMeans(K)))])\n",
        "\n",
        "silhouette_visualizer.fit(X)\n",
        "\n",
        "silhouette_visualizer.named_steps['silhouettevisualizer'].show()"
      ]
    },
    {
      "cell_type": "markdown",
      "metadata": {
        "id": "s6c_kqG8i40d"
      },
      "source": [
        "####Cluster Analysis"
      ]
    },
    {
      "cell_type": "code",
      "execution_count": null,
      "metadata": {
        "colab": {
          "base_uri": "https://localhost:8080/"
        },
        "id": "yys6u4m1X7co",
        "outputId": "3c3b274a-e2c3-423a-e654-5a66c8f91e52"
      },
      "outputs": [
        {
          "data": {
            "text/plain": [
              "Pipeline(steps=[('preprocessor',\n",
              "                 ColumnTransformer(transformers=[('scaler', MinMaxScaler(),\n",
              "                                                  ['delivery_timing',\n",
              "                                                   'review_score',\n",
              "                                                   'order_item_id', 'recency',\n",
              "                                                   'monetary'])])),\n",
              "                ('kmeans', KMeans(n_clusters=6))])"
            ]
          },
          "execution_count": 71,
          "metadata": {},
          "output_type": "execute_result"
        }
      ],
      "source": [
        "# KMeans Pipeline with best K\n",
        "kmeans_model = Pipeline([(\"preprocessor\", preprocessor),\n",
        "                         (\"kmeans\", KMeans(K))])\n",
        "kmeans_model.fit(X)"
      ]
    },
    {
      "cell_type": "code",
      "execution_count": null,
      "metadata": {
        "colab": {
          "base_uri": "https://localhost:8080/",
          "height": 519
        },
        "id": "iYg8Cjs-h5qB",
        "outputId": "0805f072-0a2c-4285-8a51-3bd0953f72ae"
      },
      "outputs": [
        {
          "data": {
            "image/png": "[encoded data removed]",
            "text/plain": [
              "<Figure size 864x576 with 2 Axes>"
            ]
          },
          "metadata": {},
          "output_type": "display_data"
        },
        {
          "data": {
            "text/plain": [
              "<matplotlib.axes._subplots.AxesSubplot at 0x7fae288b2210>"
            ]
          },
          "execution_count": 72,
          "metadata": {},
          "output_type": "execute_result"
        }
      ],
      "source": [
        "# Intercluster distance Map with best k\n",
        "distance_visualizer = Pipeline([\n",
        "    (\"preprocessor\", preprocessor),\n",
        "    (\"distancevisualizer\", InterclusterDistance(KMeans(K)))])\n",
        "distance_visualizer.fit(X)\n",
        "distance_visualizer.named_steps['distancevisualizer'].show()"
      ]
    },
    {
      "cell_type": "markdown",
      "metadata": {
        "id": "h_2eSErDiXw7"
      },
      "source": [
        "On this 2D projection, we notice that the different clusters are well separated on the first 2 principal components. The clustering seems to be efficient. Let's now identify the business components of each cluster."
      ]
    },
    {
      "cell_type": "code",
      "execution_count": null,
      "metadata": {
        "colab": {
          "base_uri": "https://localhost:8080/",
          "height": 238
        },
        "id": "26Q8V5p5VLH2",
        "outputId": "4ef442c8-0e51-44f4-dcd7-6929b04537a5"
      },
      "outputs": [
        {
          "data": {
            "text/html": [
              "<div>\n",
              "<style scoped>\n",
              "    .dataframe tbody tr th:only-of-type {\n",
              "        vertical-align: middle;\n",
              "    }\n",
              "\n",
              "    .dataframe tbody tr th {\n",
              "        vertical-align: top;\n",
              "    }\n",
              "\n",
              "    .dataframe thead th {\n",
              "        text-align: right;\n",
              "    }\n",
              "</style>\n",
              "<table border=\"1\" class=\"dataframe\">\n",
              "  <thead>\n",
              "    <tr style=\"text-align: right;\">\n",
              "      <th></th>\n",
              "      <th>kmeans_label</th>\n",
              "      <th>delivery_timing</th>\n",
              "      <th>review_score</th>\n",
              "      <th>order_item_id</th>\n",
              "      <th>recency</th>\n",
              "      <th>monetary</th>\n",
              "    </tr>\n",
              "  </thead>\n",
              "  <tbody>\n",
              "    <tr>\n",
              "      <th>0</th>\n",
              "      <td>0</td>\n",
              "      <td>19.803735</td>\n",
              "      <td>4.583112</td>\n",
              "      <td>1.209518</td>\n",
              "      <td>216.947349</td>\n",
              "      <td>159.971127</td>\n",
              "    </tr>\n",
              "    <tr>\n",
              "      <th>1</th>\n",
              "      <td>1</td>\n",
              "      <td>9.069754</td>\n",
              "      <td>4.997855</td>\n",
              "      <td>1.253978</td>\n",
              "      <td>391.534391</td>\n",
              "      <td>138.570671</td>\n",
              "    </tr>\n",
              "    <tr>\n",
              "      <th>2</th>\n",
              "      <td>2</td>\n",
              "      <td>7.139294</td>\n",
              "      <td>4.996667</td>\n",
              "      <td>1.248110</td>\n",
              "      <td>108.643037</td>\n",
              "      <td>135.875607</td>\n",
              "    </tr>\n",
              "    <tr>\n",
              "      <th>3</th>\n",
              "      <td>3</td>\n",
              "      <td>14.207691</td>\n",
              "      <td>1.227627</td>\n",
              "      <td>1.732661</td>\n",
              "      <td>227.057910</td>\n",
              "      <td>162.165025</td>\n",
              "    </tr>\n",
              "    <tr>\n",
              "      <th>4</th>\n",
              "      <td>4</td>\n",
              "      <td>8.215819</td>\n",
              "      <td>3.662748</td>\n",
              "      <td>1.308089</td>\n",
              "      <td>117.011556</td>\n",
              "      <td>132.679392</td>\n",
              "    </tr>\n",
              "    <tr>\n",
              "      <th>5</th>\n",
              "      <td>5</td>\n",
              "      <td>10.666745</td>\n",
              "      <td>3.616380</td>\n",
              "      <td>1.313243</td>\n",
              "      <td>398.986340</td>\n",
              "      <td>135.203589</td>\n",
              "    </tr>\n",
              "  </tbody>\n",
              "</table>\n",
              "</div>"
            ],
            "text/plain": [
              "   kmeans_label  delivery_timing  ...     recency    monetary\n",
              "0             0        19.803735  ...  216.947349  159.971127\n",
              "1             1         9.069754  ...  391.534391  138.570671\n",
              "2             2         7.139294  ...  108.643037  135.875607\n",
              "3             3        14.207691  ...  227.057910  162.165025\n",
              "4             4         8.215819  ...  117.011556  132.679392\n",
              "5             5        10.666745  ...  398.986340  135.203589\n",
              "\n",
              "[6 rows x 6 columns]"
            ]
          },
          "execution_count": 73,
          "metadata": {},
          "output_type": "execute_result"
        }
      ],
      "source": [
        "#Cluster statistical analysis\n",
        "kmeans_labels = kmeans_model.named_steps['kmeans'].labels_\n",
        "\n",
        "#Group by cluster labels\n",
        "data[\"kmeans_label\"] = kmeans_labels\n",
        "kmeans_clusters_means = data.groupby(\"kmeans_label\").mean().reset_index()\n",
        "kmeans_clusters_means"
      ]
    },
    {
      "cell_type": "code",
      "execution_count": null,
      "metadata": {
        "colab": {
          "base_uri": "https://localhost:8080/",
          "height": 562
        },
        "id": "LNvuGnuh61NC",
        "outputId": "ac1f249f-8704-443c-b10c-743679d46e6f"
      },
      "outputs": [
        {
          "data": {
            "text/html": [
              "<html>\n",
              "<head><meta charset=\"utf-8\" /></head>\n",
              "<body>\n",
              "    <div>            <script src=\"https://cdnjs.cloudflare.com/ajax/libs/mathjax/2.7.5/MathJax.js?config=TeX-AMS-MML_SVG\"></script><script type=\"text/javascript\">if (window.MathJax) {MathJax.Hub.Config({SVG: {font: \"STIX-Web\"}});}</script>                <script type=\"text/javascript\">window.PlotlyConfig = {MathJaxConfig: 'local'};</script>\n",
              "        <script src=\"https://cdn.plot.ly/plotly-2.4.2.min.js\"></script>                <div id=\"88334172-ad4a-4e9f-9b25-54b33f49055e\" class=\"plotly-graph-div\" style=\"height:525px; width:100%;\"></div>            <script type=\"text/javascript\">                                    window.PLOTLYENV=window.PLOTLYENV || {};                                    if (document.getElementById(\"88334172-ad4a-4e9f-9b25-54b33f49055e\")) {                    Plotly.newPlot(                        \"88334172-ad4a-4e9f-9b25-54b33f49055e\",                        [{\"dimensions\":[{\"label\":\"recency\",\"values\":[216.94734938887683,391.53439071165707,108.6430371514511,227.05791024478694,117.01155555555556,398.9863399374348]},{\"label\":\"monetary\",\"values\":[159.97112696174227,138.57067077869294,135.8756067121901,162.1650245542457,132.67939217777717,135.20358915537042]},{\"label\":\"delivery_timing\",\"values\":[19.803735445143563,9.069754142262306,7.139293553369643,14.207691145361137,8.215819259259261,10.666744873131735]},{\"label\":\"review_score\",\"values\":[4.583112348625475,4.9978547199041685,4.996666937647346,1.2276273043215473,3.662748148148148,3.616379909628084]},{\"label\":\"order_item_id\",\"values\":[1.2095176104722645,1.2539781267817343,1.2481099097634338,1.73266092475068,1.3080888888888889,1.313242961418144]}],\"domain\":{\"x\":[0.0,1.0],\"y\":[0.0,1.0]},\"line\":{\"color\":[0,1,2,3,4,5],\"coloraxis\":\"coloraxis\"},\"name\":\"\",\"type\":\"parcoords\"}],                        {\"coloraxis\":{\"cmid\":2,\"colorbar\":{\"title\":{\"text\":\"kmeans_label\"}},\"colorscale\":[[0.0,\"#0d0887\"],[0.1111111111111111,\"#46039f\"],[0.2222222222222222,\"#7201a8\"],[0.3333333333333333,\"#9c179e\"],[0.4444444444444444,\"#bd3786\"],[0.5555555555555556,\"#d8576b\"],[0.6666666666666666,\"#ed7953\"],[0.7777777777777778,\"#fb9f3a\"],[0.8888888888888888,\"#fdca26\"],[1.0,\"#f0f921\"]]},\"legend\":{\"tracegroupgap\":0},\"margin\":{\"t\":60},\"template\":{\"data\":{\"bar\":[{\"error_x\":{\"color\":\"#2a3f5f\"},\"error_y\":{\"color\":\"#2a3f5f\"},\"marker\":{\"line\":{\"color\":\"#E5ECF6\",\"width\":0.5},\"pattern\":{\"fillmode\":\"overlay\",\"size\":10,\"solidity\":0.2}},\"type\":\"bar\"}],\"barpolar\":[{\"marker\":{\"line\":{\"color\":\"#E5ECF6\",\"width\":0.5},\"pattern\":{\"fillmode\":\"overlay\",\"size\":10,\"solidity\":0.2}},\"type\":\"barpolar\"}],\"carpet\":[{\"aaxis\":{\"endlinecolor\":\"#2a3f5f\",\"gridcolor\":\"white\",\"linecolor\":\"white\",\"minorgridcolor\":\"white\",\"startlinecolor\":\"#2a3f5f\"},\"baxis\":{\"endlinecolor\":\"#2a3f5f\",\"gridcolor\":\"white\",\"linecolor\":\"white\",\"minorgridcolor\":\"white\",\"startlinecolor\":\"#2a3f5f\"},\"type\":\"carpet\"}],\"choropleth\":[{\"colorbar\":{\"outlinewidth\":0,\"ticks\":\"\"},\"type\":\"choropleth\"}],\"contour\":[{\"colorbar\":{\"outlinewidth\":0,\"ticks\":\"\"},\"colorscale\":[[0.0,\"#0d0887\"],[0.1111111111111111,\"#46039f\"],[0.2222222222222222,\"#7201a8\"],[0.3333333333333333,\"#9c179e\"],[0.4444444444444444,\"#bd3786\"],[0.5555555555555556,\"#d8576b\"],[0.6666666666666666,\"#ed7953\"],[0.7777777777777778,\"#fb9f3a\"],[0.8888888888888888,\"#fdca26\"],[1.0,\"#f0f921\"]],\"type\":\"contour\"}],\"contourcarpet\":[{\"colorbar\":{\"outlinewidth\":0,\"ticks\":\"\"},\"type\":\"contourcarpet\"}],\"heatmap\":[{\"colorbar\":{\"outlinewidth\":0,\"ticks\":\"\"},\"colorscale\":[[0.0,\"#0d0887\"],[0.1111111111111111,\"#46039f\"],[0.2222222222222222,\"#7201a8\"],[0.3333333333333333,\"#9c179e\"],[0.4444444444444444,\"#bd3786\"],[0.5555555555555556,\"#d8576b\"],[0.6666666666666666,\"#ed7953\"],[0.7777777777777778,\"#fb9f3a\"],[0.8888888888888888,\"#fdca26\"],[1.0,\"#f0f921\"]],\"type\":\"heatmap\"}],\"heatmapgl\":[{\"colorbar\":{\"outlinewidth\":0,\"ticks\":\"\"},\"colorscale\":[[0.0,\"#0d0887\"],[0.1111111111111111,\"#46039f\"],[0.2222222222222222,\"#7201a8\"],[0.3333333333333333,\"#9c179e\"],[0.4444444444444444,\"#bd3786\"],[0.5555555555555556,\"#d8576b\"],[0.6666666666666666,\"#ed7953\"],[0.7777777777777778,\"#fb9f3a\"],[0.8888888888888888,\"#fdca26\"],[1.0,\"#f0f921\"]],\"type\":\"heatmapgl\"}],\"histogram\":[{\"marker\":{\"pattern\":{\"fillmode\":\"overlay\",\"size\":10,\"solidity\":0.2}},\"type\":\"histogram\"}],\"histogram2d\":[{\"colorbar\":{\"outlinewidth\":0,\"ticks\":\"\"},\"colorscale\":[[0.0,\"#0d0887\"],[0.1111111111111111,\"#46039f\"],[0.2222222222222222,\"#7201a8\"],[0.3333333333333333,\"#9c179e\"],[0.4444444444444444,\"#bd3786\"],[0.5555555555555556,\"#d8576b\"],[0.6666666666666666,\"#ed7953\"],[0.7777777777777778,\"#fb9f3a\"],[0.8888888888888888,\"#fdca26\"],[1.0,\"#f0f921\"]],\"type\":\"histogram2d\"}],\"histogram2dcontour\":[{\"colorbar\":{\"outlinewidth\":0,\"ticks\":\"\"},\"colorscale\":[[0.0,\"#0d0887\"],[0.1111111111111111,\"#46039f\"],[0.2222222222222222,\"#7201a8\"],[0.3333333333333333,\"#9c179e\"],[0.4444444444444444,\"#bd3786\"],[0.5555555555555556,\"#d8576b\"],[0.6666666666666666,\"#ed7953\"],[0.7777777777777778,\"#fb9f3a\"],[0.8888888888888888,\"#fdca26\"],[1.0,\"#f0f921\"]],\"type\":\"histogram2dcontour\"}],\"mesh3d\":[{\"colorbar\":{\"outlinewidth\":0,\"ticks\":\"\"},\"type\":\"mesh3d\"}],\"parcoords\":[{\"line\":{\"colorbar\":{\"outlinewidth\":0,\"ticks\":\"\"}},\"type\":\"parcoords\"}],\"pie\":[{\"automargin\":true,\"type\":\"pie\"}],\"scatter\":[{\"marker\":{\"colorbar\":{\"outlinewidth\":0,\"ticks\":\"\"}},\"type\":\"scatter\"}],\"scatter3d\":[{\"line\":{\"colorbar\":{\"outlinewidth\":0,\"ticks\":\"\"}},\"marker\":{\"colorbar\":{\"outlinewidth\":0,\"ticks\":\"\"}},\"type\":\"scatter3d\"}],\"scattercarpet\":[{\"marker\":{\"colorbar\":{\"outlinewidth\":0,\"ticks\":\"\"}},\"type\":\"scattercarpet\"}],\"scattergeo\":[{\"marker\":{\"colorbar\":{\"outlinewidth\":0,\"ticks\":\"\"}},\"type\":\"scattergeo\"}],\"scattergl\":[{\"marker\":{\"colorbar\":{\"outlinewidth\":0,\"ticks\":\"\"}},\"type\":\"scattergl\"}],\"scattermapbox\":[{\"marker\":{\"colorbar\":{\"outlinewidth\":0,\"ticks\":\"\"}},\"type\":\"scattermapbox\"}],\"scatterpolar\":[{\"marker\":{\"colorbar\":{\"outlinewidth\":0,\"ticks\":\"\"}},\"type\":\"scatterpolar\"}],\"scatterpolargl\":[{\"marker\":{\"colorbar\":{\"outlinewidth\":0,\"ticks\":\"\"}},\"type\":\"scatterpolargl\"}],\"scatterternary\":[{\"marker\":{\"colorbar\":{\"outlinewidth\":0,\"ticks\":\"\"}},\"type\":\"scatterternary\"}],\"surface\":[{\"colorbar\":{\"outlinewidth\":0,\"ticks\":\"\"},\"colorscale\":[[0.0,\"#0d0887\"],[0.1111111111111111,\"#46039f\"],[0.2222222222222222,\"#7201a8\"],[0.3333333333333333,\"#9c179e\"],[0.4444444444444444,\"#bd3786\"],[0.5555555555555556,\"#d8576b\"],[0.6666666666666666,\"#ed7953\"],[0.7777777777777778,\"#fb9f3a\"],[0.8888888888888888,\"#fdca26\"],[1.0,\"#f0f921\"]],\"type\":\"surface\"}],\"table\":[{\"cells\":{\"fill\":{\"color\":\"#EBF0F8\"},\"line\":{\"color\":\"white\"}},\"header\":{\"fill\":{\"color\":\"#C8D4E3\"},\"line\":{\"color\":\"white\"}},\"type\":\"table\"}]},\"layout\":{\"annotationdefaults\":{\"arrowcolor\":\"#2a3f5f\",\"arrowhead\":0,\"arrowwidth\":1},\"autotypenumbers\":\"strict\",\"coloraxis\":{\"colorbar\":{\"outlinewidth\":0,\"ticks\":\"\"}},\"colorscale\":{\"diverging\":[[0,\"#8e0152\"],[0.1,\"#c51b7d\"],[0.2,\"#de77ae\"],[0.3,\"#f1b6da\"],[0.4,\"#fde0ef\"],[0.5,\"#f7f7f7\"],[0.6,\"#e6f5d0\"],[0.7,\"#b8e186\"],[0.8,\"#7fbc41\"],[0.9,\"#4d9221\"],[1,\"#276419\"]],\"sequential\":[[0.0,\"#0d0887\"],[0.1111111111111111,\"#46039f\"],[0.2222222222222222,\"#7201a8\"],[0.3333333333333333,\"#9c179e\"],[0.4444444444444444,\"#bd3786\"],[0.5555555555555556,\"#d8576b\"],[0.6666666666666666,\"#ed7953\"],[0.7777777777777778,\"#fb9f3a\"],[0.8888888888888888,\"#fdca26\"],[1.0,\"#f0f921\"]],\"sequentialminus\":[[0.0,\"#0d0887\"],[0.1111111111111111,\"#46039f\"],[0.2222222222222222,\"#7201a8\"],[0.3333333333333333,\"#9c179e\"],[0.4444444444444444,\"#bd3786\"],[0.5555555555555556,\"#d8576b\"],[0.6666666666666666,\"#ed7953\"],[0.7777777777777778,\"#fb9f3a\"],[0.8888888888888888,\"#fdca26\"],[1.0,\"#f0f921\"]]},\"colorway\":[\"#636efa\",\"#EF553B\",\"#00cc96\",\"#ab63fa\",\"#FFA15A\",\"#19d3f3\",\"#FF6692\",\"#B6E880\",\"#FF97FF\",\"#FECB52\"],\"font\":{\"color\":\"#2a3f5f\"},\"geo\":{\"bgcolor\":\"white\",\"lakecolor\":\"white\",\"landcolor\":\"#E5ECF6\",\"showlakes\":true,\"showland\":true,\"subunitcolor\":\"white\"},\"hoverlabel\":{\"align\":\"left\"},\"hovermode\":\"closest\",\"mapbox\":{\"style\":\"light\"},\"paper_bgcolor\":\"white\",\"plot_bgcolor\":\"#E5ECF6\",\"polar\":{\"angularaxis\":{\"gridcolor\":\"white\",\"linecolor\":\"white\",\"ticks\":\"\"},\"bgcolor\":\"#E5ECF6\",\"radialaxis\":{\"gridcolor\":\"white\",\"linecolor\":\"white\",\"ticks\":\"\"}},\"scene\":{\"xaxis\":{\"backgroundcolor\":\"#E5ECF6\",\"gridcolor\":\"white\",\"gridwidth\":2,\"linecolor\":\"white\",\"showbackground\":true,\"ticks\":\"\",\"zerolinecolor\":\"white\"},\"yaxis\":{\"backgroundcolor\":\"#E5ECF6\",\"gridcolor\":\"white\",\"gridwidth\":2,\"linecolor\":\"white\",\"showbackground\":true,\"ticks\":\"\",\"zerolinecolor\":\"white\"},\"zaxis\":{\"backgroundcolor\":\"#E5ECF6\",\"gridcolor\":\"white\",\"gridwidth\":2,\"linecolor\":\"white\",\"showbackground\":true,\"ticks\":\"\",\"zerolinecolor\":\"white\"}},\"shapedefaults\":{\"line\":{\"color\":\"#2a3f5f\"}},\"ternary\":{\"aaxis\":{\"gridcolor\":\"white\",\"linecolor\":\"white\",\"ticks\":\"\"},\"baxis\":{\"gridcolor\":\"white\",\"linecolor\":\"white\",\"ticks\":\"\"},\"bgcolor\":\"#E5ECF6\",\"caxis\":{\"gridcolor\":\"white\",\"linecolor\":\"white\",\"ticks\":\"\"}},\"title\":{\"x\":0.05},\"xaxis\":{\"automargin\":true,\"gridcolor\":\"white\",\"linecolor\":\"white\",\"ticks\":\"\",\"title\":{\"standoff\":15},\"zerolinecolor\":\"white\",\"zerolinewidth\":2},\"yaxis\":{\"automargin\":true,\"gridcolor\":\"white\",\"linecolor\":\"white\",\"ticks\":\"\",\"title\":{\"standoff\":15},\"zerolinecolor\":\"white\",\"zerolinewidth\":2}}}},                        {\"responsive\": true}                    ).then(function(){\n",
              "                            \n",
              "var gd = document.getElementById('88334172-ad4a-4e9f-9b25-54b33f49055e');\n",
              "var x = new MutationObserver(function (mutations, observer) {{\n",
              "        var display = window.getComputedStyle(gd).display;\n",
              "        if (!display || display === 'none') {{\n",
              "            console.log([gd, 'removed!']);\n",
              "            Plotly.purge(gd);\n",
              "            observer.disconnect();\n",
              "        }}\n",
              "}});\n",
              "\n",
              "// Listen for the removal of the full notebook cells\n",
              "var notebookContainer = gd.closest('#notebook-container');\n",
              "if (notebookContainer) {{\n",
              "    x.observe(notebookContainer, {childList: true});\n",
              "}}\n",
              "\n",
              "// Listen for the clearing of the current output cell\n",
              "var outputEl = gd.closest('.output');\n",
              "if (outputEl) {{\n",
              "    x.observe(outputEl, {childList: true});\n",
              "}}\n",
              "\n",
              "                        })                };                            </script>        </div>\n",
              "</body>\n",
              "</html>"
            ]
          },
          "metadata": {},
          "output_type": "display_data"
        }
      ],
      "source": [
        "#Parallel plot with plotly\n",
        "#https://plotly.com/python/parallel-coordinates-plot/\n",
        "\n",
        "fig = px.parallel_coordinates(kmeans_clusters_means, color=\"kmeans_label\",\n",
        "                              dimensions=['recency',\n",
        "                                          'monetary',\n",
        "                                          'delivery_timing',\n",
        "                                          'review_score',\n",
        "                                          'order_item_id'],\n",
        "                              color_continuous_midpoint=2)\n",
        "fig.show()"
      ]
    },
    {
      "cell_type": "code",
      "execution_count": null,
      "metadata": {
        "id": "nUgtGU4uw3db"
      },
      "outputs": [],
      "source": [
        "#without resetting index\n",
        "kmeans_clusters_means_ = data.groupby(\"kmeans_label\").mean()"
      ]
    },
    {
      "cell_type": "code",
      "execution_count": null,
      "metadata": {
        "id": "8AjJhETsk5d8"
      },
      "outputs": [],
      "source": [
        "#RadarPlot\n",
        "def plot_radars(data, group):\n",
        "\n",
        "    scaler = MinMaxScaler()\n",
        "    data = pd.DataFrame(scaler.fit_transform(data), \n",
        "                        index=data.index,\n",
        "                        columns=data.columns).reset_index()\n",
        "\n",
        "    fig = go.Figure()\n",
        "\n",
        "    for k in data[group]:\n",
        "        fig.add_trace(go.Scatterpolar(\n",
        "            r=data[data[group]==k].iloc[:,1:].values.reshape(-1),\n",
        "            theta=data.columns[1:],\n",
        "            fill='toself',\n",
        "            name='Cluster '+str(k)\n",
        "        ))\n",
        "\n",
        "    fig.update_layout(\n",
        "        polar=dict(\n",
        "        radialaxis=dict(\n",
        "          visible=True,\n",
        "          range=[0, 1]\n",
        "        )),\n",
        "        showlegend=True,\n",
        "        title={\n",
        "            'text': \"Features Mean Comparison Per Cluster\",\n",
        "            'y':0.95,\n",
        "            'x':0.5,\n",
        "            'xanchor': 'center',\n",
        "            'yanchor': 'top'},\n",
        "        title_font_color=\"blue\",\n",
        "        title_font_size=18)\n",
        "\n",
        "    fig.show()"
      ]
    },
    {
      "cell_type": "code",
      "execution_count": null,
      "metadata": {
        "colab": {
          "base_uri": "https://localhost:8080/"
        },
        "id": "5wkwDb7Kptwg",
        "outputId": "38bc1743-ce9e-4bc6-9091-466c8bf9286d"
      },
      "outputs": [
        {
          "data": {
            "text/plain": [
              "Index(['kmeans_label', 'delivery_timing', 'review_score', 'order_item_id',\n",
              "       'recency', 'monetary'],\n",
              "      dtype='object')"
            ]
          },
          "execution_count": 77,
          "metadata": {},
          "output_type": "execute_result"
        }
      ],
      "source": [
        "kmeans_clusters_means.columns"
      ]
    },
    {
      "cell_type": "code",
      "execution_count": null,
      "metadata": {
        "colab": {
          "base_uri": "https://localhost:8080/",
          "height": 562
        },
        "id": "HvMa2aiAlRtu",
        "outputId": "257c8974-5587-4e84-f03f-c6667c2045d4"
      },
      "outputs": [
        {
          "data": {
            "text/html": [
              "<html>\n",
              "<head><meta charset=\"utf-8\" /></head>\n",
              "<body>\n",
              "    <div>            <script src=\"https://cdnjs.cloudflare.com/ajax/libs/mathjax/2.7.5/MathJax.js?config=TeX-AMS-MML_SVG\"></script><script type=\"text/javascript\">if (window.MathJax) {MathJax.Hub.Config({SVG: {font: \"STIX-Web\"}});}</script>                <script type=\"text/javascript\">window.PlotlyConfig = {MathJaxConfig: 'local'};</script>\n",
              "        <script src=\"https://cdn.plot.ly/plotly-2.4.2.min.js\"></script>                <div id=\"8ed4398b-168e-40a0-81a0-9ee7f013200a\" class=\"plotly-graph-div\" style=\"height:525px; width:100%;\"></div>            <script type=\"text/javascript\">                                    window.PLOTLYENV=window.PLOTLYENV || {};                                    if (document.getElementById(\"8ed4398b-168e-40a0-81a0-9ee7f013200a\")) {                    Plotly.newPlot(                        \"8ed4398b-168e-40a0-81a0-9ee7f013200a\",                        [{\"fill\":\"toself\",\"name\":\"Cluster 0\",\"r\":[1.0,0.8899953966796452,0.0,0.3730215617105466,0.9255943517001084],\"theta\":[\"delivery_timing\",\"review_score\",\"order_item_id\",\"recency\",\"monetary\"],\"type\":\"scatterpolar\"},{\"fill\":\"toself\",\"name\":\"Cluster 1\",\"r\":[0.15243155643096895,1.0000000000000002,0.08498725893266057,0.9743340068316619,0.1998016703761598],\"theta\":[\"delivery_timing\",\"review_score\",\"order_item_id\",\"recency\",\"monetary\"],\"type\":\"scatterpolar\"},{\"fill\":\"toself\",\"name\":\"Cluster 2\",\"r\":[0.0,0.999684957397553,0.07377003248985536,0.0,0.10839904986958082],\"theta\":[\"delivery_timing\",\"review_score\",\"order_item_id\",\"recency\",\"monetary\"],\"type\":\"scatterpolar\"},{\"fill\":\"toself\",\"name\":\"Cluster 3\",\"r\":[0.5581294187612571,0.0,1.0,0.4078443413610307,1.0],\"theta\":[\"delivery_timing\",\"review_score\",\"order_item_id\",\"recency\",\"monetary\"],\"type\":\"scatterpolar\"},{\"fill\":\"toself\",\"name\":\"Cluster 4\",\"r\":[0.08500380159577858,0.6458816870733239,0.18842117585424223,0.028822839458683913,0.0],\"theta\":[\"delivery_timing\",\"review_score\",\"order_item_id\",\"recency\",\"monetary\"],\"type\":\"scatterpolar\"},{\"fill\":\"toself\",\"name\":\"Cluster 5\",\"r\":[0.2785319203093599,0.6335831614383924,0.19827329933280424,1.0,0.08560769344759667],\"theta\":[\"delivery_timing\",\"review_score\",\"order_item_id\",\"recency\",\"monetary\"],\"type\":\"scatterpolar\"}],                        {\"polar\":{\"radialaxis\":{\"range\":[0,1],\"visible\":true}},\"showlegend\":true,\"template\":{\"data\":{\"bar\":[{\"error_x\":{\"color\":\"#2a3f5f\"},\"error_y\":{\"color\":\"#2a3f5f\"},\"marker\":{\"line\":{\"color\":\"#E5ECF6\",\"width\":0.5},\"pattern\":{\"fillmode\":\"overlay\",\"size\":10,\"solidity\":0.2}},\"type\":\"bar\"}],\"barpolar\":[{\"marker\":{\"line\":{\"color\":\"#E5ECF6\",\"width\":0.5},\"pattern\":{\"fillmode\":\"overlay\",\"size\":10,\"solidity\":0.2}},\"type\":\"barpolar\"}],\"carpet\":[{\"aaxis\":{\"endlinecolor\":\"#2a3f5f\",\"gridcolor\":\"white\",\"linecolor\":\"white\",\"minorgridcolor\":\"white\",\"startlinecolor\":\"#2a3f5f\"},\"baxis\":{\"endlinecolor\":\"#2a3f5f\",\"gridcolor\":\"white\",\"linecolor\":\"white\",\"minorgridcolor\":\"white\",\"startlinecolor\":\"#2a3f5f\"},\"type\":\"carpet\"}],\"choropleth\":[{\"colorbar\":{\"outlinewidth\":0,\"ticks\":\"\"},\"type\":\"choropleth\"}],\"contour\":[{\"colorbar\":{\"outlinewidth\":0,\"ticks\":\"\"},\"colorscale\":[[0.0,\"#0d0887\"],[0.1111111111111111,\"#46039f\"],[0.2222222222222222,\"#7201a8\"],[0.3333333333333333,\"#9c179e\"],[0.4444444444444444,\"#bd3786\"],[0.5555555555555556,\"#d8576b\"],[0.6666666666666666,\"#ed7953\"],[0.7777777777777778,\"#fb9f3a\"],[0.8888888888888888,\"#fdca26\"],[1.0,\"#f0f921\"]],\"type\":\"contour\"}],\"contourcarpet\":[{\"colorbar\":{\"outlinewidth\":0,\"ticks\":\"\"},\"type\":\"contourcarpet\"}],\"heatmap\":[{\"colorbar\":{\"outlinewidth\":0,\"ticks\":\"\"},\"colorscale\":[[0.0,\"#0d0887\"],[0.1111111111111111,\"#46039f\"],[0.2222222222222222,\"#7201a8\"],[0.3333333333333333,\"#9c179e\"],[0.4444444444444444,\"#bd3786\"],[0.5555555555555556,\"#d8576b\"],[0.6666666666666666,\"#ed7953\"],[0.7777777777777778,\"#fb9f3a\"],[0.8888888888888888,\"#fdca26\"],[1.0,\"#f0f921\"]],\"type\":\"heatmap\"}],\"heatmapgl\":[{\"colorbar\":{\"outlinewidth\":0,\"ticks\":\"\"},\"colorscale\":[[0.0,\"#0d0887\"],[0.1111111111111111,\"#46039f\"],[0.2222222222222222,\"#7201a8\"],[0.3333333333333333,\"#9c179e\"],[0.4444444444444444,\"#bd3786\"],[0.5555555555555556,\"#d8576b\"],[0.6666666666666666,\"#ed7953\"],[0.7777777777777778,\"#fb9f3a\"],[0.8888888888888888,\"#fdca26\"],[1.0,\"#f0f921\"]],\"type\":\"heatmapgl\"}],\"histogram\":[{\"marker\":{\"pattern\":{\"fillmode\":\"overlay\",\"size\":10,\"solidity\":0.2}},\"type\":\"histogram\"}],\"histogram2d\":[{\"colorbar\":{\"outlinewidth\":0,\"ticks\":\"\"},\"colorscale\":[[0.0,\"#0d0887\"],[0.1111111111111111,\"#46039f\"],[0.2222222222222222,\"#7201a8\"],[0.3333333333333333,\"#9c179e\"],[0.4444444444444444,\"#bd3786\"],[0.5555555555555556,\"#d8576b\"],[0.6666666666666666,\"#ed7953\"],[0.7777777777777778,\"#fb9f3a\"],[0.8888888888888888,\"#fdca26\"],[1.0,\"#f0f921\"]],\"type\":\"histogram2d\"}],\"histogram2dcontour\":[{\"colorbar\":{\"outlinewidth\":0,\"ticks\":\"\"},\"colorscale\":[[0.0,\"#0d0887\"],[0.1111111111111111,\"#46039f\"],[0.2222222222222222,\"#7201a8\"],[0.3333333333333333,\"#9c179e\"],[0.4444444444444444,\"#bd3786\"],[0.5555555555555556,\"#d8576b\"],[0.6666666666666666,\"#ed7953\"],[0.7777777777777778,\"#fb9f3a\"],[0.8888888888888888,\"#fdca26\"],[1.0,\"#f0f921\"]],\"type\":\"histogram2dcontour\"}],\"mesh3d\":[{\"colorbar\":{\"outlinewidth\":0,\"ticks\":\"\"},\"type\":\"mesh3d\"}],\"parcoords\":[{\"line\":{\"colorbar\":{\"outlinewidth\":0,\"ticks\":\"\"}},\"type\":\"parcoords\"}],\"pie\":[{\"automargin\":true,\"type\":\"pie\"}],\"scatter\":[{\"marker\":{\"colorbar\":{\"outlinewidth\":0,\"ticks\":\"\"}},\"type\":\"scatter\"}],\"scatter3d\":[{\"line\":{\"colorbar\":{\"outlinewidth\":0,\"ticks\":\"\"}},\"marker\":{\"colorbar\":{\"outlinewidth\":0,\"ticks\":\"\"}},\"type\":\"scatter3d\"}],\"scattercarpet\":[{\"marker\":{\"colorbar\":{\"outlinewidth\":0,\"ticks\":\"\"}},\"type\":\"scattercarpet\"}],\"scattergeo\":[{\"marker\":{\"colorbar\":{\"outlinewidth\":0,\"ticks\":\"\"}},\"type\":\"scattergeo\"}],\"scattergl\":[{\"marker\":{\"colorbar\":{\"outlinewidth\":0,\"ticks\":\"\"}},\"type\":\"scattergl\"}],\"scattermapbox\":[{\"marker\":{\"colorbar\":{\"outlinewidth\":0,\"ticks\":\"\"}},\"type\":\"scattermapbox\"}],\"scatterpolar\":[{\"marker\":{\"colorbar\":{\"outlinewidth\":0,\"ticks\":\"\"}},\"type\":\"scatterpolar\"}],\"scatterpolargl\":[{\"marker\":{\"colorbar\":{\"outlinewidth\":0,\"ticks\":\"\"}},\"type\":\"scatterpolargl\"}],\"scatterternary\":[{\"marker\":{\"colorbar\":{\"outlinewidth\":0,\"ticks\":\"\"}},\"type\":\"scatterternary\"}],\"surface\":[{\"colorbar\":{\"outlinewidth\":0,\"ticks\":\"\"},\"colorscale\":[[0.0,\"#0d0887\"],[0.1111111111111111,\"#46039f\"],[0.2222222222222222,\"#7201a8\"],[0.3333333333333333,\"#9c179e\"],[0.4444444444444444,\"#bd3786\"],[0.5555555555555556,\"#d8576b\"],[0.6666666666666666,\"#ed7953\"],[0.7777777777777778,\"#fb9f3a\"],[0.8888888888888888,\"#fdca26\"],[1.0,\"#f0f921\"]],\"type\":\"surface\"}],\"table\":[{\"cells\":{\"fill\":{\"color\":\"#EBF0F8\"},\"line\":{\"color\":\"white\"}},\"header\":{\"fill\":{\"color\":\"#C8D4E3\"},\"line\":{\"color\":\"white\"}},\"type\":\"table\"}]},\"layout\":{\"annotationdefaults\":{\"arrowcolor\":\"#2a3f5f\",\"arrowhead\":0,\"arrowwidth\":1},\"autotypenumbers\":\"strict\",\"coloraxis\":{\"colorbar\":{\"outlinewidth\":0,\"ticks\":\"\"}},\"colorscale\":{\"diverging\":[[0,\"#8e0152\"],[0.1,\"#c51b7d\"],[0.2,\"#de77ae\"],[0.3,\"#f1b6da\"],[0.4,\"#fde0ef\"],[0.5,\"#f7f7f7\"],[0.6,\"#e6f5d0\"],[0.7,\"#b8e186\"],[0.8,\"#7fbc41\"],[0.9,\"#4d9221\"],[1,\"#276419\"]],\"sequential\":[[0.0,\"#0d0887\"],[0.1111111111111111,\"#46039f\"],[0.2222222222222222,\"#7201a8\"],[0.3333333333333333,\"#9c179e\"],[0.4444444444444444,\"#bd3786\"],[0.5555555555555556,\"#d8576b\"],[0.6666666666666666,\"#ed7953\"],[0.7777777777777778,\"#fb9f3a\"],[0.8888888888888888,\"#fdca26\"],[1.0,\"#f0f921\"]],\"sequentialminus\":[[0.0,\"#0d0887\"],[0.1111111111111111,\"#46039f\"],[0.2222222222222222,\"#7201a8\"],[0.3333333333333333,\"#9c179e\"],[0.4444444444444444,\"#bd3786\"],[0.5555555555555556,\"#d8576b\"],[0.6666666666666666,\"#ed7953\"],[0.7777777777777778,\"#fb9f3a\"],[0.8888888888888888,\"#fdca26\"],[1.0,\"#f0f921\"]]},\"colorway\":[\"#636efa\",\"#EF553B\",\"#00cc96\",\"#ab63fa\",\"#FFA15A\",\"#19d3f3\",\"#FF6692\",\"#B6E880\",\"#FF97FF\",\"#FECB52\"],\"font\":{\"color\":\"#2a3f5f\"},\"geo\":{\"bgcolor\":\"white\",\"lakecolor\":\"white\",\"landcolor\":\"#E5ECF6\",\"showlakes\":true,\"showland\":true,\"subunitcolor\":\"white\"},\"hoverlabel\":{\"align\":\"left\"},\"hovermode\":\"closest\",\"mapbox\":{\"style\":\"light\"},\"paper_bgcolor\":\"white\",\"plot_bgcolor\":\"#E5ECF6\",\"polar\":{\"angularaxis\":{\"gridcolor\":\"white\",\"linecolor\":\"white\",\"ticks\":\"\"},\"bgcolor\":\"#E5ECF6\",\"radialaxis\":{\"gridcolor\":\"white\",\"linecolor\":\"white\",\"ticks\":\"\"}},\"scene\":{\"xaxis\":{\"backgroundcolor\":\"#E5ECF6\",\"gridcolor\":\"white\",\"gridwidth\":2,\"linecolor\":\"white\",\"showbackground\":true,\"ticks\":\"\",\"zerolinecolor\":\"white\"},\"yaxis\":{\"backgroundcolor\":\"#E5ECF6\",\"gridcolor\":\"white\",\"gridwidth\":2,\"linecolor\":\"white\",\"showbackground\":true,\"ticks\":\"\",\"zerolinecolor\":\"white\"},\"zaxis\":{\"backgroundcolor\":\"#E5ECF6\",\"gridcolor\":\"white\",\"gridwidth\":2,\"linecolor\":\"white\",\"showbackground\":true,\"ticks\":\"\",\"zerolinecolor\":\"white\"}},\"shapedefaults\":{\"line\":{\"color\":\"#2a3f5f\"}},\"ternary\":{\"aaxis\":{\"gridcolor\":\"white\",\"linecolor\":\"white\",\"ticks\":\"\"},\"baxis\":{\"gridcolor\":\"white\",\"linecolor\":\"white\",\"ticks\":\"\"},\"bgcolor\":\"#E5ECF6\",\"caxis\":{\"gridcolor\":\"white\",\"linecolor\":\"white\",\"ticks\":\"\"}},\"title\":{\"x\":0.05},\"xaxis\":{\"automargin\":true,\"gridcolor\":\"white\",\"linecolor\":\"white\",\"ticks\":\"\",\"title\":{\"standoff\":15},\"zerolinecolor\":\"white\",\"zerolinewidth\":2},\"yaxis\":{\"automargin\":true,\"gridcolor\":\"white\",\"linecolor\":\"white\",\"ticks\":\"\",\"title\":{\"standoff\":15},\"zerolinecolor\":\"white\",\"zerolinewidth\":2}}},\"title\":{\"font\":{\"color\":\"blue\",\"size\":18},\"text\":\"Features Mean Comparison Per Cluster\",\"x\":0.5,\"xanchor\":\"center\",\"y\":0.95,\"yanchor\":\"top\"}},                        {\"responsive\": true}                    ).then(function(){\n",
              "                            \n",
              "var gd = document.getElementById('8ed4398b-168e-40a0-81a0-9ee7f013200a');\n",
              "var x = new MutationObserver(function (mutations, observer) {{\n",
              "        var display = window.getComputedStyle(gd).display;\n",
              "        if (!display || display === 'none') {{\n",
              "            console.log([gd, 'removed!']);\n",
              "            Plotly.purge(gd);\n",
              "            observer.disconnect();\n",
              "        }}\n",
              "}});\n",
              "\n",
              "// Listen for the removal of the full notebook cells\n",
              "var notebookContainer = gd.closest('#notebook-container');\n",
              "if (notebookContainer) {{\n",
              "    x.observe(notebookContainer, {childList: true});\n",
              "}}\n",
              "\n",
              "// Listen for the clearing of the current output cell\n",
              "var outputEl = gd.closest('.output');\n",
              "if (outputEl) {{\n",
              "    x.observe(outputEl, {childList: true});\n",
              "}}\n",
              "\n",
              "                        })                };                            </script>        </div>\n",
              "</body>\n",
              "</html>"
            ]
          },
          "metadata": {},
          "output_type": "display_data"
        }
      ],
      "source": [
        "plot_radars(kmeans_clusters_means_,group='kmeans_label')"
      ]
    },
    {
      "cell_type": "code",
      "execution_count": null,
      "metadata": {
        "id": "v_kJpjLK9J_6"
      },
      "outputs": [],
      "source": [
        "# explication texte des segments + action commerciale"
      ]
    },
    {
      "cell_type": "markdown",
      "metadata": {
        "id": "hw3MGMFEPuqe"
      },
      "source": [
        "###Hierarchical Clustering"
      ]
    },
    {
      "cell_type": "code",
      "execution_count": null,
      "metadata": {
        "id": "rH5Nngb-rd7n"
      },
      "outputs": [],
      "source": [
        "#CAH / DBScan : travail de recherche hyperparams (par rapport au silhouette score) \n",
        "#--> Interpréter les segments (pour pouvoir les présetner au client)\n",
        "#CAH : Ward distance (regroupement des observations via)\n",
        "  #Distance quadratique : Prendre un sous-échantillon"
      ]
    },
    {
      "cell_type": "code",
      "execution_count": null,
      "metadata": {
        "id": "dhMLrAghW9kb"
      },
      "outputs": [],
      "source": [
        "#Create a sample (as CAH is very resources consuming)\n",
        "data_cah = data.sample(frac=0.05, replace=True, random_state=1)"
      ]
    },
    {
      "cell_type": "markdown",
      "metadata": {
        "id": "d2v1CKArZlwH"
      },
      "source": [
        "We will use ward method to calculate distance between clusters. This method minimizes then variants of distances between the clusters."
      ]
    },
    {
      "cell_type": "code",
      "execution_count": null,
      "metadata": {
        "colab": {
          "base_uri": "https://localhost:8080/",
          "height": 459
        },
        "id": "SK6bAGIYW9wh",
        "outputId": "f9ca153c-152c-411c-cd89-2cfcf8402ea5"
      },
      "outputs": [
        {
          "data": {
            "image/png": "[encoded data removed]",
            "text/plain": [
              "<Figure size 720x504 with 1 Axes>"
            ]
          },
          "metadata": {},
          "output_type": "display_data"
        }
      ],
      "source": [
        "#Plot dendogram\n",
        "plt.figure(figsize=(10, 7))\n",
        "\n",
        "dend = shc.dendrogram(shc.linkage(data_cah, method='ward'))\n",
        "\n",
        "plt.title(\"Customer Dendogram\")\n",
        "plt.xlabel('Customers')\n",
        "plt.ylabel('Euclidean distances')\n",
        "\n",
        "plt.show()\n",
        "#ward : minimum variance method (i.e minimizes variance in clusters)"
      ]
    },
    {
      "cell_type": "markdown",
      "metadata": {
        "id": "M901FpEMJ2-Y"
      },
      "source": [
        "Optimal number of clusters can be find from the top, where we have the biggest vertical distance between horizontal bars."
      ]
    },
    {
      "cell_type": "code",
      "execution_count": null,
      "metadata": {
        "id": "Yhj5qeVCKP2A"
      },
      "outputs": [],
      "source": [
        "n_clusters_cah = 3"
      ]
    },
    {
      "cell_type": "markdown",
      "metadata": {
        "id": "nGpsf3E8Hhkr"
      },
      "source": [
        "Training the Hierarchical Clustering model on the dataset"
      ]
    },
    {
      "cell_type": "code",
      "execution_count": null,
      "metadata": {
        "id": "5D0c0iPoHehd"
      },
      "outputs": [],
      "source": [
        "hc = AgglomerativeClustering(n_clusters = n_clusters_cah, affinity = 'euclidean', linkage = 'ward')\n",
        "y_hc = hc.fit_predict(data_cah)"
      ]
    },
    {
      "cell_type": "code",
      "execution_count": null,
      "metadata": {
        "id": "pZ1ryJAsQRYu"
      },
      "outputs": [],
      "source": [
        "#Cluster statistical analysis\n",
        "hc_labels = hc.labels_\n",
        "\n",
        "# #Group by cluster labels\n",
        "data_cah[\"hc_labels\"] = hc_labels\n",
        "data_cah.drop(axis=1, columns='kmeans_label', inplace=True)\n",
        "\n",
        "hc_clusters_means = data_cah.groupby(\"hc_labels\").mean().reset_index()"
      ]
    },
    {
      "cell_type": "code",
      "execution_count": null,
      "metadata": {
        "colab": {
          "base_uri": "https://localhost:8080/",
          "height": 562
        },
        "id": "zX4J-viSH7Ii",
        "outputId": "bd0d6421-65a7-4170-cbb1-db28a6333c0f"
      },
      "outputs": [
        {
          "data": {
            "text/html": [
              "<html>\n",
              "<head><meta charset=\"utf-8\" /></head>\n",
              "<body>\n",
              "    <div>            <script src=\"https://cdnjs.cloudflare.com/ajax/libs/mathjax/2.7.5/MathJax.js?config=TeX-AMS-MML_SVG\"></script><script type=\"text/javascript\">if (window.MathJax) {MathJax.Hub.Config({SVG: {font: \"STIX-Web\"}});}</script>                <script type=\"text/javascript\">window.PlotlyConfig = {MathJaxConfig: 'local'};</script>\n",
              "        <script src=\"https://cdn.plot.ly/plotly-2.4.2.min.js\"></script>                <div id=\"2c7ce2ea-23ac-49fa-8e1e-8cdbf549ac98\" class=\"plotly-graph-div\" style=\"height:525px; width:100%;\"></div>            <script type=\"text/javascript\">                                    window.PLOTLYENV=window.PLOTLYENV || {};                                    if (document.getElementById(\"2c7ce2ea-23ac-49fa-8e1e-8cdbf549ac98\")) {                    Plotly.newPlot(                        \"2c7ce2ea-23ac-49fa-8e1e-8cdbf549ac98\",                        [{\"dimensions\":[{\"label\":\"recency\",\"values\":[374.5931216931217,186.15642458100558,119.41206977840642]},{\"label\":\"monetary\",\"values\":[124.19421781305125,491.6477234636873,101.90922835140657]},{\"label\":\"delivery_timing\",\"values\":[11.31904761904762,11.664804469273744,10.110953952538113]},{\"label\":\"review_score\",\"values\":[4.185670194003528,4.143854748603352,4.23082665409398]},{\"label\":\"order_item_id\",\"values\":[1.3100529100529101,1.8044692737430168,1.2536539368222537]}],\"domain\":{\"x\":[0.0,1.0],\"y\":[0.0,1.0]},\"line\":{\"color\":[0,1,2],\"coloraxis\":\"coloraxis\"},\"name\":\"\",\"type\":\"parcoords\"}],                        {\"coloraxis\":{\"cmid\":2,\"colorbar\":{\"title\":{\"text\":\"hc_labels\"}},\"colorscale\":[[0.0,\"#0d0887\"],[0.1111111111111111,\"#46039f\"],[0.2222222222222222,\"#7201a8\"],[0.3333333333333333,\"#9c179e\"],[0.4444444444444444,\"#bd3786\"],[0.5555555555555556,\"#d8576b\"],[0.6666666666666666,\"#ed7953\"],[0.7777777777777778,\"#fb9f3a\"],[0.8888888888888888,\"#fdca26\"],[1.0,\"#f0f921\"]]},\"legend\":{\"tracegroupgap\":0},\"margin\":{\"t\":60},\"template\":{\"data\":{\"bar\":[{\"error_x\":{\"color\":\"#2a3f5f\"},\"error_y\":{\"color\":\"#2a3f5f\"},\"marker\":{\"line\":{\"color\":\"#E5ECF6\",\"width\":0.5},\"pattern\":{\"fillmode\":\"overlay\",\"size\":10,\"solidity\":0.2}},\"type\":\"bar\"}],\"barpolar\":[{\"marker\":{\"line\":{\"color\":\"#E5ECF6\",\"width\":0.5},\"pattern\":{\"fillmode\":\"overlay\",\"size\":10,\"solidity\":0.2}},\"type\":\"barpolar\"}],\"carpet\":[{\"aaxis\":{\"endlinecolor\":\"#2a3f5f\",\"gridcolor\":\"white\",\"linecolor\":\"white\",\"minorgridcolor\":\"white\",\"startlinecolor\":\"#2a3f5f\"},\"baxis\":{\"endlinecolor\":\"#2a3f5f\",\"gridcolor\":\"white\",\"linecolor\":\"white\",\"minorgridcolor\":\"white\",\"startlinecolor\":\"#2a3f5f\"},\"type\":\"carpet\"}],\"choropleth\":[{\"colorbar\":{\"outlinewidth\":0,\"ticks\":\"\"},\"type\":\"choropleth\"}],\"contour\":[{\"colorbar\":{\"outlinewidth\":0,\"ticks\":\"\"},\"colorscale\":[[0.0,\"#0d0887\"],[0.1111111111111111,\"#46039f\"],[0.2222222222222222,\"#7201a8\"],[0.3333333333333333,\"#9c179e\"],[0.4444444444444444,\"#bd3786\"],[0.5555555555555556,\"#d8576b\"],[0.6666666666666666,\"#ed7953\"],[0.7777777777777778,\"#fb9f3a\"],[0.8888888888888888,\"#fdca26\"],[1.0,\"#f0f921\"]],\"type\":\"contour\"}],\"contourcarpet\":[{\"colorbar\":{\"outlinewidth\":0,\"ticks\":\"\"},\"type\":\"contourcarpet\"}],\"heatmap\":[{\"colorbar\":{\"outlinewidth\":0,\"ticks\":\"\"},\"colorscale\":[[0.0,\"#0d0887\"],[0.1111111111111111,\"#46039f\"],[0.2222222222222222,\"#7201a8\"],[0.3333333333333333,\"#9c179e\"],[0.4444444444444444,\"#bd3786\"],[0.5555555555555556,\"#d8576b\"],[0.6666666666666666,\"#ed7953\"],[0.7777777777777778,\"#fb9f3a\"],[0.8888888888888888,\"#fdca26\"],[1.0,\"#f0f921\"]],\"type\":\"heatmap\"}],\"heatmapgl\":[{\"colorbar\":{\"outlinewidth\":0,\"ticks\":\"\"},\"colorscale\":[[0.0,\"#0d0887\"],[0.1111111111111111,\"#46039f\"],[0.2222222222222222,\"#7201a8\"],[0.3333333333333333,\"#9c179e\"],[0.4444444444444444,\"#bd3786\"],[0.5555555555555556,\"#d8576b\"],[0.6666666666666666,\"#ed7953\"],[0.7777777777777778,\"#fb9f3a\"],[0.8888888888888888,\"#fdca26\"],[1.0,\"#f0f921\"]],\"type\":\"heatmapgl\"}],\"histogram\":[{\"marker\":{\"pattern\":{\"fillmode\":\"overlay\",\"size\":10,\"solidity\":0.2}},\"type\":\"histogram\"}],\"histogram2d\":[{\"colorbar\":{\"outlinewidth\":0,\"ticks\":\"\"},\"colorscale\":[[0.0,\"#0d0887\"],[0.1111111111111111,\"#46039f\"],[0.2222222222222222,\"#7201a8\"],[0.3333333333333333,\"#9c179e\"],[0.4444444444444444,\"#bd3786\"],[0.5555555555555556,\"#d8576b\"],[0.6666666666666666,\"#ed7953\"],[0.7777777777777778,\"#fb9f3a\"],[0.8888888888888888,\"#fdca26\"],[1.0,\"#f0f921\"]],\"type\":\"histogram2d\"}],\"histogram2dcontour\":[{\"colorbar\":{\"outlinewidth\":0,\"ticks\":\"\"},\"colorscale\":[[0.0,\"#0d0887\"],[0.1111111111111111,\"#46039f\"],[0.2222222222222222,\"#7201a8\"],[0.3333333333333333,\"#9c179e\"],[0.4444444444444444,\"#bd3786\"],[0.5555555555555556,\"#d8576b\"],[0.6666666666666666,\"#ed7953\"],[0.7777777777777778,\"#fb9f3a\"],[0.8888888888888888,\"#fdca26\"],[1.0,\"#f0f921\"]],\"type\":\"histogram2dcontour\"}],\"mesh3d\":[{\"colorbar\":{\"outlinewidth\":0,\"ticks\":\"\"},\"type\":\"mesh3d\"}],\"parcoords\":[{\"line\":{\"colorbar\":{\"outlinewidth\":0,\"ticks\":\"\"}},\"type\":\"parcoords\"}],\"pie\":[{\"automargin\":true,\"type\":\"pie\"}],\"scatter\":[{\"marker\":{\"colorbar\":{\"outlinewidth\":0,\"ticks\":\"\"}},\"type\":\"scatter\"}],\"scatter3d\":[{\"line\":{\"colorbar\":{\"outlinewidth\":0,\"ticks\":\"\"}},\"marker\":{\"colorbar\":{\"outlinewidth\":0,\"ticks\":\"\"}},\"type\":\"scatter3d\"}],\"scattercarpet\":[{\"marker\":{\"colorbar\":{\"outlinewidth\":0,\"ticks\":\"\"}},\"type\":\"scattercarpet\"}],\"scattergeo\":[{\"marker\":{\"colorbar\":{\"outlinewidth\":0,\"ticks\":\"\"}},\"type\":\"scattergeo\"}],\"scattergl\":[{\"marker\":{\"colorbar\":{\"outlinewidth\":0,\"ticks\":\"\"}},\"type\":\"scattergl\"}],\"scattermapbox\":[{\"marker\":{\"colorbar\":{\"outlinewidth\":0,\"ticks\":\"\"}},\"type\":\"scattermapbox\"}],\"scatterpolar\":[{\"marker\":{\"colorbar\":{\"outlinewidth\":0,\"ticks\":\"\"}},\"type\":\"scatterpolar\"}],\"scatterpolargl\":[{\"marker\":{\"colorbar\":{\"outlinewidth\":0,\"ticks\":\"\"}},\"type\":\"scatterpolargl\"}],\"scatterternary\":[{\"marker\":{\"colorbar\":{\"outlinewidth\":0,\"ticks\":\"\"}},\"type\":\"scatterternary\"}],\"surface\":[{\"colorbar\":{\"outlinewidth\":0,\"ticks\":\"\"},\"colorscale\":[[0.0,\"#0d0887\"],[0.1111111111111111,\"#46039f\"],[0.2222222222222222,\"#7201a8\"],[0.3333333333333333,\"#9c179e\"],[0.4444444444444444,\"#bd3786\"],[0.5555555555555556,\"#d8576b\"],[0.6666666666666666,\"#ed7953\"],[0.7777777777777778,\"#fb9f3a\"],[0.8888888888888888,\"#fdca26\"],[1.0,\"#f0f921\"]],\"type\":\"surface\"}],\"table\":[{\"cells\":{\"fill\":{\"color\":\"#EBF0F8\"},\"line\":{\"color\":\"white\"}},\"header\":{\"fill\":{\"color\":\"#C8D4E3\"},\"line\":{\"color\":\"white\"}},\"type\":\"table\"}]},\"layout\":{\"annotationdefaults\":{\"arrowcolor\":\"#2a3f5f\",\"arrowhead\":0,\"arrowwidth\":1},\"autotypenumbers\":\"strict\",\"coloraxis\":{\"colorbar\":{\"outlinewidth\":0,\"ticks\":\"\"}},\"colorscale\":{\"diverging\":[[0,\"#8e0152\"],[0.1,\"#c51b7d\"],[0.2,\"#de77ae\"],[0.3,\"#f1b6da\"],[0.4,\"#fde0ef\"],[0.5,\"#f7f7f7\"],[0.6,\"#e6f5d0\"],[0.7,\"#b8e186\"],[0.8,\"#7fbc41\"],[0.9,\"#4d9221\"],[1,\"#276419\"]],\"sequential\":[[0.0,\"#0d0887\"],[0.1111111111111111,\"#46039f\"],[0.2222222222222222,\"#7201a8\"],[0.3333333333333333,\"#9c179e\"],[0.4444444444444444,\"#bd3786\"],[0.5555555555555556,\"#d8576b\"],[0.6666666666666666,\"#ed7953\"],[0.7777777777777778,\"#fb9f3a\"],[0.8888888888888888,\"#fdca26\"],[1.0,\"#f0f921\"]],\"sequentialminus\":[[0.0,\"#0d0887\"],[0.1111111111111111,\"#46039f\"],[0.2222222222222222,\"#7201a8\"],[0.3333333333333333,\"#9c179e\"],[0.4444444444444444,\"#bd3786\"],[0.5555555555555556,\"#d8576b\"],[0.6666666666666666,\"#ed7953\"],[0.7777777777777778,\"#fb9f3a\"],[0.8888888888888888,\"#fdca26\"],[1.0,\"#f0f921\"]]},\"colorway\":[\"#636efa\",\"#EF553B\",\"#00cc96\",\"#ab63fa\",\"#FFA15A\",\"#19d3f3\",\"#FF6692\",\"#B6E880\",\"#FF97FF\",\"#FECB52\"],\"font\":{\"color\":\"#2a3f5f\"},\"geo\":{\"bgcolor\":\"white\",\"lakecolor\":\"white\",\"landcolor\":\"#E5ECF6\",\"showlakes\":true,\"showland\":true,\"subunitcolor\":\"white\"},\"hoverlabel\":{\"align\":\"left\"},\"hovermode\":\"closest\",\"mapbox\":{\"style\":\"light\"},\"paper_bgcolor\":\"white\",\"plot_bgcolor\":\"#E5ECF6\",\"polar\":{\"angularaxis\":{\"gridcolor\":\"white\",\"linecolor\":\"white\",\"ticks\":\"\"},\"bgcolor\":\"#E5ECF6\",\"radialaxis\":{\"gridcolor\":\"white\",\"linecolor\":\"white\",\"ticks\":\"\"}},\"scene\":{\"xaxis\":{\"backgroundcolor\":\"#E5ECF6\",\"gridcolor\":\"white\",\"gridwidth\":2,\"linecolor\":\"white\",\"showbackground\":true,\"ticks\":\"\",\"zerolinecolor\":\"white\"},\"yaxis\":{\"backgroundcolor\":\"#E5ECF6\",\"gridcolor\":\"white\",\"gridwidth\":2,\"linecolor\":\"white\",\"showbackground\":true,\"ticks\":\"\",\"zerolinecolor\":\"white\"},\"zaxis\":{\"backgroundcolor\":\"#E5ECF6\",\"gridcolor\":\"white\",\"gridwidth\":2,\"linecolor\":\"white\",\"showbackground\":true,\"ticks\":\"\",\"zerolinecolor\":\"white\"}},\"shapedefaults\":{\"line\":{\"color\":\"#2a3f5f\"}},\"ternary\":{\"aaxis\":{\"gridcolor\":\"white\",\"linecolor\":\"white\",\"ticks\":\"\"},\"baxis\":{\"gridcolor\":\"white\",\"linecolor\":\"white\",\"ticks\":\"\"},\"bgcolor\":\"#E5ECF6\",\"caxis\":{\"gridcolor\":\"white\",\"linecolor\":\"white\",\"ticks\":\"\"}},\"title\":{\"x\":0.05},\"xaxis\":{\"automargin\":true,\"gridcolor\":\"white\",\"linecolor\":\"white\",\"ticks\":\"\",\"title\":{\"standoff\":15},\"zerolinecolor\":\"white\",\"zerolinewidth\":2},\"yaxis\":{\"automargin\":true,\"gridcolor\":\"white\",\"linecolor\":\"white\",\"ticks\":\"\",\"title\":{\"standoff\":15},\"zerolinecolor\":\"white\",\"zerolinewidth\":2}}}},                        {\"responsive\": true}                    ).then(function(){\n",
              "                            \n",
              "var gd = document.getElementById('2c7ce2ea-23ac-49fa-8e1e-8cdbf549ac98');\n",
              "var x = new MutationObserver(function (mutations, observer) {{\n",
              "        var display = window.getComputedStyle(gd).display;\n",
              "        if (!display || display === 'none') {{\n",
              "            console.log([gd, 'removed!']);\n",
              "            Plotly.purge(gd);\n",
              "            observer.disconnect();\n",
              "        }}\n",
              "}});\n",
              "\n",
              "// Listen for the removal of the full notebook cells\n",
              "var notebookContainer = gd.closest('#notebook-container');\n",
              "if (notebookContainer) {{\n",
              "    x.observe(notebookContainer, {childList: true});\n",
              "}}\n",
              "\n",
              "// Listen for the clearing of the current output cell\n",
              "var outputEl = gd.closest('.output');\n",
              "if (outputEl) {{\n",
              "    x.observe(outputEl, {childList: true});\n",
              "}}\n",
              "\n",
              "                        })                };                            </script>        </div>\n",
              "</body>\n",
              "</html>"
            ]
          },
          "metadata": {},
          "output_type": "display_data"
        }
      ],
      "source": [
        "#graphical clusters interpretation\n",
        "fig = px.parallel_coordinates(hc_clusters_means, color=\"hc_labels\",\n",
        "                              dimensions=['recency',\n",
        "                                          'monetary',\n",
        "                                          'delivery_timing',\n",
        "                                          'review_score',\n",
        "                                          'order_item_id'],\n",
        "                              color_continuous_midpoint=2)\n",
        "fig.show()"
      ]
    },
    {
      "cell_type": "code",
      "execution_count": null,
      "metadata": {
        "colab": {
          "base_uri": "https://localhost:8080/",
          "height": 562
        },
        "id": "K58T9gfGxnvX",
        "outputId": "108646f6-7692-4d53-bb6e-d6fe98941185"
      },
      "outputs": [
        {
          "data": {
            "text/html": [
              "<html>\n",
              "<head><meta charset=\"utf-8\" /></head>\n",
              "<body>\n",
              "    <div>            <script src=\"https://cdnjs.cloudflare.com/ajax/libs/mathjax/2.7.5/MathJax.js?config=TeX-AMS-MML_SVG\"></script><script type=\"text/javascript\">if (window.MathJax) {MathJax.Hub.Config({SVG: {font: \"STIX-Web\"}});}</script>                <script type=\"text/javascript\">window.PlotlyConfig = {MathJaxConfig: 'local'};</script>\n",
              "        <script src=\"https://cdn.plot.ly/plotly-2.4.2.min.js\"></script>                <div id=\"438917ed-4b10-4b29-be23-7b485fb29502\" class=\"plotly-graph-div\" style=\"height:525px; width:100%;\"></div>            <script type=\"text/javascript\">                                    window.PLOTLYENV=window.PLOTLYENV || {};                                    if (document.getElementById(\"438917ed-4b10-4b29-be23-7b485fb29502\")) {                    Plotly.newPlot(                        \"438917ed-4b10-4b29-be23-7b485fb29502\",                        [{\"fill\":\"toself\",\"name\":\"Cluster 0\",\"r\":[0.777483839981918,0.48079256357883793,0.10239179893926886,1.0,0.05717933881595283],\"theta\":[\"delivery_timing\",\"review_score\",\"order_item_id\",\"recency\",\"monetary\"],\"type\":\"scatterpolar\"},{\"fill\":\"toself\",\"name\":\"Cluster 1\",\"r\":[0.9999999999999991,0.0,1.0,0.26155686051841326,0.9999999999999998],\"theta\":[\"delivery_timing\",\"review_score\",\"order_item_id\",\"recency\",\"monetary\"],\"type\":\"scatterpolar\"},{\"fill\":\"toself\",\"name\":\"Cluster 2\",\"r\":[0.0,1.0,0.0,0.0,0.0],\"theta\":[\"delivery_timing\",\"review_score\",\"order_item_id\",\"recency\",\"monetary\"],\"type\":\"scatterpolar\"}],                        {\"polar\":{\"radialaxis\":{\"range\":[0,1],\"visible\":true}},\"showlegend\":true,\"template\":{\"data\":{\"bar\":[{\"error_x\":{\"color\":\"#2a3f5f\"},\"error_y\":{\"color\":\"#2a3f5f\"},\"marker\":{\"line\":{\"color\":\"#E5ECF6\",\"width\":0.5},\"pattern\":{\"fillmode\":\"overlay\",\"size\":10,\"solidity\":0.2}},\"type\":\"bar\"}],\"barpolar\":[{\"marker\":{\"line\":{\"color\":\"#E5ECF6\",\"width\":0.5},\"pattern\":{\"fillmode\":\"overlay\",\"size\":10,\"solidity\":0.2}},\"type\":\"barpolar\"}],\"carpet\":[{\"aaxis\":{\"endlinecolor\":\"#2a3f5f\",\"gridcolor\":\"white\",\"linecolor\":\"white\",\"minorgridcolor\":\"white\",\"startlinecolor\":\"#2a3f5f\"},\"baxis\":{\"endlinecolor\":\"#2a3f5f\",\"gridcolor\":\"white\",\"linecolor\":\"white\",\"minorgridcolor\":\"white\",\"startlinecolor\":\"#2a3f5f\"},\"type\":\"carpet\"}],\"choropleth\":[{\"colorbar\":{\"outlinewidth\":0,\"ticks\":\"\"},\"type\":\"choropleth\"}],\"contour\":[{\"colorbar\":{\"outlinewidth\":0,\"ticks\":\"\"},\"colorscale\":[[0.0,\"#0d0887\"],[0.1111111111111111,\"#46039f\"],[0.2222222222222222,\"#7201a8\"],[0.3333333333333333,\"#9c179e\"],[0.4444444444444444,\"#bd3786\"],[0.5555555555555556,\"#d8576b\"],[0.6666666666666666,\"#ed7953\"],[0.7777777777777778,\"#fb9f3a\"],[0.8888888888888888,\"#fdca26\"],[1.0,\"#f0f921\"]],\"type\":\"contour\"}],\"contourcarpet\":[{\"colorbar\":{\"outlinewidth\":0,\"ticks\":\"\"},\"type\":\"contourcarpet\"}],\"heatmap\":[{\"colorbar\":{\"outlinewidth\":0,\"ticks\":\"\"},\"colorscale\":[[0.0,\"#0d0887\"],[0.1111111111111111,\"#46039f\"],[0.2222222222222222,\"#7201a8\"],[0.3333333333333333,\"#9c179e\"],[0.4444444444444444,\"#bd3786\"],[0.5555555555555556,\"#d8576b\"],[0.6666666666666666,\"#ed7953\"],[0.7777777777777778,\"#fb9f3a\"],[0.8888888888888888,\"#fdca26\"],[1.0,\"#f0f921\"]],\"type\":\"heatmap\"}],\"heatmapgl\":[{\"colorbar\":{\"outlinewidth\":0,\"ticks\":\"\"},\"colorscale\":[[0.0,\"#0d0887\"],[0.1111111111111111,\"#46039f\"],[0.2222222222222222,\"#7201a8\"],[0.3333333333333333,\"#9c179e\"],[0.4444444444444444,\"#bd3786\"],[0.5555555555555556,\"#d8576b\"],[0.6666666666666666,\"#ed7953\"],[0.7777777777777778,\"#fb9f3a\"],[0.8888888888888888,\"#fdca26\"],[1.0,\"#f0f921\"]],\"type\":\"heatmapgl\"}],\"histogram\":[{\"marker\":{\"pattern\":{\"fillmode\":\"overlay\",\"size\":10,\"solidity\":0.2}},\"type\":\"histogram\"}],\"histogram2d\":[{\"colorbar\":{\"outlinewidth\":0,\"ticks\":\"\"},\"colorscale\":[[0.0,\"#0d0887\"],[0.1111111111111111,\"#46039f\"],[0.2222222222222222,\"#7201a8\"],[0.3333333333333333,\"#9c179e\"],[0.4444444444444444,\"#bd3786\"],[0.5555555555555556,\"#d8576b\"],[0.6666666666666666,\"#ed7953\"],[0.7777777777777778,\"#fb9f3a\"],[0.8888888888888888,\"#fdca26\"],[1.0,\"#f0f921\"]],\"type\":\"histogram2d\"}],\"histogram2dcontour\":[{\"colorbar\":{\"outlinewidth\":0,\"ticks\":\"\"},\"colorscale\":[[0.0,\"#0d0887\"],[0.1111111111111111,\"#46039f\"],[0.2222222222222222,\"#7201a8\"],[0.3333333333333333,\"#9c179e\"],[0.4444444444444444,\"#bd3786\"],[0.5555555555555556,\"#d8576b\"],[0.6666666666666666,\"#ed7953\"],[0.7777777777777778,\"#fb9f3a\"],[0.8888888888888888,\"#fdca26\"],[1.0,\"#f0f921\"]],\"type\":\"histogram2dcontour\"}],\"mesh3d\":[{\"colorbar\":{\"outlinewidth\":0,\"ticks\":\"\"},\"type\":\"mesh3d\"}],\"parcoords\":[{\"line\":{\"colorbar\":{\"outlinewidth\":0,\"ticks\":\"\"}},\"type\":\"parcoords\"}],\"pie\":[{\"automargin\":true,\"type\":\"pie\"}],\"scatter\":[{\"marker\":{\"colorbar\":{\"outlinewidth\":0,\"ticks\":\"\"}},\"type\":\"scatter\"}],\"scatter3d\":[{\"line\":{\"colorbar\":{\"outlinewidth\":0,\"ticks\":\"\"}},\"marker\":{\"colorbar\":{\"outlinewidth\":0,\"ticks\":\"\"}},\"type\":\"scatter3d\"}],\"scattercarpet\":[{\"marker\":{\"colorbar\":{\"outlinewidth\":0,\"ticks\":\"\"}},\"type\":\"scattercarpet\"}],\"scattergeo\":[{\"marker\":{\"colorbar\":{\"outlinewidth\":0,\"ticks\":\"\"}},\"type\":\"scattergeo\"}],\"scattergl\":[{\"marker\":{\"colorbar\":{\"outlinewidth\":0,\"ticks\":\"\"}},\"type\":\"scattergl\"}],\"scattermapbox\":[{\"marker\":{\"colorbar\":{\"outlinewidth\":0,\"ticks\":\"\"}},\"type\":\"scattermapbox\"}],\"scatterpolar\":[{\"marker\":{\"colorbar\":{\"outlinewidth\":0,\"ticks\":\"\"}},\"type\":\"scatterpolar\"}],\"scatterpolargl\":[{\"marker\":{\"colorbar\":{\"outlinewidth\":0,\"ticks\":\"\"}},\"type\":\"scatterpolargl\"}],\"scatterternary\":[{\"marker\":{\"colorbar\":{\"outlinewidth\":0,\"ticks\":\"\"}},\"type\":\"scatterternary\"}],\"surface\":[{\"colorbar\":{\"outlinewidth\":0,\"ticks\":\"\"},\"colorscale\":[[0.0,\"#0d0887\"],[0.1111111111111111,\"#46039f\"],[0.2222222222222222,\"#7201a8\"],[0.3333333333333333,\"#9c179e\"],[0.4444444444444444,\"#bd3786\"],[0.5555555555555556,\"#d8576b\"],[0.6666666666666666,\"#ed7953\"],[0.7777777777777778,\"#fb9f3a\"],[0.8888888888888888,\"#fdca26\"],[1.0,\"#f0f921\"]],\"type\":\"surface\"}],\"table\":[{\"cells\":{\"fill\":{\"color\":\"#EBF0F8\"},\"line\":{\"color\":\"white\"}},\"header\":{\"fill\":{\"color\":\"#C8D4E3\"},\"line\":{\"color\":\"white\"}},\"type\":\"table\"}]},\"layout\":{\"annotationdefaults\":{\"arrowcolor\":\"#2a3f5f\",\"arrowhead\":0,\"arrowwidth\":1},\"autotypenumbers\":\"strict\",\"coloraxis\":{\"colorbar\":{\"outlinewidth\":0,\"ticks\":\"\"}},\"colorscale\":{\"diverging\":[[0,\"#8e0152\"],[0.1,\"#c51b7d\"],[0.2,\"#de77ae\"],[0.3,\"#f1b6da\"],[0.4,\"#fde0ef\"],[0.5,\"#f7f7f7\"],[0.6,\"#e6f5d0\"],[0.7,\"#b8e186\"],[0.8,\"#7fbc41\"],[0.9,\"#4d9221\"],[1,\"#276419\"]],\"sequential\":[[0.0,\"#0d0887\"],[0.1111111111111111,\"#46039f\"],[0.2222222222222222,\"#7201a8\"],[0.3333333333333333,\"#9c179e\"],[0.4444444444444444,\"#bd3786\"],[0.5555555555555556,\"#d8576b\"],[0.6666666666666666,\"#ed7953\"],[0.7777777777777778,\"#fb9f3a\"],[0.8888888888888888,\"#fdca26\"],[1.0,\"#f0f921\"]],\"sequentialminus\":[[0.0,\"#0d0887\"],[0.1111111111111111,\"#46039f\"],[0.2222222222222222,\"#7201a8\"],[0.3333333333333333,\"#9c179e\"],[0.4444444444444444,\"#bd3786\"],[0.5555555555555556,\"#d8576b\"],[0.6666666666666666,\"#ed7953\"],[0.7777777777777778,\"#fb9f3a\"],[0.8888888888888888,\"#fdca26\"],[1.0,\"#f0f921\"]]},\"colorway\":[\"#636efa\",\"#EF553B\",\"#00cc96\",\"#ab63fa\",\"#FFA15A\",\"#19d3f3\",\"#FF6692\",\"#B6E880\",\"#FF97FF\",\"#FECB52\"],\"font\":{\"color\":\"#2a3f5f\"},\"geo\":{\"bgcolor\":\"white\",\"lakecolor\":\"white\",\"landcolor\":\"#E5ECF6\",\"showlakes\":true,\"showland\":true,\"subunitcolor\":\"white\"},\"hoverlabel\":{\"align\":\"left\"},\"hovermode\":\"closest\",\"mapbox\":{\"style\":\"light\"},\"paper_bgcolor\":\"white\",\"plot_bgcolor\":\"#E5ECF6\",\"polar\":{\"angularaxis\":{\"gridcolor\":\"white\",\"linecolor\":\"white\",\"ticks\":\"\"},\"bgcolor\":\"#E5ECF6\",\"radialaxis\":{\"gridcolor\":\"white\",\"linecolor\":\"white\",\"ticks\":\"\"}},\"scene\":{\"xaxis\":{\"backgroundcolor\":\"#E5ECF6\",\"gridcolor\":\"white\",\"gridwidth\":2,\"linecolor\":\"white\",\"showbackground\":true,\"ticks\":\"\",\"zerolinecolor\":\"white\"},\"yaxis\":{\"backgroundcolor\":\"#E5ECF6\",\"gridcolor\":\"white\",\"gridwidth\":2,\"linecolor\":\"white\",\"showbackground\":true,\"ticks\":\"\",\"zerolinecolor\":\"white\"},\"zaxis\":{\"backgroundcolor\":\"#E5ECF6\",\"gridcolor\":\"white\",\"gridwidth\":2,\"linecolor\":\"white\",\"showbackground\":true,\"ticks\":\"\",\"zerolinecolor\":\"white\"}},\"shapedefaults\":{\"line\":{\"color\":\"#2a3f5f\"}},\"ternary\":{\"aaxis\":{\"gridcolor\":\"white\",\"linecolor\":\"white\",\"ticks\":\"\"},\"baxis\":{\"gridcolor\":\"white\",\"linecolor\":\"white\",\"ticks\":\"\"},\"bgcolor\":\"#E5ECF6\",\"caxis\":{\"gridcolor\":\"white\",\"linecolor\":\"white\",\"ticks\":\"\"}},\"title\":{\"x\":0.05},\"xaxis\":{\"automargin\":true,\"gridcolor\":\"white\",\"linecolor\":\"white\",\"ticks\":\"\",\"title\":{\"standoff\":15},\"zerolinecolor\":\"white\",\"zerolinewidth\":2},\"yaxis\":{\"automargin\":true,\"gridcolor\":\"white\",\"linecolor\":\"white\",\"ticks\":\"\",\"title\":{\"standoff\":15},\"zerolinecolor\":\"white\",\"zerolinewidth\":2}}},\"title\":{\"font\":{\"color\":\"blue\",\"size\":18},\"text\":\"Features Mean Comparison Per Cluster\",\"x\":0.5,\"xanchor\":\"center\",\"y\":0.95,\"yanchor\":\"top\"}},                        {\"responsive\": true}                    ).then(function(){\n",
              "                            \n",
              "var gd = document.getElementById('438917ed-4b10-4b29-be23-7b485fb29502');\n",
              "var x = new MutationObserver(function (mutations, observer) {{\n",
              "        var display = window.getComputedStyle(gd).display;\n",
              "        if (!display || display === 'none') {{\n",
              "            console.log([gd, 'removed!']);\n",
              "            Plotly.purge(gd);\n",
              "            observer.disconnect();\n",
              "        }}\n",
              "}});\n",
              "\n",
              "// Listen for the removal of the full notebook cells\n",
              "var notebookContainer = gd.closest('#notebook-container');\n",
              "if (notebookContainer) {{\n",
              "    x.observe(notebookContainer, {childList: true});\n",
              "}}\n",
              "\n",
              "// Listen for the clearing of the current output cell\n",
              "var outputEl = gd.closest('.output');\n",
              "if (outputEl) {{\n",
              "    x.observe(outputEl, {childList: true});\n",
              "}}\n",
              "\n",
              "                        })                };                            </script>        </div>\n",
              "</body>\n",
              "</html>"
            ]
          },
          "metadata": {},
          "output_type": "display_data"
        }
      ],
      "source": [
        "hc_clusters_means = data_cah.groupby(\"hc_labels\").mean()\n",
        "\n",
        "plot_radars(hc_clusters_means,group='hc_labels')"
      ]
    },
    {
      "cell_type": "code",
      "execution_count": null,
      "metadata": {
        "id": "LUt7ghKqWK4W"
      },
      "outputs": [],
      "source": [
        "#Possibilité : utiliser CAH pour prédire sur une partie de la population (ici sample 5%) --> ça nous définit des labels \n",
        "#--> passer en mode supervisé et utiliser par exemple knn pour prédire sur l'ensemble de la population à partir des clusters définis par CAH. "
      ]
    },
    {
      "cell_type": "markdown",
      "metadata": {
        "id": "38gdDE3-R9yy"
      },
      "source": [
        "###DBSCAN"
      ]
    },
    {
      "cell_type": "markdown",
      "metadata": {
        "id": "wQlR0RASgRNp"
      },
      "source": [
        "https://shritam.medium.com/how-dbscan-algorithm-works-2b5bef80fb3\n"
      ]
    },
    {
      "cell_type": "markdown",
      "metadata": {
        "id": "1ooPUCDojwLt"
      },
      "source": [
        "DBSCAN : Density-based spatial clustering of applications with noise"
      ]
    },
    {
      "cell_type": "markdown",
      "metadata": {
        "id": "uoWZ0J74jyo3"
      },
      "source": [
        "DBSCAN algorithm basically requires 2 parameters:\n",
        "* **eps**: specifies how close points should be to each other to be considered a part of a cluster. It means that if the distance between two points is lower or equal to this value (eps), these points are considered to be neighbors.\n",
        "\n",
        "* **minPoints**: the minimum number of points to form a dense region. For example, if we set the minPoints parameter as 5, then we need at least 5 points to form a dense region. It’s basically known as min_samples."
      ]
    },
    {
      "cell_type": "code",
      "execution_count": null,
      "metadata": {
        "colab": {
          "base_uri": "https://localhost:8080/",
          "height": 1000
        },
        "id": "XoN8cLBmR9Oq",
        "outputId": "4013ff22-37de-4c7a-b36c-11dfb1c2b12c"
      },
      "outputs": [
        {
          "name": "stdout",
          "output_type": "stream",
          "text": [
            "epsilon: 0.5\n",
            "min_samples: 5\n",
            "Estimated number of clusters: 0\n",
            "Estimated number of noise points: 87386\n",
            "100%\n",
            "Single or No Cluster. No Silhouette Score can be footed.\n",
            "\n",
            "epsilon: 1.6\n",
            "min_samples: 5\n",
            "Estimated number of clusters: 610\n",
            "Estimated number of noise points: 82682\n",
            "Estimated percentage of noise: 0.946\n",
            "Silhouette Score: -0.793 \n",
            "\n",
            "epsilon: 2.6\n",
            "min_samples: 5\n",
            "Estimated number of clusters: 1525\n",
            "Estimated number of noise points: 52087\n",
            "Estimated percentage of noise: 0.596\n",
            "Silhouette Score: -0.617 \n",
            "\n",
            "epsilon: 3.7\n",
            "min_samples: 5\n",
            "Estimated number of clusters: 641\n",
            "Estimated number of noise points: 27089\n",
            "Estimated percentage of noise: 0.310\n",
            "Silhouette Score: -0.794 \n",
            "\n",
            "epsilon: 4.7\n",
            "min_samples: 5\n",
            "Estimated number of clusters: 335\n",
            "Estimated number of noise points: 14613\n",
            "Estimated percentage of noise: 0.167\n",
            "Silhouette Score: -0.804 \n",
            "\n",
            "epsilon: 5.8\n",
            "min_samples: 5\n",
            "Estimated number of clusters: 264\n",
            "Estimated number of noise points: 8968\n",
            "Estimated percentage of noise: 0.103\n",
            "Silhouette Score: -0.723 \n",
            "\n",
            "epsilon: 6.8\n",
            "min_samples: 5\n",
            "Estimated number of clusters: 179\n",
            "Estimated number of noise points: 5831\n",
            "Estimated percentage of noise: 0.067\n",
            "Silhouette Score: -0.419 \n",
            "\n",
            "epsilon: 7.9\n",
            "min_samples: 5\n",
            "Estimated number of clusters: 151\n",
            "Estimated number of noise points: 3962\n",
            "Estimated percentage of noise: 0.045\n",
            "Silhouette Score: -0.254 \n",
            "\n",
            "epsilon: 8.9\n",
            "min_samples: 5\n",
            "Estimated number of clusters: 119\n",
            "Estimated number of noise points: 2798\n",
            "Estimated percentage of noise: 0.032\n",
            "Silhouette Score: 0.043 \n",
            "\n",
            "epsilon: 10.0\n",
            "min_samples: 5\n",
            "Estimated number of clusters: 117\n",
            "Estimated number of noise points: 1989\n",
            "Estimated percentage of noise: 0.023\n",
            "Silhouette Score: 0.228 \n",
            "\n",
            "epsilon: 0.5\n",
            "min_samples: 8\n",
            "Estimated number of clusters: 0\n",
            "Estimated number of noise points: 87386\n",
            "100%\n",
            "Single or No Cluster. No Silhouette Score can be footed.\n",
            "\n",
            "epsilon: 1.6\n",
            "min_samples: 8\n",
            "Estimated number of clusters: 32\n",
            "Estimated number of noise points: 87000\n",
            "Estimated percentage of noise: 0.996\n",
            "Silhouette Score: -0.613 \n",
            "\n",
            "epsilon: 2.6\n",
            "min_samples: 8\n",
            "Estimated number of clusters: 505\n",
            "Estimated number of noise points: 71891\n",
            "Estimated percentage of noise: 0.823\n",
            "Silhouette Score: -0.685 \n",
            "\n",
            "epsilon: 3.7\n",
            "min_samples: 8\n",
            "Estimated number of clusters: 324\n",
            "Estimated number of noise points: 40567\n",
            "Estimated percentage of noise: 0.464\n",
            "Silhouette Score: -0.708 \n",
            "\n",
            "epsilon: 4.7\n",
            "min_samples: 8\n",
            "Estimated number of clusters: 147\n",
            "Estimated number of noise points: 22079\n",
            "Estimated percentage of noise: 0.253\n",
            "Silhouette Score: -0.736 \n",
            "\n",
            "epsilon: 5.8\n",
            "min_samples: 8\n",
            "Estimated number of clusters: 96\n",
            "Estimated number of noise points: 13768\n",
            "Estimated percentage of noise: 0.158\n",
            "Silhouette Score: -0.646 \n",
            "\n",
            "epsilon: 6.8\n",
            "min_samples: 8\n",
            "Estimated number of clusters: 82\n",
            "Estimated number of noise points: 9284\n",
            "Estimated percentage of noise: 0.106\n",
            "Silhouette Score: -0.331 \n",
            "\n",
            "epsilon: 7.9\n",
            "min_samples: 8\n",
            "Estimated number of clusters: 69\n",
            "Estimated number of noise points: 6458\n",
            "Estimated percentage of noise: 0.074\n",
            "Silhouette Score: -0.120 \n",
            "\n",
            "epsilon: 8.9\n",
            "min_samples: 8\n",
            "Estimated number of clusters: 53\n",
            "Estimated number of noise points: 4740\n",
            "Estimated percentage of noise: 0.054\n",
            "Silhouette Score: -0.062 \n",
            "\n",
            "epsilon: 10.0\n",
            "min_samples: 8\n",
            "Estimated number of clusters: 49\n",
            "Estimated number of noise points: 3520\n",
            "Estimated percentage of noise: 0.040\n",
            "Silhouette Score: 0.159 \n",
            "\n",
            "epsilon: 0.5\n",
            "min_samples: 12\n",
            "Estimated number of clusters: 0\n",
            "Estimated number of noise points: 87386\n",
            "100%\n",
            "Single or No Cluster. No Silhouette Score can be footed.\n",
            "\n",
            "epsilon: 1.6\n",
            "min_samples: 12\n",
            "Estimated number of clusters: 4\n",
            "Estimated number of noise points: 87316\n",
            "Estimated percentage of noise: 0.999\n"
          ]
        },
        {
          "ename": "KeyboardInterrupt",
          "evalue": "ignored",
          "output_type": "error",
          "traceback": [
            "\u001b[0;31m---------------------------------------------------------------------------\u001b[0m",
            "\u001b[0;31mKeyboardInterrupt\u001b[0m                         Traceback (most recent call last)",
            "\u001b[0;32m<ipython-input-89-982659836412>\u001b[0m in \u001b[0;36m<module>\u001b[0;34m()\u001b[0m\n\u001b[1;32m     33\u001b[0m     \u001b[0mprint\u001b[0m\u001b[0;34m(\u001b[0m\u001b[0;34m'Estimated number of noise points: %d'\u001b[0m \u001b[0;34m%\u001b[0m \u001b[0mn_noise_\u001b[0m\u001b[0;34m)\u001b[0m\u001b[0;34m\u001b[0m\u001b[0;34m\u001b[0m\u001b[0m\n\u001b[1;32m     34\u001b[0m     \u001b[0mprint\u001b[0m\u001b[0;34m(\u001b[0m\u001b[0;34m'Estimated percentage of noise: %0.3f'\u001b[0m \u001b[0;34m%\u001b[0m \u001b[0;34m(\u001b[0m\u001b[0mn_noise_\u001b[0m \u001b[0;34m/\u001b[0m \u001b[0;34m(\u001b[0m\u001b[0mX\u001b[0m\u001b[0;34m.\u001b[0m\u001b[0mshape\u001b[0m\u001b[0;34m[\u001b[0m\u001b[0;36m0\u001b[0m\u001b[0;34m]\u001b[0m\u001b[0;34m)\u001b[0m\u001b[0;34m)\u001b[0m \u001b[0;32mif\u001b[0m \u001b[0mn_clusters_\u001b[0m \u001b[0;34m!=\u001b[0m\u001b[0;36m0\u001b[0m \u001b[0;32melse\u001b[0m \u001b[0;34m'100%'\u001b[0m\u001b[0;34m)\u001b[0m\u001b[0;34m\u001b[0m\u001b[0;34m\u001b[0m\u001b[0m\n\u001b[0;32m---> 35\u001b[0;31m     \u001b[0mprint\u001b[0m\u001b[0;34m(\u001b[0m\u001b[0;34m'Silhouette Score: %0.3f \\n'\u001b[0m \u001b[0;34m%\u001b[0m \u001b[0mmetrics\u001b[0m\u001b[0;34m.\u001b[0m\u001b[0msilhouette_score\u001b[0m\u001b[0;34m(\u001b[0m\u001b[0mX\u001b[0m\u001b[0;34m,\u001b[0m \u001b[0mlabels\u001b[0m\u001b[0;34m,\u001b[0m \u001b[0mmetric\u001b[0m\u001b[0;34m=\u001b[0m\u001b[0;34m'euclidean'\u001b[0m\u001b[0;34m)\u001b[0m \u001b[0;32mif\u001b[0m \u001b[0mn_clusters_\u001b[0m \u001b[0;34m>\u001b[0m \u001b[0;36m1\u001b[0m \u001b[0;32melse\u001b[0m \u001b[0;34m'Single or No Cluster. No Silhouette Score can be footed.\\n'\u001b[0m\u001b[0;34m)\u001b[0m\u001b[0;34m\u001b[0m\u001b[0;34m\u001b[0m\u001b[0m\n\u001b[0m\u001b[1;32m     36\u001b[0m \u001b[0;34m\u001b[0m\u001b[0m\n\u001b[1;32m     37\u001b[0m     \u001b[0;31m#calculer score silhouette avec indiv en dehors de -1\u001b[0m\u001b[0;34m\u001b[0m\u001b[0;34m\u001b[0m\u001b[0;34m\u001b[0m\u001b[0m\n",
            "\u001b[0;32m/usr/local/lib/python3.7/dist-packages/sklearn/utils/validation.py\u001b[0m in \u001b[0;36minner_f\u001b[0;34m(*args, **kwargs)\u001b[0m\n\u001b[1;32m     70\u001b[0m                           FutureWarning)\n\u001b[1;32m     71\u001b[0m         \u001b[0mkwargs\u001b[0m\u001b[0;34m.\u001b[0m\u001b[0mupdate\u001b[0m\u001b[0;34m(\u001b[0m\u001b[0;34m{\u001b[0m\u001b[0mk\u001b[0m\u001b[0;34m:\u001b[0m \u001b[0marg\u001b[0m \u001b[0;32mfor\u001b[0m \u001b[0mk\u001b[0m\u001b[0;34m,\u001b[0m \u001b[0marg\u001b[0m \u001b[0;32min\u001b[0m \u001b[0mzip\u001b[0m\u001b[0;34m(\u001b[0m\u001b[0msig\u001b[0m\u001b[0;34m.\u001b[0m\u001b[0mparameters\u001b[0m\u001b[0;34m,\u001b[0m \u001b[0margs\u001b[0m\u001b[0;34m)\u001b[0m\u001b[0;34m}\u001b[0m\u001b[0;34m)\u001b[0m\u001b[0;34m\u001b[0m\u001b[0;34m\u001b[0m\u001b[0m\n\u001b[0;32m---> 72\u001b[0;31m         \u001b[0;32mreturn\u001b[0m \u001b[0mf\u001b[0m\u001b[0;34m(\u001b[0m\u001b[0;34m**\u001b[0m\u001b[0mkwargs\u001b[0m\u001b[0;34m)\u001b[0m\u001b[0;34m\u001b[0m\u001b[0;34m\u001b[0m\u001b[0m\n\u001b[0m\u001b[1;32m     73\u001b[0m     \u001b[0;32mreturn\u001b[0m \u001b[0minner_f\u001b[0m\u001b[0;34m\u001b[0m\u001b[0;34m\u001b[0m\u001b[0m\n\u001b[1;32m     74\u001b[0m \u001b[0;34m\u001b[0m\u001b[0m\n",
            "\u001b[0;32m/usr/local/lib/python3.7/dist-packages/sklearn/metrics/cluster/_unsupervised.py\u001b[0m in \u001b[0;36msilhouette_score\u001b[0;34m(X, labels, metric, sample_size, random_state, **kwds)\u001b[0m\n\u001b[1;32m    115\u001b[0m         \u001b[0;32melse\u001b[0m\u001b[0;34m:\u001b[0m\u001b[0;34m\u001b[0m\u001b[0;34m\u001b[0m\u001b[0m\n\u001b[1;32m    116\u001b[0m             \u001b[0mX\u001b[0m\u001b[0;34m,\u001b[0m \u001b[0mlabels\u001b[0m \u001b[0;34m=\u001b[0m \u001b[0mX\u001b[0m\u001b[0;34m[\u001b[0m\u001b[0mindices\u001b[0m\u001b[0;34m]\u001b[0m\u001b[0;34m,\u001b[0m \u001b[0mlabels\u001b[0m\u001b[0;34m[\u001b[0m\u001b[0mindices\u001b[0m\u001b[0;34m]\u001b[0m\u001b[0;34m\u001b[0m\u001b[0;34m\u001b[0m\u001b[0m\n\u001b[0;32m--> 117\u001b[0;31m     \u001b[0;32mreturn\u001b[0m \u001b[0mnp\u001b[0m\u001b[0;34m.\u001b[0m\u001b[0mmean\u001b[0m\u001b[0;34m(\u001b[0m\u001b[0msilhouette_samples\u001b[0m\u001b[0;34m(\u001b[0m\u001b[0mX\u001b[0m\u001b[0;34m,\u001b[0m \u001b[0mlabels\u001b[0m\u001b[0;34m,\u001b[0m \u001b[0mmetric\u001b[0m\u001b[0;34m=\u001b[0m\u001b[0mmetric\u001b[0m\u001b[0;34m,\u001b[0m \u001b[0;34m**\u001b[0m\u001b[0mkwds\u001b[0m\u001b[0;34m)\u001b[0m\u001b[0;34m)\u001b[0m\u001b[0;34m\u001b[0m\u001b[0;34m\u001b[0m\u001b[0m\n\u001b[0m\u001b[1;32m    118\u001b[0m \u001b[0;34m\u001b[0m\u001b[0m\n\u001b[1;32m    119\u001b[0m \u001b[0;34m\u001b[0m\u001b[0m\n",
            "\u001b[0;32m/usr/local/lib/python3.7/dist-packages/sklearn/utils/validation.py\u001b[0m in \u001b[0;36minner_f\u001b[0;34m(*args, **kwargs)\u001b[0m\n\u001b[1;32m     70\u001b[0m                           FutureWarning)\n\u001b[1;32m     71\u001b[0m         \u001b[0mkwargs\u001b[0m\u001b[0;34m.\u001b[0m\u001b[0mupdate\u001b[0m\u001b[0;34m(\u001b[0m\u001b[0;34m{\u001b[0m\u001b[0mk\u001b[0m\u001b[0;34m:\u001b[0m \u001b[0marg\u001b[0m \u001b[0;32mfor\u001b[0m \u001b[0mk\u001b[0m\u001b[0;34m,\u001b[0m \u001b[0marg\u001b[0m \u001b[0;32min\u001b[0m \u001b[0mzip\u001b[0m\u001b[0;34m(\u001b[0m\u001b[0msig\u001b[0m\u001b[0;34m.\u001b[0m\u001b[0mparameters\u001b[0m\u001b[0;34m,\u001b[0m \u001b[0margs\u001b[0m\u001b[0;34m)\u001b[0m\u001b[0;34m}\u001b[0m\u001b[0;34m)\u001b[0m\u001b[0;34m\u001b[0m\u001b[0;34m\u001b[0m\u001b[0m\n\u001b[0;32m---> 72\u001b[0;31m         \u001b[0;32mreturn\u001b[0m \u001b[0mf\u001b[0m\u001b[0;34m(\u001b[0m\u001b[0;34m**\u001b[0m\u001b[0mkwargs\u001b[0m\u001b[0;34m)\u001b[0m\u001b[0;34m\u001b[0m\u001b[0;34m\u001b[0m\u001b[0m\n\u001b[0m\u001b[1;32m     73\u001b[0m     \u001b[0;32mreturn\u001b[0m \u001b[0minner_f\u001b[0m\u001b[0;34m\u001b[0m\u001b[0;34m\u001b[0m\u001b[0m\n\u001b[1;32m     74\u001b[0m \u001b[0;34m\u001b[0m\u001b[0m\n",
            "\u001b[0;32m/usr/local/lib/python3.7/dist-packages/sklearn/metrics/cluster/_unsupervised.py\u001b[0m in \u001b[0;36msilhouette_samples\u001b[0;34m(X, labels, metric, **kwds)\u001b[0m\n\u001b[1;32m    233\u001b[0m                                     labels=labels, label_freqs=label_freqs)\n\u001b[1;32m    234\u001b[0m     results = zip(*pairwise_distances_chunked(X, reduce_func=reduce_func,\n\u001b[0;32m--> 235\u001b[0;31m                                               **kwds))\n\u001b[0m\u001b[1;32m    236\u001b[0m     \u001b[0mintra_clust_dists\u001b[0m\u001b[0;34m,\u001b[0m \u001b[0minter_clust_dists\u001b[0m \u001b[0;34m=\u001b[0m \u001b[0mresults\u001b[0m\u001b[0;34m\u001b[0m\u001b[0;34m\u001b[0m\u001b[0m\n\u001b[1;32m    237\u001b[0m     \u001b[0mintra_clust_dists\u001b[0m \u001b[0;34m=\u001b[0m \u001b[0mnp\u001b[0m\u001b[0;34m.\u001b[0m\u001b[0mconcatenate\u001b[0m\u001b[0;34m(\u001b[0m\u001b[0mintra_clust_dists\u001b[0m\u001b[0;34m)\u001b[0m\u001b[0;34m\u001b[0m\u001b[0;34m\u001b[0m\u001b[0m\n",
            "\u001b[0;32m/usr/local/lib/python3.7/dist-packages/sklearn/metrics/pairwise.py\u001b[0m in \u001b[0;36mpairwise_distances_chunked\u001b[0;34m(X, Y, reduce_func, metric, n_jobs, working_memory, **kwds)\u001b[0m\n\u001b[1;32m   1615\u001b[0m             \u001b[0mX_chunk\u001b[0m \u001b[0;34m=\u001b[0m \u001b[0mX\u001b[0m\u001b[0;34m[\u001b[0m\u001b[0msl\u001b[0m\u001b[0;34m]\u001b[0m\u001b[0;34m\u001b[0m\u001b[0;34m\u001b[0m\u001b[0m\n\u001b[1;32m   1616\u001b[0m         D_chunk = pairwise_distances(X_chunk, Y, metric=metric,\n\u001b[0;32m-> 1617\u001b[0;31m                                      n_jobs=n_jobs, **kwds)\n\u001b[0m\u001b[1;32m   1618\u001b[0m         if ((X is Y or Y is None)\n\u001b[1;32m   1619\u001b[0m                 \u001b[0;32mand\u001b[0m \u001b[0mPAIRWISE_DISTANCE_FUNCTIONS\u001b[0m\u001b[0;34m.\u001b[0m\u001b[0mget\u001b[0m\u001b[0;34m(\u001b[0m\u001b[0mmetric\u001b[0m\u001b[0;34m,\u001b[0m \u001b[0;32mNone\u001b[0m\u001b[0;34m)\u001b[0m\u001b[0;34m\u001b[0m\u001b[0;34m\u001b[0m\u001b[0m\n",
            "\u001b[0;32m/usr/local/lib/python3.7/dist-packages/sklearn/utils/validation.py\u001b[0m in \u001b[0;36minner_f\u001b[0;34m(*args, **kwargs)\u001b[0m\n\u001b[1;32m     70\u001b[0m                           FutureWarning)\n\u001b[1;32m     71\u001b[0m         \u001b[0mkwargs\u001b[0m\u001b[0;34m.\u001b[0m\u001b[0mupdate\u001b[0m\u001b[0;34m(\u001b[0m\u001b[0;34m{\u001b[0m\u001b[0mk\u001b[0m\u001b[0;34m:\u001b[0m \u001b[0marg\u001b[0m \u001b[0;32mfor\u001b[0m \u001b[0mk\u001b[0m\u001b[0;34m,\u001b[0m \u001b[0marg\u001b[0m \u001b[0;32min\u001b[0m \u001b[0mzip\u001b[0m\u001b[0;34m(\u001b[0m\u001b[0msig\u001b[0m\u001b[0;34m.\u001b[0m\u001b[0mparameters\u001b[0m\u001b[0;34m,\u001b[0m \u001b[0margs\u001b[0m\u001b[0;34m)\u001b[0m\u001b[0;34m}\u001b[0m\u001b[0;34m)\u001b[0m\u001b[0;34m\u001b[0m\u001b[0;34m\u001b[0m\u001b[0m\n\u001b[0;32m---> 72\u001b[0;31m         \u001b[0;32mreturn\u001b[0m \u001b[0mf\u001b[0m\u001b[0;34m(\u001b[0m\u001b[0;34m**\u001b[0m\u001b[0mkwargs\u001b[0m\u001b[0;34m)\u001b[0m\u001b[0;34m\u001b[0m\u001b[0;34m\u001b[0m\u001b[0m\n\u001b[0m\u001b[1;32m     73\u001b[0m     \u001b[0;32mreturn\u001b[0m \u001b[0minner_f\u001b[0m\u001b[0;34m\u001b[0m\u001b[0;34m\u001b[0m\u001b[0m\n\u001b[1;32m     74\u001b[0m \u001b[0;34m\u001b[0m\u001b[0m\n",
            "\u001b[0;32m/usr/local/lib/python3.7/dist-packages/sklearn/metrics/pairwise.py\u001b[0m in \u001b[0;36mpairwise_distances\u001b[0;34m(X, Y, metric, n_jobs, force_all_finite, **kwds)\u001b[0m\n\u001b[1;32m   1777\u001b[0m         \u001b[0mfunc\u001b[0m \u001b[0;34m=\u001b[0m \u001b[0mpartial\u001b[0m\u001b[0;34m(\u001b[0m\u001b[0mdistance\u001b[0m\u001b[0;34m.\u001b[0m\u001b[0mcdist\u001b[0m\u001b[0;34m,\u001b[0m \u001b[0mmetric\u001b[0m\u001b[0;34m=\u001b[0m\u001b[0mmetric\u001b[0m\u001b[0;34m,\u001b[0m \u001b[0;34m**\u001b[0m\u001b[0mkwds\u001b[0m\u001b[0;34m)\u001b[0m\u001b[0;34m\u001b[0m\u001b[0;34m\u001b[0m\u001b[0m\n\u001b[1;32m   1778\u001b[0m \u001b[0;34m\u001b[0m\u001b[0m\n\u001b[0;32m-> 1779\u001b[0;31m     \u001b[0;32mreturn\u001b[0m \u001b[0m_parallel_pairwise\u001b[0m\u001b[0;34m(\u001b[0m\u001b[0mX\u001b[0m\u001b[0;34m,\u001b[0m \u001b[0mY\u001b[0m\u001b[0;34m,\u001b[0m \u001b[0mfunc\u001b[0m\u001b[0;34m,\u001b[0m \u001b[0mn_jobs\u001b[0m\u001b[0;34m,\u001b[0m \u001b[0;34m**\u001b[0m\u001b[0mkwds\u001b[0m\u001b[0;34m)\u001b[0m\u001b[0;34m\u001b[0m\u001b[0;34m\u001b[0m\u001b[0m\n\u001b[0m\u001b[1;32m   1780\u001b[0m \u001b[0;34m\u001b[0m\u001b[0m\n\u001b[1;32m   1781\u001b[0m \u001b[0;34m\u001b[0m\u001b[0m\n",
            "\u001b[0;32m/usr/local/lib/python3.7/dist-packages/sklearn/metrics/pairwise.py\u001b[0m in \u001b[0;36m_parallel_pairwise\u001b[0;34m(X, Y, func, n_jobs, **kwds)\u001b[0m\n\u001b[1;32m   1358\u001b[0m \u001b[0;34m\u001b[0m\u001b[0m\n\u001b[1;32m   1359\u001b[0m     \u001b[0;32mif\u001b[0m \u001b[0meffective_n_jobs\u001b[0m\u001b[0;34m(\u001b[0m\u001b[0mn_jobs\u001b[0m\u001b[0;34m)\u001b[0m \u001b[0;34m==\u001b[0m \u001b[0;36m1\u001b[0m\u001b[0;34m:\u001b[0m\u001b[0;34m\u001b[0m\u001b[0;34m\u001b[0m\u001b[0m\n\u001b[0;32m-> 1360\u001b[0;31m         \u001b[0;32mreturn\u001b[0m \u001b[0mfunc\u001b[0m\u001b[0;34m(\u001b[0m\u001b[0mX\u001b[0m\u001b[0;34m,\u001b[0m \u001b[0mY\u001b[0m\u001b[0;34m,\u001b[0m \u001b[0;34m**\u001b[0m\u001b[0mkwds\u001b[0m\u001b[0;34m)\u001b[0m\u001b[0;34m\u001b[0m\u001b[0;34m\u001b[0m\u001b[0m\n\u001b[0m\u001b[1;32m   1361\u001b[0m \u001b[0;34m\u001b[0m\u001b[0m\n\u001b[1;32m   1362\u001b[0m     \u001b[0;31m# enforce a threading backend to prevent data communication overhead\u001b[0m\u001b[0;34m\u001b[0m\u001b[0;34m\u001b[0m\u001b[0;34m\u001b[0m\u001b[0m\n",
            "\u001b[0;32m/usr/local/lib/python3.7/dist-packages/sklearn/utils/validation.py\u001b[0m in \u001b[0;36minner_f\u001b[0;34m(*args, **kwargs)\u001b[0m\n\u001b[1;32m     70\u001b[0m                           FutureWarning)\n\u001b[1;32m     71\u001b[0m         \u001b[0mkwargs\u001b[0m\u001b[0;34m.\u001b[0m\u001b[0mupdate\u001b[0m\u001b[0;34m(\u001b[0m\u001b[0;34m{\u001b[0m\u001b[0mk\u001b[0m\u001b[0;34m:\u001b[0m \u001b[0marg\u001b[0m \u001b[0;32mfor\u001b[0m \u001b[0mk\u001b[0m\u001b[0;34m,\u001b[0m \u001b[0marg\u001b[0m \u001b[0;32min\u001b[0m \u001b[0mzip\u001b[0m\u001b[0;34m(\u001b[0m\u001b[0msig\u001b[0m\u001b[0;34m.\u001b[0m\u001b[0mparameters\u001b[0m\u001b[0;34m,\u001b[0m \u001b[0margs\u001b[0m\u001b[0;34m)\u001b[0m\u001b[0;34m}\u001b[0m\u001b[0;34m)\u001b[0m\u001b[0;34m\u001b[0m\u001b[0;34m\u001b[0m\u001b[0m\n\u001b[0;32m---> 72\u001b[0;31m         \u001b[0;32mreturn\u001b[0m \u001b[0mf\u001b[0m\u001b[0;34m(\u001b[0m\u001b[0;34m**\u001b[0m\u001b[0mkwargs\u001b[0m\u001b[0;34m)\u001b[0m\u001b[0;34m\u001b[0m\u001b[0;34m\u001b[0m\u001b[0m\n\u001b[0m\u001b[1;32m     73\u001b[0m     \u001b[0;32mreturn\u001b[0m \u001b[0minner_f\u001b[0m\u001b[0;34m\u001b[0m\u001b[0;34m\u001b[0m\u001b[0m\n\u001b[1;32m     74\u001b[0m \u001b[0;34m\u001b[0m\u001b[0m\n",
            "\u001b[0;32m/usr/local/lib/python3.7/dist-packages/sklearn/metrics/pairwise.py\u001b[0m in \u001b[0;36meuclidean_distances\u001b[0;34m(X, Y, Y_norm_squared, squared, X_norm_squared)\u001b[0m\n\u001b[1;32m    318\u001b[0m         \u001b[0mnp\u001b[0m\u001b[0;34m.\u001b[0m\u001b[0mfill_diagonal\u001b[0m\u001b[0;34m(\u001b[0m\u001b[0mdistances\u001b[0m\u001b[0;34m,\u001b[0m \u001b[0;36m0\u001b[0m\u001b[0;34m)\u001b[0m\u001b[0;34m\u001b[0m\u001b[0;34m\u001b[0m\u001b[0m\n\u001b[1;32m    319\u001b[0m \u001b[0;34m\u001b[0m\u001b[0m\n\u001b[0;32m--> 320\u001b[0;31m     \u001b[0;32mreturn\u001b[0m \u001b[0mdistances\u001b[0m \u001b[0;32mif\u001b[0m \u001b[0msquared\u001b[0m \u001b[0;32melse\u001b[0m \u001b[0mnp\u001b[0m\u001b[0;34m.\u001b[0m\u001b[0msqrt\u001b[0m\u001b[0;34m(\u001b[0m\u001b[0mdistances\u001b[0m\u001b[0;34m,\u001b[0m \u001b[0mout\u001b[0m\u001b[0;34m=\u001b[0m\u001b[0mdistances\u001b[0m\u001b[0;34m)\u001b[0m\u001b[0;34m\u001b[0m\u001b[0;34m\u001b[0m\u001b[0m\n\u001b[0m\u001b[1;32m    321\u001b[0m \u001b[0;34m\u001b[0m\u001b[0m\n\u001b[1;32m    322\u001b[0m \u001b[0;34m\u001b[0m\u001b[0m\n",
            "\u001b[0;31mKeyboardInterrupt\u001b[0m: "
          ]
        }
      ],
      "source": [
        "#DBSCAN : Utilise la notion de densité pour regrouper les données\n",
        "#cf Scikit Learn - faire varier l'epsilon\n",
        "\n",
        "#=> Conclure sur la méthode à retenir\n",
        "\n",
        "#epsilon : rayon (entre non-core et core sample)\n",
        "#min_sample : nb min d'obs non périf nécessaires pr définir cluster\n",
        "\n",
        "from sklearn.cluster import DBSCAN\n",
        "from sklearn import metrics\n",
        "import numpy as np\n",
        "\n",
        "#Les données sont très denses (peu de diff entre clusters). \n",
        "#Pas de forme particulière non plus (car par de phénomène géographique ou temporel derrière)\n",
        "\n",
        "min_samples_var = np.linspace(5, 20, 5)\n",
        "eps_var = np.linspace(0.5, 10, 10)\n",
        "\n",
        "for min in min_samples_var:\n",
        "  for eps in eps_var: \n",
        "    db = DBSCAN(eps=eps, min_samples=min).fit(X)\n",
        "    \n",
        "    print('epsilon: %0.1f' % eps)\n",
        "    print('min_samples: %d' % min)\n",
        "\n",
        "    # measure the performance of dbscan algo\n",
        "    #calculating the number of clusters\n",
        "    labels = db.labels_\n",
        "    n_clusters_ = len(set(labels)) - (1 if -1 in labels else 0)\n",
        "    n_noise_ = list(labels).count(-1)\n",
        "    \n",
        "    print('Estimated number of clusters: %d' % n_clusters_)\n",
        "    print('Estimated number of noise points: %d' % n_noise_)\n",
        "    print('Estimated percentage of noise: %0.3f' % (n_noise_ / (X.shape[0])) if n_clusters_ !=0 else '100%')\n",
        "    print('Silhouette Score: %0.3f \\n' % metrics.silhouette_score(X, labels, metric='euclidean') if n_clusters_ > 1 else 'Single or No Cluster. No Silhouette Score can be footed.\\n')\n",
        "    \n",
        "    #calculer score silhouette avec indiv en dehors de -1\n",
        "    #calculer population bruit / pop globale\n",
        "    #combinaison qui maximise score silhouette et min bruit\n",
        "\n",
        "\n",
        "#important : possible de faire varier la distance à considérer \n",
        "\n",
        "#(possible ici d'encoder les variables catego puis de calculer une distance non euclidienne sur ces colonnes, \n",
        "#et euclidiennes sur les var numériques). \n",
        "\n",
        "#ON peut utiliser aussi K-prototype : https://antonsruberts.github.io/kproto-audience/#:~:text=K%2DPrototypes%20is%20a%20lesser,the%20number%20of%20matching%20categories.\n",
        "\n",
        "#A la différence de K-means qui possède des paramètres appris (le prédict est donc possible). \n",
        "#DBSCAN et CAH procède de manière itérative pour obtenir les clusters, impossible donc de faire un predict (nécessaire de fit à chaque fois de)\n",
        "#Alternative : Résultats de DBSCAN ou CAH utilisés pour définir des labels et transformer en pb supervisé. On peut alors entrainer un modèle sur cette base et prédire des nouvelles observations. \n",
        "\n",
        "#Astuce pour faire de la stratification avec variable temporelle : \n",
        "#Discrétiser la variable temporelle pour obtenir les catégories temporelles = encodage pour obtenir un identifiant unique\n",
        "#https://scikit-learn.org/stable/modules/generated/sklearn.preprocessing.KBinsDiscretizer.html\n",
        "#Puis faire un tirage (qcut), puis stratification  "
      ]
    },
    {
      "cell_type": "code",
      "execution_count": null,
      "metadata": {
        "id": "NujhWXkEcOxE"
      },
      "outputs": [],
      "source": [
        "#Cluster statistical analysis\n",
        "db_labels = db.labels_\n",
        "\n",
        "# #Group by cluster labels\n",
        "data[\"db_labels\"] = db_labels\n",
        "db_clusters_means = data.groupby(\"db_labels\").mean().reset_index()\n",
        "db_clusters_means"
      ]
    },
    {
      "cell_type": "markdown",
      "metadata": {
        "id": "cXbVZ6wNR_aa"
      },
      "source": [
        "##Stability Analysis"
      ]
    },
    {
      "cell_type": "markdown",
      "metadata": {
        "id": "GPva9a0gsFPb"
      },
      "source": [
        "Initialisation stability (Warning : import Stabilité à l'initialisation (important de ne pas fixer random state en production pour permettre à l'algo de converger de façon optimale). "
      ]
    },
    {
      "cell_type": "code",
      "execution_count": null,
      "metadata": {
        "colab": {
          "base_uri": "https://localhost:8080/"
        },
        "id": "4WIWWIjMuN3h",
        "outputId": "15d0491c-13ce-40ba-a142-e238e5d1a4e4"
      },
      "outputs": [
        {
          "name": "stdout",
          "output_type": "stream",
          "text": [
            "Drive already mounted at /content/drive; to attempt to forcibly remount, call drive.mount(\"/content/drive\", force_remount=True).\n",
            "______________________________________________________\n",
            "Dataset Creation in progress...\n",
            "Time duration : 3.36s\n"
          ]
        }
      ],
      "source": [
        "#Initial period of 12 months\n",
        "data_init = custom.make_dataset(initial=True)"
      ]
    },
    {
      "cell_type": "code",
      "execution_count": null,
      "metadata": {
        "colab": {
          "base_uri": "https://localhost:8080/"
        },
        "id": "_l-cT55H7vyv",
        "outputId": "6a1bd76c-f6df-4e1e-e0b5-630d0b336a09"
      },
      "outputs": [
        {
          "name": "stdout",
          "output_type": "stream",
          "text": [
            "Analysis period is 19 months long.\n"
          ]
        }
      ],
      "source": [
        "orders = orders_raw.loc[orders_raw.order_status == \"delivered\", \n",
        "                    \"order_purchase_timestamp\"]\n",
        "orders = pd.to_datetime(orders)\n",
        "time_delta = int((orders.max() - orders.min())/np.timedelta64(1,'M'))\n",
        "print(\"Analysis period is {} months long.\".format(time_delta))"
      ]
    },
    {
      "cell_type": "code",
      "execution_count": null,
      "metadata": {
        "id": "fJgGM7Z_8aAD"
      },
      "outputs": [],
      "source": [
        "K = 6"
      ]
    },
    {
      "cell_type": "markdown",
      "metadata": {
        "id": "6anC7FikIOq8"
      },
      "source": [
        "b : data\n",
        "\n",
        "c : period"
      ]
    },
    {
      "cell_type": "code",
      "execution_count": null,
      "metadata": {
        "colab": {
          "base_uri": "https://localhost:8080/"
        },
        "id": "Awpfw_tmCPpf",
        "outputId": "0db142fd-5929-4255-e366-f21fdfe0cd7e"
      },
      "outputs": [
        {
          "data": {
            "text/plain": [
              "Pipeline(steps=[('kmeans', KMeans(n_clusters=6, random_state=42))])"
            ]
          },
          "execution_count": 94,
          "metadata": {},
          "output_type": "execute_result"
        }
      ],
      "source": [
        "# Kmeans on initial period (on data b0 --> train c0 i.e algo delivered to the client):\n",
        "scaler = MinMaxScaler()\n",
        "data_init = pd.DataFrame(scaler.fit_transform(data_init.values), columns=data_init.columns, index=data_init.index)\n",
        "\n",
        "c0_cluster = Pipeline([(\"kmeans\", KMeans(K, random_state=42))])\n",
        "c0_cluster.fit(data_init)"
      ]
    },
    {
      "cell_type": "code",
      "execution_count": null,
      "metadata": {
        "colab": {
          "base_uri": "https://localhost:8080/",
          "height": 524
        },
        "id": "srwyvONSSC8V",
        "outputId": "e629be8d-5465-4914-a606-7e54f03dc154"
      },
      "outputs": [
        {
          "name": "stdout",
          "output_type": "stream",
          "text": [
            "Drive already mounted at /content/drive; to attempt to forcibly remount, call drive.mount(\"/content/drive\", force_remount=True).\n",
            "______________________________________________________\n",
            "Dataset Creation in progress...\n",
            "Time duration : 3.46s\n"
          ]
        },
        {
          "data": {
            "text/html": [
              "<div>\n",
              "<style scoped>\n",
              "    .dataframe tbody tr th:only-of-type {\n",
              "        vertical-align: middle;\n",
              "    }\n",
              "\n",
              "    .dataframe tbody tr th {\n",
              "        vertical-align: top;\n",
              "    }\n",
              "\n",
              "    .dataframe thead th {\n",
              "        text-align: right;\n",
              "    }\n",
              "</style>\n",
              "<table border=\"1\" class=\"dataframe\">\n",
              "  <thead>\n",
              "    <tr style=\"text-align: right;\">\n",
              "      <th></th>\n",
              "      <th>delivery_timing</th>\n",
              "      <th>review_score</th>\n",
              "      <th>order_item_id</th>\n",
              "      <th>recency</th>\n",
              "      <th>monetary</th>\n",
              "    </tr>\n",
              "    <tr>\n",
              "      <th>customer_unique_id</th>\n",
              "      <th></th>\n",
              "      <th></th>\n",
              "      <th></th>\n",
              "      <th></th>\n",
              "      <th></th>\n",
              "    </tr>\n",
              "  </thead>\n",
              "  <tbody>\n",
              "    <tr>\n",
              "      <th>0000f46a3911fa3c0805444483337064</th>\n",
              "      <td>25.0</td>\n",
              "      <td>3.0</td>\n",
              "      <td>1.0</td>\n",
              "      <td>332.0</td>\n",
              "      <td>86.22</td>\n",
              "    </tr>\n",
              "    <tr>\n",
              "      <th>0000f6ccb0745a6a4b88665a16c9f078</th>\n",
              "      <td>20.0</td>\n",
              "      <td>4.0</td>\n",
              "      <td>1.0</td>\n",
              "      <td>116.0</td>\n",
              "      <td>43.62</td>\n",
              "    </tr>\n",
              "    <tr>\n",
              "      <th>0004aac84e0df4da2b147fca70cf8255</th>\n",
              "      <td>13.0</td>\n",
              "      <td>5.0</td>\n",
              "      <td>1.0</td>\n",
              "      <td>83.0</td>\n",
              "      <td>196.89</td>\n",
              "    </tr>\n",
              "    <tr>\n",
              "      <th>0005e1862207bf6ccc02e4228effd9a0</th>\n",
              "      <td>4.0</td>\n",
              "      <td>4.0</td>\n",
              "      <td>1.0</td>\n",
              "      <td>338.0</td>\n",
              "      <td>150.12</td>\n",
              "    </tr>\n",
              "    <tr>\n",
              "      <th>0006fdc98a402fceb4eb0ee528f6a8d4</th>\n",
              "      <td>16.0</td>\n",
              "      <td>3.0</td>\n",
              "      <td>1.0</td>\n",
              "      <td>203.0</td>\n",
              "      <td>29.00</td>\n",
              "    </tr>\n",
              "    <tr>\n",
              "      <th>...</th>\n",
              "      <td>...</td>\n",
              "      <td>...</td>\n",
              "      <td>...</td>\n",
              "      <td>...</td>\n",
              "      <td>...</td>\n",
              "    </tr>\n",
              "    <tr>\n",
              "      <th>fffb09418989a0dbff854a28163e47c6</th>\n",
              "      <td>8.0</td>\n",
              "      <td>5.0</td>\n",
              "      <td>1.0</td>\n",
              "      <td>50.0</td>\n",
              "      <td>73.16</td>\n",
              "    </tr>\n",
              "    <tr>\n",
              "      <th>fffbf87b7a1a6fa8b03f081c5f51a201</th>\n",
              "      <td>18.0</td>\n",
              "      <td>5.0</td>\n",
              "      <td>1.0</td>\n",
              "      <td>40.0</td>\n",
              "      <td>167.32</td>\n",
              "    </tr>\n",
              "    <tr>\n",
              "      <th>fffea47cd6d3cc0a88bd621562a9d061</th>\n",
              "      <td>30.0</td>\n",
              "      <td>4.0</td>\n",
              "      <td>1.0</td>\n",
              "      <td>57.0</td>\n",
              "      <td>84.58</td>\n",
              "    </tr>\n",
              "    <tr>\n",
              "      <th>ffff371b4d645b6ecea244b27531430a</th>\n",
              "      <td>14.0</td>\n",
              "      <td>5.0</td>\n",
              "      <td>1.0</td>\n",
              "      <td>363.0</td>\n",
              "      <td>112.46</td>\n",
              "    </tr>\n",
              "    <tr>\n",
              "      <th>ffffd2657e2aad2907e67c3e9daecbeb</th>\n",
              "      <td>7.0</td>\n",
              "      <td>5.0</td>\n",
              "      <td>1.0</td>\n",
              "      <td>279.0</td>\n",
              "      <td>71.56</td>\n",
              "    </tr>\n",
              "  </tbody>\n",
              "</table>\n",
              "<p>46544 rows × 5 columns</p>\n",
              "</div>"
            ],
            "text/plain": [
              "                                  delivery_timing  ...  monetary\n",
              "customer_unique_id                                 ...          \n",
              "0000f46a3911fa3c0805444483337064             25.0  ...     86.22\n",
              "0000f6ccb0745a6a4b88665a16c9f078             20.0  ...     43.62\n",
              "0004aac84e0df4da2b147fca70cf8255             13.0  ...    196.89\n",
              "0005e1862207bf6ccc02e4228effd9a0              4.0  ...    150.12\n",
              "0006fdc98a402fceb4eb0ee528f6a8d4             16.0  ...     29.00\n",
              "...                                           ...  ...       ...\n",
              "fffb09418989a0dbff854a28163e47c6              8.0  ...     73.16\n",
              "fffbf87b7a1a6fa8b03f081c5f51a201             18.0  ...    167.32\n",
              "fffea47cd6d3cc0a88bd621562a9d061             30.0  ...     84.58\n",
              "ffff371b4d645b6ecea244b27531430a             14.0  ...    112.46\n",
              "ffffd2657e2aad2907e67c3e9daecbeb              7.0  ...     71.56\n",
              "\n",
              "[46544 rows x 5 columns]"
            ]
          },
          "execution_count": 95,
          "metadata": {},
          "output_type": "execute_result"
        }
      ],
      "source": [
        "custom.make_dataset(initial=False, period=1)"
      ]
    },
    {
      "cell_type": "code",
      "execution_count": null,
      "metadata": {
        "colab": {
          "base_uri": "https://localhost:8080/"
        },
        "id": "OfUf2apB8kA1",
        "outputId": "44629569-43e0-44d5-cf8d-3e94b6e4d7c7"
      },
      "outputs": [
        {
          "name": "stdout",
          "output_type": "stream",
          "text": [
            "Drive already mounted at /content/drive; to attempt to forcibly remount, call drive.mount(\"/content/drive\", force_remount=True).\n",
            "______________________________________________________\n",
            "Dataset Creation in progress...\n",
            "Time duration : 3.50s\n",
            "Drive already mounted at /content/drive; to attempt to forcibly remount, call drive.mount(\"/content/drive\", force_remount=True).\n",
            "______________________________________________________\n",
            "Dataset Creation in progress...\n",
            "Time duration : 3.60s\n",
            "Drive already mounted at /content/drive; to attempt to forcibly remount, call drive.mount(\"/content/drive\", force_remount=True).\n",
            "______________________________________________________\n",
            "Dataset Creation in progress...\n",
            "Time duration : 3.66s\n",
            "Drive already mounted at /content/drive; to attempt to forcibly remount, call drive.mount(\"/content/drive\", force_remount=True).\n",
            "______________________________________________________\n",
            "Dataset Creation in progress...\n",
            "Time duration : 3.73s\n",
            "Drive already mounted at /content/drive; to attempt to forcibly remount, call drive.mount(\"/content/drive\", force_remount=True).\n",
            "______________________________________________________\n",
            "Dataset Creation in progress...\n",
            "Time duration : 3.79s\n",
            "Drive already mounted at /content/drive; to attempt to forcibly remount, call drive.mount(\"/content/drive\", force_remount=True).\n",
            "______________________________________________________\n",
            "Dataset Creation in progress...\n",
            "Time duration : 3.91s\n"
          ]
        }
      ],
      "source": [
        "ari_score = []\n",
        "\n",
        "for p in np.arange(1,(time_delta-12),1):\n",
        "    # Create dataset for period\n",
        "    data_period = custom.make_dataset(initial=False, \n",
        "                                   period=p)\n",
        "    \n",
        "    #Standardisation\n",
        "    data_period = pd.DataFrame(scaler.transform(data_period.values), columns=data_period.columns, index=data_period.index)\n",
        "\n",
        "    #Kmeans on b_period (on data b_period --> train c_period i.e algo fitted on the updated dataset):\n",
        "    cPeriod_cluster = Pipeline([(\"kmeans\", KMeans(K, random_state=42))])\n",
        "    cPeriod_cluster.fit(data_period)\n",
        "    bData_by_cPeriod = cPeriod_cluster.predict(data_period)\n",
        "\n",
        "    #Kmeans on b_period with c0(on data b_period --> train c0 i.e algo delivered to the client):\n",
        "    bData_by_c0 = c0_cluster.predict(data_period)\n",
        "    \n",
        "    #Calculate clustering obtained with c0 (i.e algo delivered to the client)\n",
        "    #with clustering obtained with c_period (algo fitted on the updated dataset)\n",
        "    ari_p = adjusted_rand_score(bData_by_c0, bData_by_cPeriod)\n",
        "    ari_score.append([p,ari_p])"
      ]
    },
    {
      "cell_type": "code",
      "execution_count": null,
      "metadata": {
        "colab": {
          "base_uri": "https://localhost:8080/",
          "height": 516
        },
        "id": "jSip3NXFO0NS",
        "outputId": "5bacb8ee-563b-4cd9-a886-93e1519a8cc2"
      },
      "outputs": [
        {
          "data": {
            "image/png": "[encoded data removed]",
            "text/plain": [
              "<Figure size 864x576 with 1 Axes>"
            ]
          },
          "metadata": {},
          "output_type": "display_data"
        }
      ],
      "source": [
        "ari_score = pd.DataFrame(ari_score, columns=[\"periode\", \"ARI\"])\n",
        "\n",
        "# plot ARI Score\n",
        "fig = plt.figure(figsize=(12,8))\n",
        "sns.lineplot(data=ari_score, x=\"periode\", y=\"ARI\")\n",
        "plt.xlabel(\"Period (month)\")\n",
        "plt.ylabel(\"ARI Score\")\n",
        "plt.title(\"Assessing Stability of K-Means Clusterings\",\n",
        "          fontsize=18,\n",
        "          color=\"b\")\n",
        "plt.show()"
      ]
    },
    {
      "cell_type": "code",
      "execution_count": null,
      "metadata": {
        "colab": {
          "base_uri": "https://localhost:8080/",
          "height": 238
        },
        "id": "4hg6jWaO5y_a",
        "outputId": "4dd6c3bb-bd6c-44af-e487-90715aadbc68"
      },
      "outputs": [
        {
          "data": {
            "text/html": [
              "<div>\n",
              "<style scoped>\n",
              "    .dataframe tbody tr th:only-of-type {\n",
              "        vertical-align: middle;\n",
              "    }\n",
              "\n",
              "    .dataframe tbody tr th {\n",
              "        vertical-align: top;\n",
              "    }\n",
              "\n",
              "    .dataframe thead th {\n",
              "        text-align: right;\n",
              "    }\n",
              "</style>\n",
              "<table border=\"1\" class=\"dataframe\">\n",
              "  <thead>\n",
              "    <tr style=\"text-align: right;\">\n",
              "      <th></th>\n",
              "      <th>periode</th>\n",
              "      <th>ARI</th>\n",
              "    </tr>\n",
              "  </thead>\n",
              "  <tbody>\n",
              "    <tr>\n",
              "      <th>0</th>\n",
              "      <td>1</td>\n",
              "      <td>0.873270</td>\n",
              "    </tr>\n",
              "    <tr>\n",
              "      <th>1</th>\n",
              "      <td>2</td>\n",
              "      <td>0.752402</td>\n",
              "    </tr>\n",
              "    <tr>\n",
              "      <th>2</th>\n",
              "      <td>3</td>\n",
              "      <td>0.620949</td>\n",
              "    </tr>\n",
              "    <tr>\n",
              "      <th>3</th>\n",
              "      <td>4</td>\n",
              "      <td>0.602642</td>\n",
              "    </tr>\n",
              "    <tr>\n",
              "      <th>4</th>\n",
              "      <td>5</td>\n",
              "      <td>0.502661</td>\n",
              "    </tr>\n",
              "    <tr>\n",
              "      <th>5</th>\n",
              "      <td>6</td>\n",
              "      <td>0.464487</td>\n",
              "    </tr>\n",
              "  </tbody>\n",
              "</table>\n",
              "</div>"
            ],
            "text/plain": [
              "   periode       ARI\n",
              "0        1  0.873270\n",
              "1        2  0.752402\n",
              "2        3  0.620949\n",
              "3        4  0.602642\n",
              "4        5  0.502661\n",
              "5        6  0.464487"
            ]
          },
          "execution_count": 98,
          "metadata": {},
          "output_type": "execute_result"
        }
      ],
      "source": [
        "ari_score"
      ]
    },
    {
      "cell_type": "markdown",
      "metadata": {
        "id": "Wv7QKLBz5BON"
      },
      "source": [
        "CONCLUSION : \n",
        "The elbow observed on the ARI curve \n",
        "A maintenance should be performed every 3 months (training of the algo on the last dataset available) so that the clusters are aligned with "
      ]
    }
  ],
  "metadata": {
    "colab": {
      "collapsed_sections": [],
      "provenance": [],
      "include_colab_link": true
    },
    "kernelspec": {
      "display_name": "Python 3",
      "language": "python",
      "name": "python3"
    },
    "language_info": {
      "codemirror_mode": {
        "name": "ipython",
        "version": 3
      },
      "file_extension": ".py",
      "mimetype": "text/x-python",
      "name": "python",
      "nbconvert_exporter": "python",
      "pygments_lexer": "ipython3",
      "version": "3.7.4"
    },
    "toc": {
      "base_numbering": 1,
      "nav_menu": {},
      "number_sections": true,
      "sideBar": true,
      "skip_h1_title": false,
      "title_cell": "Table of Contents",
      "title_sidebar": "Contents",
      "toc_cell": false,
      "toc_position": {},
      "toc_section_display": true,
      "toc_window_display": false
    }
  },
  "nbformat": 4,
  "nbformat_minor": 0
}